{
 "cells": [
  {
   "attachments": {},
   "cell_type": "markdown",
   "metadata": {},
   "source": [
    "# <center> Data Analytics Case: School Attendance metrics<center>"
   ]
  },
  {
   "attachments": {},
   "cell_type": "markdown",
   "metadata": {},
   "source": [
    "**Project:**\n",
    "Data Analytics Case Study\n",
    "\n",
    "**Author:**\n",
    "Heber Mauro Ttito Chara\n",
    "\n",
    "**Last modification:**\n",
    "2023.01.14\n",
    "\n",
    "\n",
    "<hr style=\"height:2px;border-width:0;color:black;background-color:black\">"
   ]
  },
  {
   "attachments": {},
   "cell_type": "markdown",
   "metadata": {},
   "source": [
    "## 0. Importing libraries"
   ]
  },
  {
   "cell_type": "code",
   "execution_count": 1,
   "metadata": {},
   "outputs": [],
   "source": [
    "import numpy as np\n",
    "import pandas as pd\n",
    "import math\n",
    "import seaborn as sns\n",
    "import matplotlib.pyplot as plt\n",
    "%matplotlib inline"
   ]
  },
  {
   "cell_type": "markdown",
   "metadata": {},
   "source": [
    "## 1. Data cleaning"
   ]
  },
  {
   "cell_type": "code",
   "execution_count": 2,
   "metadata": {},
   "outputs": [],
   "source": [
    "#Import data\n",
    "df_attendance=pd.read_excel('Case_Study_-_Student_Absence_-_2022-2023_-_Oct_-_Nov.xlsx', index_col=None)\n",
    "df_enrollment=pd.read_excel('Case_Study_-_Student_Enrollment.xlsx', index_col=None, usecols=\"B:C\")"
   ]
  },
  {
   "cell_type": "code",
   "execution_count": 3,
   "metadata": {},
   "outputs": [
    {
     "data": {
      "text/html": [
       "<div>\n",
       "<style scoped>\n",
       "    .dataframe tbody tr th:only-of-type {\n",
       "        vertical-align: middle;\n",
       "    }\n",
       "\n",
       "    .dataframe tbody tr th {\n",
       "        vertical-align: top;\n",
       "    }\n",
       "\n",
       "    .dataframe thead th {\n",
       "        text-align: right;\n",
       "    }\n",
       "</style>\n",
       "<table border=\"1\" class=\"dataframe\">\n",
       "  <thead>\n",
       "    <tr style=\"text-align: right;\">\n",
       "      <th></th>\n",
       "      <th>Student ID</th>\n",
       "      <th>Student</th>\n",
       "      <th>Institution</th>\n",
       "      <th>Date</th>\n",
       "      <th>Attendance Per Day</th>\n",
       "      <th>Subjects</th>\n",
       "      <th>Absence Type</th>\n",
       "      <th>Institution Class</th>\n",
       "      <th>Education Grade</th>\n",
       "      <th>Gender</th>\n",
       "    </tr>\n",
       "  </thead>\n",
       "  <tbody>\n",
       "    <tr>\n",
       "      <th>0</th>\n",
       "      <td>83W2407401136T</td>\n",
       "      <td>Reyon</td>\n",
       "      <td>Angola</td>\n",
       "      <td>14-09-2022</td>\n",
       "      <td>NaN</td>\n",
       "      <td>Civics - 11G</td>\n",
       "      <td>NaN</td>\n",
       "      <td>Grade 11-G - Thurston &amp; Wright</td>\n",
       "      <td>Grade 11</td>\n",
       "      <td>Male</td>\n",
       "    </tr>\n",
       "    <tr>\n",
       "      <th>1</th>\n",
       "      <td>83W2407401136T</td>\n",
       "      <td>Reyon</td>\n",
       "      <td>Angola</td>\n",
       "      <td>22-09-2022</td>\n",
       "      <td>NaN</td>\n",
       "      <td>English Language- Gibson/K. Cooper</td>\n",
       "      <td>Absence - Unexcused</td>\n",
       "      <td>Grade 11-G - Thurston &amp; Wright</td>\n",
       "      <td>Grade 11</td>\n",
       "      <td>Male</td>\n",
       "    </tr>\n",
       "    <tr>\n",
       "      <th>2</th>\n",
       "      <td>83W2407401136T</td>\n",
       "      <td>Reyon</td>\n",
       "      <td>Angola</td>\n",
       "      <td>04-10-2022</td>\n",
       "      <td>Period 1 (Morning)</td>\n",
       "      <td>NaN</td>\n",
       "      <td>Absence - Unexcused</td>\n",
       "      <td>Grade 11-G - Thurston &amp; Wright</td>\n",
       "      <td>Grade 11</td>\n",
       "      <td>Male</td>\n",
       "    </tr>\n",
       "    <tr>\n",
       "      <th>3</th>\n",
       "      <td>83W2407401136T</td>\n",
       "      <td>Reyon</td>\n",
       "      <td>Angola</td>\n",
       "      <td>04-10-2022</td>\n",
       "      <td>Period 2 (Afternoon)</td>\n",
       "      <td>NaN</td>\n",
       "      <td>Absence - Unexcused</td>\n",
       "      <td>Grade 11-G - Thurston &amp; Wright</td>\n",
       "      <td>Grade 11</td>\n",
       "      <td>Male</td>\n",
       "    </tr>\n",
       "    <tr>\n",
       "      <th>4</th>\n",
       "      <td>83W2407401136T</td>\n",
       "      <td>Reyon</td>\n",
       "      <td>Angola</td>\n",
       "      <td>04-10-2022</td>\n",
       "      <td>NaN</td>\n",
       "      <td>Mathematics- Daniels</td>\n",
       "      <td>Absence - Excused</td>\n",
       "      <td>Grade 11-G - Thurston &amp; Wright</td>\n",
       "      <td>Grade 11</td>\n",
       "      <td>Male</td>\n",
       "    </tr>\n",
       "  </tbody>\n",
       "</table>\n",
       "</div>"
      ],
      "text/plain": [
       "       Student ID Student Institution        Date    Attendance Per Day  \\\n",
       "0  83W2407401136T   Reyon      Angola  14-09-2022                   NaN   \n",
       "1  83W2407401136T   Reyon      Angola  22-09-2022                   NaN   \n",
       "2  83W2407401136T   Reyon      Angola  04-10-2022    Period 1 (Morning)   \n",
       "3  83W2407401136T   Reyon      Angola  04-10-2022  Period 2 (Afternoon)   \n",
       "4  83W2407401136T   Reyon      Angola  04-10-2022                   NaN   \n",
       "\n",
       "                             Subjects         Absence Type  \\\n",
       "0                        Civics - 11G                  NaN   \n",
       "1  English Language- Gibson/K. Cooper  Absence - Unexcused   \n",
       "2                                 NaN  Absence - Unexcused   \n",
       "3                                 NaN  Absence - Unexcused   \n",
       "4                Mathematics- Daniels    Absence - Excused   \n",
       "\n",
       "                Institution Class Education Grade Gender  \n",
       "0  Grade 11-G - Thurston & Wright        Grade 11   Male  \n",
       "1  Grade 11-G - Thurston & Wright        Grade 11   Male  \n",
       "2  Grade 11-G - Thurston & Wright        Grade 11   Male  \n",
       "3  Grade 11-G - Thurston & Wright        Grade 11   Male  \n",
       "4  Grade 11-G - Thurston & Wright        Grade 11   Male  "
      ]
     },
     "execution_count": 3,
     "metadata": {},
     "output_type": "execute_result"
    }
   ],
   "source": [
    "df_attendance.head()"
   ]
  },
  {
   "cell_type": "code",
   "execution_count": 4,
   "metadata": {},
   "outputs": [
    {
     "data": {
      "text/html": [
       "<div>\n",
       "<style scoped>\n",
       "    .dataframe tbody tr th:only-of-type {\n",
       "        vertical-align: middle;\n",
       "    }\n",
       "\n",
       "    .dataframe tbody tr th {\n",
       "        vertical-align: top;\n",
       "    }\n",
       "\n",
       "    .dataframe thead th {\n",
       "        text-align: right;\n",
       "    }\n",
       "</style>\n",
       "<table border=\"1\" class=\"dataframe\">\n",
       "  <thead>\n",
       "    <tr style=\"text-align: right;\">\n",
       "      <th></th>\n",
       "      <th>Enrollment</th>\n",
       "      <th>Unnamed: 2</th>\n",
       "    </tr>\n",
       "  </thead>\n",
       "  <tbody>\n",
       "    <tr>\n",
       "      <th>0</th>\n",
       "      <td>Jamaica</td>\n",
       "      <td>887</td>\n",
       "    </tr>\n",
       "    <tr>\n",
       "      <th>1</th>\n",
       "      <td>Malaui</td>\n",
       "      <td>135</td>\n",
       "    </tr>\n",
       "    <tr>\n",
       "      <th>2</th>\n",
       "      <td>Mauricio</td>\n",
       "      <td>483</td>\n",
       "    </tr>\n",
       "    <tr>\n",
       "      <th>3</th>\n",
       "      <td>Guinea</td>\n",
       "      <td>1230</td>\n",
       "    </tr>\n",
       "    <tr>\n",
       "      <th>4</th>\n",
       "      <td>Yemen</td>\n",
       "      <td>53</td>\n",
       "    </tr>\n",
       "  </tbody>\n",
       "</table>\n",
       "</div>"
      ],
      "text/plain": [
       "  Enrollment  Unnamed: 2\n",
       "0    Jamaica         887\n",
       "1     Malaui         135\n",
       "2   Mauricio         483\n",
       "3     Guinea        1230\n",
       "4      Yemen          53"
      ]
     },
     "execution_count": 4,
     "metadata": {},
     "output_type": "execute_result"
    }
   ],
   "source": [
    "df_enrollment.head()"
   ]
  },
  {
   "cell_type": "code",
   "execution_count": 5,
   "metadata": {},
   "outputs": [],
   "source": [
    "#Rename columns\n",
    "df_enrollment.rename(columns={'Enrollment': 'Institution', 'Unnamed: 2': 'Enrollment'}, inplace=True)"
   ]
  },
  {
   "cell_type": "code",
   "execution_count": 6,
   "metadata": {},
   "outputs": [
    {
     "name": "stdout",
     "output_type": "stream",
     "text": [
      "<class 'pandas.core.frame.DataFrame'>\n",
      "RangeIndex: 173106 entries, 0 to 173105\n",
      "Data columns (total 10 columns):\n",
      " #   Column              Non-Null Count   Dtype \n",
      "---  ------              --------------   ----- \n",
      " 0   Student ID          173106 non-null  object\n",
      " 1   Student             173106 non-null  object\n",
      " 2   Institution         173052 non-null  object\n",
      " 3   Date                173106 non-null  object\n",
      " 4   Attendance Per Day  65155 non-null   object\n",
      " 5   Subjects            97415 non-null   object\n",
      " 6   Absence Type        136352 non-null  object\n",
      " 7   Institution Class   173027 non-null  object\n",
      " 8   Education Grade     173106 non-null  object\n",
      " 9   Gender              173106 non-null  object\n",
      "dtypes: object(10)\n",
      "memory usage: 13.2+ MB\n",
      "<class 'pandas.core.frame.DataFrame'>\n",
      "RangeIndex: 54 entries, 0 to 53\n",
      "Data columns (total 2 columns):\n",
      " #   Column       Non-Null Count  Dtype \n",
      "---  ------       --------------  ----- \n",
      " 0   Institution  54 non-null     object\n",
      " 1   Enrollment   54 non-null     int64 \n",
      "dtypes: int64(1), object(1)\n",
      "memory usage: 992.0+ bytes\n"
     ]
    }
   ],
   "source": [
    "#Checking variables and null values\n",
    "df_attendance.info()\n",
    "df_enrollment.info()"
   ]
  },
  {
   "attachments": {},
   "cell_type": "markdown",
   "metadata": {},
   "source": [
    "The variables Institution, Data, Attendance Per Day, Subjects, Absence Type, and Institution Class have nulls values."
   ]
  },
  {
   "attachments": {},
   "cell_type": "markdown",
   "metadata": {},
   "source": [
    "It is noted that the date variable must be in date format and not in object format."
   ]
  },
  {
   "cell_type": "code",
   "execution_count": 7,
   "metadata": {},
   "outputs": [
    {
     "name": "stdout",
     "output_type": "stream",
     "text": [
      "datetime64[ns]\n"
     ]
    }
   ],
   "source": [
    "# Change the format of 'Date' column\n",
    "df_attendance['Date']= pd.to_datetime(df_attendance['Date'])\n",
    "print(df_attendance['Date'].dtypes)\n"
   ]
  },
  {
   "cell_type": "markdown",
   "metadata": {},
   "source": [
    "### Variables analysis"
   ]
  },
  {
   "attachments": {},
   "cell_type": "markdown",
   "metadata": {},
   "source": [
    "**The spreadsheets did not came with a dictionary.** \n",
    "\n",
    "The variables will be analyzed in order to understand each one and their relationship with each other."
   ]
  },
  {
   "attachments": {},
   "cell_type": "markdown",
   "metadata": {},
   "source": [
    "**Recommendation**: The Ministry of Education should provide dictionaries of the databases because our interpretation could be inaccurate.  "
   ]
  },
  {
   "attachments": {},
   "cell_type": "markdown",
   "metadata": {},
   "source": [
    "#### Analyzing the enrollment"
   ]
  },
  {
   "cell_type": "code",
   "execution_count": 8,
   "metadata": {},
   "outputs": [
    {
     "data": {
      "image/png": "[encoded data removed]",
      "text/plain": [
       "<Figure size 432x288 with 1 Axes>"
      ]
     },
     "metadata": {
      "needs_background": "light"
     },
     "output_type": "display_data"
    }
   ],
   "source": [
    "# Analyzing the enrollment\n",
    "df_enrollment['Enrollment'].hist(bins=10) \n",
    "plt.xlabel(\"Enrollment\")\n",
    "plt.ylabel(\"Institution\")\n",
    "plt.rcParams['figure.figsize'] = [5,5] \n",
    "plt.show()"
   ]
  },
  {
   "cell_type": "code",
   "execution_count": 9,
   "metadata": {},
   "outputs": [
    {
     "data": {
      "text/html": [
       "<div>\n",
       "<style scoped>\n",
       "    .dataframe tbody tr th:only-of-type {\n",
       "        vertical-align: middle;\n",
       "    }\n",
       "\n",
       "    .dataframe tbody tr th {\n",
       "        vertical-align: top;\n",
       "    }\n",
       "\n",
       "    .dataframe thead th {\n",
       "        text-align: right;\n",
       "    }\n",
       "</style>\n",
       "<table border=\"1\" class=\"dataframe\">\n",
       "  <thead>\n",
       "    <tr style=\"text-align: right;\">\n",
       "      <th></th>\n",
       "      <th>count</th>\n",
       "      <th>mean</th>\n",
       "      <th>std</th>\n",
       "      <th>min</th>\n",
       "      <th>25%</th>\n",
       "      <th>50%</th>\n",
       "      <th>75%</th>\n",
       "      <th>max</th>\n",
       "    </tr>\n",
       "  </thead>\n",
       "  <tbody>\n",
       "    <tr>\n",
       "      <th>Enrollment</th>\n",
       "      <td>54.00</td>\n",
       "      <td>481.61</td>\n",
       "      <td>346.94</td>\n",
       "      <td>1.00</td>\n",
       "      <td>70.75</td>\n",
       "      <td>539.00</td>\n",
       "      <td>722.75</td>\n",
       "      <td>1230.00</td>\n",
       "    </tr>\n",
       "  </tbody>\n",
       "</table>\n",
       "</div>"
      ],
      "text/plain": [
       "            count    mean     std   min    25%     50%     75%      max\n",
       "Enrollment  54.00  481.61  346.94  1.00  70.75  539.00  722.75  1230.00"
      ]
     },
     "execution_count": 9,
     "metadata": {},
     "output_type": "execute_result"
    }
   ],
   "source": [
    "# Analyzing some statistics of enrollment\n",
    "df_enrollment.describe().T.apply(lambda s: s.apply('{0:.2f}'.format))"
   ]
  },
  {
   "cell_type": "code",
   "execution_count": 10,
   "metadata": {},
   "outputs": [],
   "source": [
    "# A categorical variable is created to deepen the analysis of attendance.\n",
    "df_enrollment['School_size'] = pd.cut(x=df_enrollment['Enrollment'], bins=[0, 500, 1230], \n",
    "                                labels=['small institution','non-small institution'])"
   ]
  },
  {
   "cell_type": "code",
   "execution_count": 11,
   "metadata": {},
   "outputs": [
    {
     "data": {
      "text/html": [
       "<div>\n",
       "<style scoped>\n",
       "    .dataframe tbody tr th:only-of-type {\n",
       "        vertical-align: middle;\n",
       "    }\n",
       "\n",
       "    .dataframe tbody tr th {\n",
       "        vertical-align: top;\n",
       "    }\n",
       "\n",
       "    .dataframe thead th {\n",
       "        text-align: right;\n",
       "    }\n",
       "</style>\n",
       "<table border=\"1\" class=\"dataframe\">\n",
       "  <thead>\n",
       "    <tr style=\"text-align: right;\">\n",
       "      <th></th>\n",
       "      <th>Institution</th>\n",
       "      <th>Enrollment</th>\n",
       "      <th>School_size</th>\n",
       "    </tr>\n",
       "  </thead>\n",
       "  <tbody>\n",
       "    <tr>\n",
       "      <th>0</th>\n",
       "      <td>Jamaica</td>\n",
       "      <td>887</td>\n",
       "      <td>non-small institution</td>\n",
       "    </tr>\n",
       "    <tr>\n",
       "      <th>1</th>\n",
       "      <td>Malaui</td>\n",
       "      <td>135</td>\n",
       "      <td>small institution</td>\n",
       "    </tr>\n",
       "    <tr>\n",
       "      <th>2</th>\n",
       "      <td>Mauricio</td>\n",
       "      <td>483</td>\n",
       "      <td>small institution</td>\n",
       "    </tr>\n",
       "    <tr>\n",
       "      <th>3</th>\n",
       "      <td>Guinea</td>\n",
       "      <td>1230</td>\n",
       "      <td>non-small institution</td>\n",
       "    </tr>\n",
       "    <tr>\n",
       "      <th>4</th>\n",
       "      <td>Yemen</td>\n",
       "      <td>53</td>\n",
       "      <td>small institution</td>\n",
       "    </tr>\n",
       "  </tbody>\n",
       "</table>\n",
       "</div>"
      ],
      "text/plain": [
       "  Institution  Enrollment            School_size\n",
       "0     Jamaica         887  non-small institution\n",
       "1      Malaui         135      small institution\n",
       "2    Mauricio         483      small institution\n",
       "3      Guinea        1230  non-small institution\n",
       "4       Yemen          53      small institution"
      ]
     },
     "execution_count": 11,
     "metadata": {},
     "output_type": "execute_result"
    }
   ],
   "source": [
    "df_enrollment.head()"
   ]
  },
  {
   "attachments": {},
   "cell_type": "markdown",
   "metadata": {},
   "source": [
    "The enrollment database needs to have cut-off date information. If the data needs to be updated, more or fewer students could be enrolled since enrollment is not constant. Outdated information could affect the estimation of attendance rates.\n",
    "\n",
    "**Recommendation**: Include the information's cut-off date, which should be close to the attendance information."
   ]
  },
  {
   "attachments": {},
   "cell_type": "markdown",
   "metadata": {},
   "source": [
    "#### Analyzing the attendance"
   ]
  },
  {
   "cell_type": "code",
   "execution_count": 12,
   "metadata": {},
   "outputs": [
    {
     "name": "stderr",
     "output_type": "stream",
     "text": [
      "<ipython-input-12-6aa1d84b4e8d>:2: FutureWarning: Treating datetime data as categorical rather than numeric in `.describe` is deprecated and will be removed in a future version of pandas. Specify `datetime_is_numeric=True` to silence this warning and adopt the future behavior now.\n",
      "  df_attendance.describe()\n"
     ]
    },
    {
     "data": {
      "text/html": [
       "<div>\n",
       "<style scoped>\n",
       "    .dataframe tbody tr th:only-of-type {\n",
       "        vertical-align: middle;\n",
       "    }\n",
       "\n",
       "    .dataframe tbody tr th {\n",
       "        vertical-align: top;\n",
       "    }\n",
       "\n",
       "    .dataframe thead th {\n",
       "        text-align: right;\n",
       "    }\n",
       "</style>\n",
       "<table border=\"1\" class=\"dataframe\">\n",
       "  <thead>\n",
       "    <tr style=\"text-align: right;\">\n",
       "      <th></th>\n",
       "      <th>Student ID</th>\n",
       "      <th>Student</th>\n",
       "      <th>Institution</th>\n",
       "      <th>Date</th>\n",
       "      <th>Attendance Per Day</th>\n",
       "      <th>Subjects</th>\n",
       "      <th>Absence Type</th>\n",
       "      <th>Institution Class</th>\n",
       "      <th>Education Grade</th>\n",
       "      <th>Gender</th>\n",
       "    </tr>\n",
       "  </thead>\n",
       "  <tbody>\n",
       "    <tr>\n",
       "      <th>count</th>\n",
       "      <td>173106</td>\n",
       "      <td>173106</td>\n",
       "      <td>173052</td>\n",
       "      <td>173106</td>\n",
       "      <td>65155</td>\n",
       "      <td>97415</td>\n",
       "      <td>136352</td>\n",
       "      <td>173027</td>\n",
       "      <td>173106</td>\n",
       "      <td>173106</td>\n",
       "    </tr>\n",
       "    <tr>\n",
       "      <th>unique</th>\n",
       "      <td>38665</td>\n",
       "      <td>21359</td>\n",
       "      <td>146</td>\n",
       "      <td>85</td>\n",
       "      <td>2</td>\n",
       "      <td>3949</td>\n",
       "      <td>3</td>\n",
       "      <td>1134</td>\n",
       "      <td>28</td>\n",
       "      <td>2</td>\n",
       "    </tr>\n",
       "    <tr>\n",
       "      <th>top</th>\n",
       "      <td>83W1601496548T</td>\n",
       "      <td>Shaon</td>\n",
       "      <td>Senegal</td>\n",
       "      <td>2022-08-29 00:00:00</td>\n",
       "      <td>Period 1 (Morning)</td>\n",
       "      <td>Grammar and Usage</td>\n",
       "      <td>Absence - Unexcused</td>\n",
       "      <td>Grade 7-A</td>\n",
       "      <td>Grade 8</td>\n",
       "      <td>Male</td>\n",
       "    </tr>\n",
       "    <tr>\n",
       "      <th>freq</th>\n",
       "      <td>16</td>\n",
       "      <td>411</td>\n",
       "      <td>8112</td>\n",
       "      <td>11639</td>\n",
       "      <td>33092</td>\n",
       "      <td>3177</td>\n",
       "      <td>102647</td>\n",
       "      <td>2193</td>\n",
       "      <td>22355</td>\n",
       "      <td>87188</td>\n",
       "    </tr>\n",
       "    <tr>\n",
       "      <th>first</th>\n",
       "      <td>NaN</td>\n",
       "      <td>NaN</td>\n",
       "      <td>NaN</td>\n",
       "      <td>2022-01-09 00:00:00</td>\n",
       "      <td>NaN</td>\n",
       "      <td>NaN</td>\n",
       "      <td>NaN</td>\n",
       "      <td>NaN</td>\n",
       "      <td>NaN</td>\n",
       "      <td>NaN</td>\n",
       "    </tr>\n",
       "    <tr>\n",
       "      <th>last</th>\n",
       "      <td>NaN</td>\n",
       "      <td>NaN</td>\n",
       "      <td>NaN</td>\n",
       "      <td>2023-02-01 00:00:00</td>\n",
       "      <td>NaN</td>\n",
       "      <td>NaN</td>\n",
       "      <td>NaN</td>\n",
       "      <td>NaN</td>\n",
       "      <td>NaN</td>\n",
       "      <td>NaN</td>\n",
       "    </tr>\n",
       "  </tbody>\n",
       "</table>\n",
       "</div>"
      ],
      "text/plain": [
       "            Student ID Student Institution                 Date  \\\n",
       "count           173106  173106      173052               173106   \n",
       "unique           38665   21359         146                   85   \n",
       "top     83W1601496548T   Shaon     Senegal  2022-08-29 00:00:00   \n",
       "freq                16     411        8112                11639   \n",
       "first              NaN     NaN         NaN  2022-01-09 00:00:00   \n",
       "last               NaN     NaN         NaN  2023-02-01 00:00:00   \n",
       "\n",
       "        Attendance Per Day           Subjects         Absence Type  \\\n",
       "count                65155              97415               136352   \n",
       "unique                   2               3949                    3   \n",
       "top     Period 1 (Morning)  Grammar and Usage  Absence - Unexcused   \n",
       "freq                 33092               3177               102647   \n",
       "first                  NaN                NaN                  NaN   \n",
       "last                   NaN                NaN                  NaN   \n",
       "\n",
       "       Institution Class Education Grade  Gender  \n",
       "count             173027          173106  173106  \n",
       "unique              1134              28       2  \n",
       "top            Grade 7-A         Grade 8    Male  \n",
       "freq                2193           22355   87188  \n",
       "first                NaN             NaN     NaN  \n",
       "last                 NaN             NaN     NaN  "
      ]
     },
     "execution_count": 12,
     "metadata": {},
     "output_type": "execute_result"
    }
   ],
   "source": [
    "#Summary of attendance variables\n",
    "df_attendance.describe()"
   ]
  },
  {
   "attachments": {},
   "cell_type": "markdown",
   "metadata": {},
   "source": [
    "**Review of a \"Student ID\" having only one name (\"Student\")**"
   ]
  },
  {
   "cell_type": "code",
   "execution_count": 13,
   "metadata": {},
   "outputs": [
    {
     "data": {
      "text/html": [
       "<div>\n",
       "<style scoped>\n",
       "    .dataframe tbody tr th:only-of-type {\n",
       "        vertical-align: middle;\n",
       "    }\n",
       "\n",
       "    .dataframe tbody tr th {\n",
       "        vertical-align: top;\n",
       "    }\n",
       "\n",
       "    .dataframe thead th {\n",
       "        text-align: right;\n",
       "    }\n",
       "</style>\n",
       "<table border=\"1\" class=\"dataframe\">\n",
       "  <thead>\n",
       "    <tr style=\"text-align: right;\">\n",
       "      <th></th>\n",
       "      <th>count</th>\n",
       "      <th>mean</th>\n",
       "      <th>std</th>\n",
       "      <th>min</th>\n",
       "      <th>25%</th>\n",
       "      <th>50%</th>\n",
       "      <th>75%</th>\n",
       "      <th>max</th>\n",
       "    </tr>\n",
       "  </thead>\n",
       "  <tbody>\n",
       "    <tr>\n",
       "      <th>cases</th>\n",
       "      <td>38665.00</td>\n",
       "      <td>1.00</td>\n",
       "      <td>0.00</td>\n",
       "      <td>1.00</td>\n",
       "      <td>1.00</td>\n",
       "      <td>1.00</td>\n",
       "      <td>1.00</td>\n",
       "      <td>1.00</td>\n",
       "    </tr>\n",
       "  </tbody>\n",
       "</table>\n",
       "</div>"
      ],
      "text/plain": [
       "          count  mean   std   min   25%   50%   75%   max\n",
       "cases  38665.00  1.00  0.00  1.00  1.00  1.00  1.00  1.00"
      ]
     },
     "execution_count": 13,
     "metadata": {},
     "output_type": "execute_result"
    }
   ],
   "source": [
    "# Analyzing some statistics of cases by unique id - name\n",
    "group = pd.DataFrame({'cases' : df_attendance.groupby( [ 'Student ID','Student'] ).size()}).reset_index()\n",
    "\n",
    "group2 = pd.DataFrame({'cases' : group.groupby( [ 'Student ID'] ).size()}).reset_index()\n",
    "group2.describe().T.apply(lambda s: s.apply('{0:.2f}'.format))"
   ]
  },
  {
   "attachments": {},
   "cell_type": "markdown",
   "metadata": {},
   "source": [
    "It is verified that a \"Student ID\" has a unique corresponding \"Student\" name in the provided data."
   ]
  },
  {
   "cell_type": "code",
   "execution_count": 14,
   "metadata": {},
   "outputs": [
    {
     "data": {
      "image/png": "[encoded data removed]",
      "text/plain": [
       "<Figure size 360x360 with 1 Axes>"
      ]
     },
     "metadata": {
      "needs_background": "light"
     },
     "output_type": "display_data"
    }
   ],
   "source": [
    "# Review the number of cases\n",
    "group['cases'].hist(bins=10) \n",
    "plt.xlabel(\"cases\")\n",
    "plt.ylabel(\"Student ID\")\n",
    "plt.rcParams['figure.figsize'] = [5,5] \n",
    "plt.show()"
   ]
  },
  {
   "attachments": {},
   "cell_type": "markdown",
   "metadata": {},
   "source": [
    "Contrary to expectations, all students do not have a similar number of attendance reports. It is suspected that the information provided only corresponds to a subset of students with at least one non-attendance and needs to be completed."
   ]
  },
  {
   "attachments": {},
   "cell_type": "markdown",
   "metadata": {},
   "source": [
    "**Review of \"Institution\"**"
   ]
  },
  {
   "cell_type": "code",
   "execution_count": 15,
   "metadata": {},
   "outputs": [
    {
     "data": {
      "text/plain": [
       "Senegal           8112\n",
       "Guinea            6884\n",
       "Jamaica           6710\n",
       "Níger             6422\n",
       "Argelia           6280\n",
       "                  ... \n",
       "Turquía             16\n",
       "Uzbekistán          14\n",
       "Azerbaiyán          10\n",
       "Timor Oriental      10\n",
       "Bulgaria             8\n",
       "Name: Institution, Length: 146, dtype: int64"
      ]
     },
     "execution_count": 15,
     "metadata": {},
     "output_type": "execute_result"
    }
   ],
   "source": [
    "df_attendance['Institution'].value_counts()"
   ]
  },
  {
   "attachments": {},
   "cell_type": "markdown",
   "metadata": {},
   "source": [
    "\"Institution\" appears in both bases. It identifies a unique institution and will be used as a key variable for the join."
   ]
  },
  {
   "attachments": {},
   "cell_type": "markdown",
   "metadata": {},
   "source": [
    "**Review of \"Date\"**"
   ]
  },
  {
   "cell_type": "code",
   "execution_count": 16,
   "metadata": {},
   "outputs": [
    {
     "data": {
      "text/plain": [
       "Timestamp('2022-01-09 00:00:00')"
      ]
     },
     "metadata": {},
     "output_type": "display_data"
    },
    {
     "data": {
      "text/plain": [
       "Timestamp('2023-02-01 00:00:00')"
      ]
     },
     "metadata": {},
     "output_type": "display_data"
    }
   ],
   "source": [
    "#First and last day\n",
    "display(df_attendance.Date.min())\n",
    "display(df_attendance.Date.max())"
   ]
  },
  {
   "cell_type": "code",
   "execution_count": 17,
   "metadata": {},
   "outputs": [
    {
     "data": {
      "text/plain": [
       "2022-08-29    11639\n",
       "2022-09-28     5965\n",
       "2022-09-22     5573\n",
       "2022-05-09     5515\n",
       "2022-08-30     4640\n",
       "              ...  \n",
       "2022-12-14        1\n",
       "2022-12-21        1\n",
       "2022-12-28        1\n",
       "2022-12-15        1\n",
       "2022-09-12        1\n",
       "Name: Date, Length: 85, dtype: int64"
      ]
     },
     "execution_count": 17,
     "metadata": {},
     "output_type": "execute_result"
    }
   ],
   "source": [
    "df_attendance['Date'].value_counts()"
   ]
  },
  {
   "attachments": {},
   "cell_type": "markdown",
   "metadata": {},
   "source": [
    "It is observed that attendance records are from January 09, 2022, to February 01, 2023. However, the exercise asks for analyzing the last three months, from September to November. These are probably registration errors."
   ]
  },
  {
   "cell_type": "code",
   "execution_count": 18,
   "metadata": {},
   "outputs": [],
   "source": [
    "#Extracting the month for later use\n",
    "df_attendance['Month']=pd.DatetimeIndex(df_attendance['Date']).month\n",
    "df_attendance['Year']=pd.DatetimeIndex(df_attendance['Date']).year"
   ]
  },
  {
   "cell_type": "code",
   "execution_count": 19,
   "metadata": {},
   "outputs": [
    {
     "data": {
      "image/png": "[encoded data removed]",
      "text/plain": [
       "<Figure size 360x360 with 1 Axes>"
      ]
     },
     "metadata": {},
     "output_type": "display_data"
    }
   ],
   "source": [
    "# Analyzing absence type\n",
    "sns.set_style('whitegrid')\n",
    "ax=sns.countplot(x='Month',data=df_attendance,palette='RdBu_r')"
   ]
  },
  {
   "attachments": {},
   "cell_type": "markdown",
   "metadata": {},
   "source": [
    "Suspicions of recording errors increased since there were very few records between December and July."
   ]
  },
  {
   "cell_type": "code",
   "execution_count": 20,
   "metadata": {},
   "outputs": [
    {
     "name": "stdout",
     "output_type": "stream",
     "text": [
      "The number of recorded attendance records decreased from  173106  to  93714 .\n"
     ]
    }
   ],
   "source": [
    "# Filtering the months of analysis\n",
    "tam1 = df_attendance.shape\n",
    "df_attendance=df_attendance[(df_attendance['Month']>=9)&(df_attendance['Month']<=11)].reset_index()\n",
    "del df_attendance['index']\n",
    "tam2=df_attendance.shape\n",
    "\n",
    "print(\"The number of recorded attendance records decreased from \", tam1[0],\" to \", tam2[0],\".\")\n"
   ]
  },
  {
   "attachments": {},
   "cell_type": "markdown",
   "metadata": {},
   "source": [
    "**Review of \"Attendance per day\", \"Absence Type\" and their relation**"
   ]
  },
  {
   "cell_type": "code",
   "execution_count": 21,
   "metadata": {},
   "outputs": [
    {
     "data": {
      "text/plain": [
       "Period 1 (Morning)      15658\n",
       "Period 2 (Afternoon)    15485\n",
       "Name: Attendance Per Day, dtype: int64"
      ]
     },
     "execution_count": 21,
     "metadata": {},
     "output_type": "execute_result"
    }
   ],
   "source": [
    "#Values of Attendance per day\n",
    "df_attendance['Attendance Per Day'].value_counts()"
   ]
  },
  {
   "cell_type": "code",
   "execution_count": 22,
   "metadata": {},
   "outputs": [
    {
     "data": {
      "text/plain": [
       "Absence - Unexcused    55611\n",
       "Absence - Excused      18812\n",
       "Late                    1571\n",
       "Name: Absence Type, dtype: int64"
      ]
     },
     "execution_count": 22,
     "metadata": {},
     "output_type": "execute_result"
    }
   ],
   "source": [
    "#Values of Absence Type\n",
    "df_attendance['Absence Type'].value_counts()"
   ]
  },
  {
   "cell_type": "code",
   "execution_count": 23,
   "metadata": {},
   "outputs": [
    {
     "data": {
      "text/html": [
       "<div>\n",
       "<style scoped>\n",
       "    .dataframe tbody tr th:only-of-type {\n",
       "        vertical-align: middle;\n",
       "    }\n",
       "\n",
       "    .dataframe tbody tr th {\n",
       "        vertical-align: top;\n",
       "    }\n",
       "\n",
       "    .dataframe thead th {\n",
       "        text-align: right;\n",
       "    }\n",
       "</style>\n",
       "<table border=\"1\" class=\"dataframe\">\n",
       "  <thead>\n",
       "    <tr style=\"text-align: right;\">\n",
       "      <th>Absence Type</th>\n",
       "      <th>Absence - Excused</th>\n",
       "      <th>Absence - Unexcused</th>\n",
       "      <th>Late</th>\n",
       "      <th>NaN</th>\n",
       "    </tr>\n",
       "    <tr>\n",
       "      <th>Attendance Per Day</th>\n",
       "      <th></th>\n",
       "      <th></th>\n",
       "      <th></th>\n",
       "      <th></th>\n",
       "    </tr>\n",
       "  </thead>\n",
       "  <tbody>\n",
       "    <tr>\n",
       "      <th>Period 1 (Morning)</th>\n",
       "      <td>5722</td>\n",
       "      <td>8321</td>\n",
       "      <td>439</td>\n",
       "      <td>1176</td>\n",
       "    </tr>\n",
       "    <tr>\n",
       "      <th>Period 2 (Afternoon)</th>\n",
       "      <td>5645</td>\n",
       "      <td>8165</td>\n",
       "      <td>159</td>\n",
       "      <td>1516</td>\n",
       "    </tr>\n",
       "    <tr>\n",
       "      <th>NaN</th>\n",
       "      <td>7445</td>\n",
       "      <td>39125</td>\n",
       "      <td>973</td>\n",
       "      <td>15028</td>\n",
       "    </tr>\n",
       "  </tbody>\n",
       "</table>\n",
       "</div>"
      ],
      "text/plain": [
       "Absence Type          Absence - Excused  Absence - Unexcused  Late    NaN\n",
       "Attendance Per Day                                                       \n",
       "Period 1 (Morning)                 5722                 8321   439   1176\n",
       "Period 2 (Afternoon)               5645                 8165   159   1516\n",
       "NaN                                7445                39125   973  15028"
      ]
     },
     "execution_count": 23,
     "metadata": {},
     "output_type": "execute_result"
    }
   ],
   "source": [
    "df_attendance.groupby(['Attendance Per Day', 'Absence Type'], dropna=False).size().unstack('Absence Type')"
   ]
  },
  {
   "attachments": {},
   "cell_type": "markdown",
   "metadata": {},
   "source": [
    "No relationship between the variables Attendance Per Day and Absence Type was identified. \n",
    "\n",
    "The variable Attendance Per Day has too many missing values (60% +); therefore, it is recommended to refrain from using it in this analysis. "
   ]
  },
  {
   "cell_type": "code",
   "execution_count": 24,
   "metadata": {},
   "outputs": [
    {
     "data": {
      "text/plain": [
       "Absence Type\n",
       "Absence - Excused      18812\n",
       "Absence - Unexcused    55611\n",
       "Late                    1571\n",
       "NaN                    17720\n",
       "dtype: int64"
      ]
     },
     "execution_count": 24,
     "metadata": {},
     "output_type": "execute_result"
    }
   ],
   "source": [
    "df_attendance.groupby(['Absence Type'], dropna=False).size()"
   ]
  },
  {
   "cell_type": "code",
   "execution_count": 25,
   "metadata": {},
   "outputs": [
    {
     "data": {
      "image/png": "[encoded data removed]",
      "text/plain": [
       "<Figure size 360x360 with 1 Axes>"
      ]
     },
     "metadata": {},
     "output_type": "display_data"
    }
   ],
   "source": [
    "# Analyzing absence type\n",
    "sns.set_style('whitegrid')\n",
    "ax=sns.countplot(x='Absence Type',data=df_attendance,palette='RdBu_r')"
   ]
  },
  {
   "attachments": {},
   "cell_type": "markdown",
   "metadata": {},
   "source": [
    "**Assumption:** late, and NaN were considered as presence."
   ]
  },
  {
   "cell_type": "code",
   "execution_count": 26,
   "metadata": {},
   "outputs": [],
   "source": [
    "#New attendance variable\n",
    "df_attendance['Attendance'] = 0\n",
    "df_attendance.loc[df_attendance['Absence Type']=='Absence - Excused', 'Attendance'] = 0\n",
    "df_attendance.loc[df_attendance['Absence Type']=='Absence - Unexcused', 'Attendance'] = 0\n",
    "df_attendance.loc[df_attendance['Absence Type']=='Late', 'Attendance'] = 1\n",
    "df_attendance.loc[pd.isna(df_attendance['Absence Type']), 'Attendance'] = 1"
   ]
  },
  {
   "cell_type": "code",
   "execution_count": 27,
   "metadata": {},
   "outputs": [
    {
     "data": {
      "text/plain": [
       "Attendance\n",
       "0    74423\n",
       "1    19291\n",
       "dtype: int64"
      ]
     },
     "execution_count": 27,
     "metadata": {},
     "output_type": "execute_result"
    }
   ],
   "source": [
    "df_attendance.groupby(['Attendance'], dropna=False).size()"
   ]
  },
  {
   "attachments": {},
   "cell_type": "markdown",
   "metadata": {},
   "source": [
    "**Review of \"Subjects\" and \"Institution Class\"**"
   ]
  },
  {
   "cell_type": "code",
   "execution_count": 28,
   "metadata": {},
   "outputs": [
    {
     "data": {
      "text/plain": [
       "Physical Education                            1632\n",
       "Grammar and Usage                             1482\n",
       "English Language                              1469\n",
       "Spanish                                       1354\n",
       "Computer Studies                              1055\n",
       "                                              ... \n",
       "Physical Education - 10L                         1\n",
       "Computer Studies Option B 7L-O D Major           1\n",
       "Physical Education - Grade 5 Outten              1\n",
       "9A1 - H1 - English Language - M. Pennerman       1\n",
       "History-12J-V. Sears-Nelson                      1\n",
       "Name: Subjects, Length: 3722, dtype: int64"
      ]
     },
     "execution_count": 28,
     "metadata": {},
     "output_type": "execute_result"
    }
   ],
   "source": [
    "df_attendance['Subjects'].value_counts()"
   ]
  },
  {
   "cell_type": "code",
   "execution_count": 29,
   "metadata": {},
   "outputs": [
    {
     "data": {
      "text/plain": [
       "Grade 7-A                     1165\n",
       "Grade 11-A                    1137\n",
       "Grade 8-A                     1116\n",
       "Grade 10-A                    1017\n",
       "Grade 9-A                      934\n",
       "                              ... \n",
       "Junior Prevocational 9-A         1\n",
       "Junior Special Trainable-A       1\n",
       "K4- Rolle                        1\n",
       "Grade 1 Special                  1\n",
       "Grade 6-Test Class               1\n",
       "Name: Institution Class, Length: 1117, dtype: int64"
      ]
     },
     "execution_count": 29,
     "metadata": {},
     "output_type": "execute_result"
    }
   ],
   "source": [
    "df_attendance['Institution Class'].value_counts()"
   ]
  },
  {
   "attachments": {},
   "cell_type": "markdown",
   "metadata": {},
   "source": [
    "The variables \"Subjects\" and \"Institution Class\" have too many different unique values to be grouped according to some logic.\n",
    "\n",
    "**Recommendation:** The variable \"Subjects\" should be standardized according to the country's curriculum. There are course names that are very similar but different from each other."
   ]
  },
  {
   "attachments": {},
   "cell_type": "markdown",
   "metadata": {},
   "source": [
    "**Review of \"Education Grade\"**"
   ]
  },
  {
   "cell_type": "code",
   "execution_count": 30,
   "metadata": {},
   "outputs": [
    {
     "data": {
      "text/plain": [
       "<AxesSubplot:xlabel='count', ylabel='Education Grade'>"
      ]
     },
     "execution_count": 30,
     "metadata": {},
     "output_type": "execute_result"
    },
    {
     "data": {
      "image/png": "[encoded data removed]",
      "text/plain": [
       "<Figure size 360x360 with 1 Axes>"
      ]
     },
     "metadata": {},
     "output_type": "display_data"
    }
   ],
   "source": [
    "# Education Grade\n",
    "sns.set_style('whitegrid')\n",
    "sns.countplot(y='Education Grade',data=df_attendance,palette='RdBu_r')"
   ]
  },
  {
   "cell_type": "code",
   "execution_count": 31,
   "metadata": {},
   "outputs": [
    {
     "data": {
      "text/plain": [
       "Grade 7                       13034\n",
       "Grade 8                       12161\n",
       "Grade 9                       11798\n",
       "Grade 10                      10576\n",
       "Grade 11                      10289\n",
       "Grade 12                       9460\n",
       "Grade 6                        4738\n",
       "Grade 5                        4445\n",
       "Grade 4                        4356\n",
       "Grade 1                        4110\n",
       "Grade 3                        3683\n",
       "Grade 2                        3477\n",
       "Preschool L2                    789\n",
       "Preschool L1                    377\n",
       "Primary Special Teachable       195\n",
       "Primary Special Trainable        60\n",
       "Senior Special Teachable         59\n",
       "Senior Special Trainable         47\n",
       "Senior Prevocational 11          22\n",
       "Senior Prevocational 10          11\n",
       "Junior Prevocational 7           10\n",
       "Preschool L1 SP                   8\n",
       "Senior Prevocational 12           6\n",
       "Junior Special Trainable 2        1\n",
       "Junior Special Trainable          1\n",
       "Junior Prevocational 9            1\n",
       "Name: Education Grade, dtype: int64"
      ]
     },
     "execution_count": 31,
     "metadata": {},
     "output_type": "execute_result"
    }
   ],
   "source": [
    "#Values of Education Grade\n",
    "df_attendance['Education Grade'].value_counts()"
   ]
  },
  {
   "attachments": {},
   "cell_type": "markdown",
   "metadata": {},
   "source": [
    "Reviewing information from (1) the [Bahamas government website](https://www.bahamas.gov.bs/wps/portal/public/gov/government/contacts/agencies/government%20departments/department%20of%20education/!ut/p/b1/vZTJbqNAEIafZR7AodnhyNosBmxo1osFxgtgDAo7Tz925hKNlMxoNEnXqaW_6qv_PxSWYBGW3NOxuKR90dzT2_OfMAcSQEsQKM6CNGCA7u-2wo7VCE6lsRCL3BjMcmNNshKOVePPUo2b8QnMsQIdNhf9SkEXfpxwppcNliT5LTsaKCluS-_YKBsCB-6M6Van9nDPrWUUh7ZZxdaVsxO0iiQMuV6DbY3LEYSRskaHYrm71ha4hhF1vHoO7DN0by1_1cvTIh-oTQ73471s2YIlyItGgNmeRcmRxjiSM05rOSEPCkuffjzMxQ9z4IMngD95_9X_gcCh_rL_3_khlnwmedvgTfAZ4tMJJoHFDwH7ToACAHQcCK6H7wHn0hjCIkAdvHJp9bVa3RJMOCp1oltFGyAfoFILbL9abT6xkZzsAMANhAIbKa1py4nZ9fIuD1xfFKSh9CXld6BDIP4BlHDG9GngQeKrgZB2uEcELNoJNAGA9O1A_KuA0LH20jNSJD4jJTVNYLYkB6jvBjL_HWhgSZHVL9OxfgEvBA9oDudIhmABR9BYUMbULHf624UChV_mYUzkF2o_FAKZ573uucvt2m37owt10dvXO5LnzwifjkarLj0dx3yOZ75zDruDQaiDeUKQCETG0gJxzzahxSeL2lUyeTUGwVqz-aSxt_mS8nZieXN_7azo1dWTqdkA0VTwDV5lKJdVb1qaND3TDJypFBbgaNwd5TAnEdMeZx_P1EmN50dewIqq47zNheCmVRHXlReyYC_j6yBsNr73yp1lgSJRBB4Xzdaa-oS19WiaW8bV1uhdnYSfJq7tDA!!/dl4/d5/L2dBISEvZ0FBIS9nQSEh/#:~:text=Education%20and%20Technical%20and%20Vocational%20Training%2C%20Ministry%20of&text=The%20primary%20level%20covers%20grades,(grades%2010%20-%2012)) and (2) a [UNESCO report on education in the Bahamas](http://www.ibe.unesco.org/fileadmin/user_upload/Inclusive_Education/Reports/kingston_07/bahamas_inclusion_07.pdf), a grade grouping variable can be created by levels. \n",
    "\n",
    "**From (1) Department of Education:**\n",
    "\n",
    "> *Schools are categorized as follows:* \n",
    "\n",
    "> *Pre-School 4 to 5 years*\n",
    "\n",
    "> *Primary 5 to 11+ years*\n",
    "\n",
    "> *Junior High 11+ to 14+ years*\n",
    "\n",
    "> *Senior High 14+ to 16+ years*\n",
    "\n",
    "> *All - Age 5+ to 16+ years*\n",
    "\n",
    "> *Special Schools All ages, catering to students having severe learning disabilities*\n",
    "\n",
    "**From (2) UNESCO report:**\n",
    "\n",
    "![Imagen](educ_system.png)\n",
    "\n"
   ]
  },
  {
   "cell_type": "code",
   "execution_count": 32,
   "metadata": {},
   "outputs": [],
   "source": [
    "# New variable Education level\n",
    "df_attendance['Education level']=df_attendance['Education Grade']\n",
    "\n",
    "df_attendance.loc[df_attendance['Education Grade']=='Preschool L1', 'Education level'] = \"Pre-school\"\n",
    "df_attendance.loc[df_attendance['Education Grade']=='Preschool L1 SP', 'Education level'] = \"Pre-school\"\n",
    "df_attendance.loc[df_attendance['Education Grade']=='Preschool L2', 'Education level'] = \"Pre-school\"\n",
    "df_attendance.loc[df_attendance['Education Grade']=='Preschool L2 SP', 'Education level'] = \"Pre-school\"\n",
    "\n",
    "df_attendance.loc[df_attendance['Education Grade']=='Grade 1', 'Education level'] = \"Primary\"\n",
    "df_attendance.loc[df_attendance['Education Grade']=='Grade 2', 'Education level'] = \"Primary\"\n",
    "df_attendance.loc[df_attendance['Education Grade']=='Grade 3', 'Education level'] = \"Primary\"\n",
    "df_attendance.loc[df_attendance['Education Grade']=='Grade 4', 'Education level'] = \"Primary\"\n",
    "df_attendance.loc[df_attendance['Education Grade']=='Grade 5', 'Education level'] = \"Primary\"\n",
    "df_attendance.loc[df_attendance['Education Grade']=='Grade 6', 'Education level'] = \"Primary\"\n",
    "\n",
    "df_attendance.loc[df_attendance['Education Grade']=='Grade 7', 'Education level'] = \"Secondary\"\n",
    "df_attendance.loc[df_attendance['Education Grade']=='Grade 8', 'Education level'] = \"Secondary\"\n",
    "df_attendance.loc[df_attendance['Education Grade']=='Grade 9', 'Education level'] = \"Secondary\"\n",
    "df_attendance.loc[df_attendance['Education Grade']=='Grade 10', 'Education level'] = \"Secondary\"\n",
    "df_attendance.loc[df_attendance['Education Grade']=='Grade 11', 'Education level'] = \"Secondary\"\n",
    "df_attendance.loc[df_attendance['Education Grade']=='Grade 12', 'Education level'] = \"Secondary\"\n",
    "\n",
    "df_attendance.loc[df_attendance['Education Grade']=='Primary Special Teachable', 'Education level'] = \"Special\"\n",
    "df_attendance.loc[df_attendance['Education Grade']=='Primary Special Trainable', 'Education level'] = \"Special\"\n",
    "df_attendance.loc[df_attendance['Education Grade']=='Senior Special Teachable', 'Education level'] = \"Special\"\n",
    "df_attendance.loc[df_attendance['Education Grade']=='Senior Special Trainable', 'Education level'] = \"Special\"\n",
    "df_attendance.loc[df_attendance['Education Grade']=='Junior Special Level I', 'Education level'] = \"Special\"\n",
    "df_attendance.loc[df_attendance['Education Grade']=='Junior Special Trainable', 'Education level'] = \"Special\"\n",
    "df_attendance.loc[df_attendance['Education Grade']=='Junior Special Trainable 2', 'Education level'] = \"Special\"\n",
    "\n",
    "df_attendance.loc[df_attendance['Education Grade']=='Junior Prevocational 7', 'Education level'] = \"Secondary\"\n",
    "df_attendance.loc[df_attendance['Education Grade']=='Junior Prevocational 9', 'Education level'] = \"Secondary\"\n",
    "df_attendance.loc[df_attendance['Education Grade']=='Senior Prevocational 10', 'Education level'] = \"Secondary\"\n",
    "df_attendance.loc[df_attendance['Education Grade']=='Senior Prevocational 11', 'Education level'] = \"Secondary\"\n",
    "df_attendance.loc[df_attendance['Education Grade']=='Senior Prevocational 12', 'Education level'] = \"Secondary\"\n"
   ]
  },
  {
   "cell_type": "code",
   "execution_count": 33,
   "metadata": {},
   "outputs": [
    {
     "data": {
      "text/plain": [
       "<AxesSubplot:xlabel='count', ylabel='Education level'>"
      ]
     },
     "execution_count": 33,
     "metadata": {},
     "output_type": "execute_result"
    },
    {
     "data": {
      "image/png": "[encoded data removed]",
      "text/plain": [
       "<Figure size 360x360 with 1 Axes>"
      ]
     },
     "metadata": {},
     "output_type": "display_data"
    }
   ],
   "source": [
    "# Graph of Education level\n",
    "sns.set_style('whitegrid')\n",
    "sns.countplot(y='Education level',data=df_attendance,palette='RdBu_r')"
   ]
  },
  {
   "attachments": {},
   "cell_type": "markdown",
   "metadata": {},
   "source": [
    "The attendance information is mainly from the primary and secondary levels of education. It is reasonable since the largest student population is at these levels.\n",
    "\n",
    "**Recommendation:** A variable of educational levels should be included to be able to make proposals for improvements adapted to each level. "
   ]
  },
  {
   "attachments": {},
   "cell_type": "markdown",
   "metadata": {},
   "source": [
    "**Review of a \"Student ID\" having only one \"Education level\"**"
   ]
  },
  {
   "cell_type": "code",
   "execution_count": 34,
   "metadata": {},
   "outputs": [
    {
     "data": {
      "text/html": [
       "<div>\n",
       "<style scoped>\n",
       "    .dataframe tbody tr th:only-of-type {\n",
       "        vertical-align: middle;\n",
       "    }\n",
       "\n",
       "    .dataframe tbody tr th {\n",
       "        vertical-align: top;\n",
       "    }\n",
       "\n",
       "    .dataframe thead th {\n",
       "        text-align: right;\n",
       "    }\n",
       "</style>\n",
       "<table border=\"1\" class=\"dataframe\">\n",
       "  <thead>\n",
       "    <tr style=\"text-align: right;\">\n",
       "      <th></th>\n",
       "      <th>count</th>\n",
       "      <th>mean</th>\n",
       "      <th>std</th>\n",
       "      <th>min</th>\n",
       "      <th>25%</th>\n",
       "      <th>50%</th>\n",
       "      <th>75%</th>\n",
       "      <th>max</th>\n",
       "    </tr>\n",
       "  </thead>\n",
       "  <tbody>\n",
       "    <tr>\n",
       "      <th>cases</th>\n",
       "      <td>30989.00</td>\n",
       "      <td>1.00</td>\n",
       "      <td>0.02</td>\n",
       "      <td>1.00</td>\n",
       "      <td>1.00</td>\n",
       "      <td>1.00</td>\n",
       "      <td>1.00</td>\n",
       "      <td>2.00</td>\n",
       "    </tr>\n",
       "  </tbody>\n",
       "</table>\n",
       "</div>"
      ],
      "text/plain": [
       "          count  mean   std   min   25%   50%   75%   max\n",
       "cases  30989.00  1.00  0.02  1.00  1.00  1.00  1.00  2.00"
      ]
     },
     "execution_count": 34,
     "metadata": {},
     "output_type": "execute_result"
    }
   ],
   "source": [
    "group = pd.DataFrame({'cases' : df_attendance.groupby( [ 'Student ID','Education level'] ).size()}).reset_index()\n",
    "\n",
    "group2 = pd.DataFrame({'cases' : group.groupby( [ 'Student ID'] ).size()}).reset_index()\n",
    "group2.describe().T.apply(lambda s: s.apply('{0:.2f}'.format))"
   ]
  },
  {
   "cell_type": "code",
   "execution_count": 35,
   "metadata": {},
   "outputs": [
    {
     "data": {
      "text/plain": [
       "1    30975\n",
       "2       14\n",
       "Name: cases, dtype: int64"
      ]
     },
     "execution_count": 35,
     "metadata": {},
     "output_type": "execute_result"
    }
   ],
   "source": [
    "group2['cases'].value_counts()"
   ]
  },
  {
   "attachments": {},
   "cell_type": "markdown",
   "metadata": {},
   "source": [
    "There are 14 \"Student ID\" cases in the database in more than one \"Education level\". These cases were eliminated."
   ]
  },
  {
   "cell_type": "code",
   "execution_count": 36,
   "metadata": {},
   "outputs": [],
   "source": [
    "# Identifying cases\n",
    "group2=group2.loc[group2['cases']==2]\n",
    "dup_id=group2['Student ID'].to_list()\n",
    "# Deleting cases\n",
    "df_attendance = df_attendance[~(df_attendance['Student ID'].isin((dup_id)))].reset_index()\n",
    "del df_attendance['index']"
   ]
  },
  {
   "attachments": {},
   "cell_type": "markdown",
   "metadata": {},
   "source": [
    "**Review of \"Gender\"**"
   ]
  },
  {
   "cell_type": "code",
   "execution_count": 37,
   "metadata": {},
   "outputs": [
    {
     "data": {
      "text/plain": [
       "Female    46839\n",
       "Male      46830\n",
       "Name: Gender, dtype: int64"
      ]
     },
     "execution_count": 37,
     "metadata": {},
     "output_type": "execute_result"
    }
   ],
   "source": [
    "#Values of Gender\n",
    "df_attendance['Gender'].value_counts()"
   ]
  },
  {
   "attachments": {},
   "cell_type": "markdown",
   "metadata": {},
   "source": [
    "The gender variable has no missings and identifies the gender between male and female."
   ]
  },
  {
   "cell_type": "code",
   "execution_count": 38,
   "metadata": {},
   "outputs": [
    {
     "data": {
      "text/html": [
       "<div>\n",
       "<style scoped>\n",
       "    .dataframe tbody tr th:only-of-type {\n",
       "        vertical-align: middle;\n",
       "    }\n",
       "\n",
       "    .dataframe tbody tr th {\n",
       "        vertical-align: top;\n",
       "    }\n",
       "\n",
       "    .dataframe thead th {\n",
       "        text-align: right;\n",
       "    }\n",
       "</style>\n",
       "<table border=\"1\" class=\"dataframe\">\n",
       "  <thead>\n",
       "    <tr style=\"text-align: right;\">\n",
       "      <th></th>\n",
       "      <th>count</th>\n",
       "      <th>mean</th>\n",
       "      <th>std</th>\n",
       "      <th>min</th>\n",
       "      <th>25%</th>\n",
       "      <th>50%</th>\n",
       "      <th>75%</th>\n",
       "      <th>max</th>\n",
       "    </tr>\n",
       "  </thead>\n",
       "  <tbody>\n",
       "    <tr>\n",
       "      <th>cases</th>\n",
       "      <td>30975.00</td>\n",
       "      <td>1.00</td>\n",
       "      <td>0.00</td>\n",
       "      <td>1.00</td>\n",
       "      <td>1.00</td>\n",
       "      <td>1.00</td>\n",
       "      <td>1.00</td>\n",
       "      <td>1.00</td>\n",
       "    </tr>\n",
       "  </tbody>\n",
       "</table>\n",
       "</div>"
      ],
      "text/plain": [
       "          count  mean   std   min   25%   50%   75%   max\n",
       "cases  30975.00  1.00  0.00  1.00  1.00  1.00  1.00  1.00"
      ]
     },
     "execution_count": 38,
     "metadata": {},
     "output_type": "execute_result"
    }
   ],
   "source": [
    "group = pd.DataFrame({'cases' : df_attendance.groupby( [ 'Student ID','Gender'] ).size()}).reset_index()\n",
    "\n",
    "group2 = pd.DataFrame({'cases' : group.groupby( [ 'Student ID'] ).size()}).reset_index()\n",
    "group2.describe().T.apply(lambda s: s.apply('{0:.2f}'.format))"
   ]
  },
  {
   "attachments": {},
   "cell_type": "markdown",
   "metadata": {},
   "source": [
    "It is verified that a \"Student ID\" has a unique corresponding \"Gender\" in the provided data."
   ]
  },
  {
   "attachments": {},
   "cell_type": "markdown",
   "metadata": {},
   "source": [
    "**Attendance dictionary created from observation:**"
   ]
  },
  {
   "attachments": {},
   "cell_type": "markdown",
   "metadata": {},
   "source": [
    "Student ID: ID code that identifies a student.\n",
    "\n",
    "Student: First name of the student.\n",
    "\n",
    "Institution: The institution's name, in this case, is based on the name of the countries.\n",
    "\n",
    "Date: Date of attendance record.\n",
    "\n",
    "Attendance Per Day: Attendance period in morning (period 1) or afternoon (period 2).\n",
    "\n",
    "Subjects: The subject matter of the attendance record.\n",
    "\n",
    "Absence Type: Type of absence excused or unexcused.\n",
    "\n",
    "Institution Class: name of student's class or section including grade level\n",
    "\n",
    "Education Grade: Student's grade.\n",
    "\n",
    "Gender: Gender of the student (Male or Female).\n",
    "\n",
    "*New variables:*\n",
    "\n",
    "*Month: Month of the record.*\n",
    "\n",
    "*Year: Year of the record.*\n",
    "\n",
    "*Attendance: Record of attendance (presence:1 or absence:0).*\n",
    "\n",
    "*Education level: Student's education level*\n",
    "\n"
   ]
  },
  {
   "attachments": {},
   "cell_type": "markdown",
   "metadata": {},
   "source": [
    "**Enrollment dictionary created from observation:**"
   ]
  },
  {
   "attachments": {},
   "cell_type": "markdown",
   "metadata": {},
   "source": [
    "Institution: The institution's name, in this case, is based on the name of the countries. (Will be use to merge dataframes)\n",
    "\n",
    "Enrollment: The number of students enrolled.\n",
    "\n",
    "*New variables:*\n",
    "\n",
    "*School_size: School size by number of students (small or non-small institution).*"
   ]
  },
  {
   "attachments": {},
   "cell_type": "markdown",
   "metadata": {},
   "source": [
    "## 2. Diagnosis of the country’s current attendance and attendance rates"
   ]
  },
  {
   "attachments": {},
   "cell_type": "markdown",
   "metadata": {},
   "source": [
    "Let's start defining attendance. \n",
    "\n",
    "[UNESCO Institute for Statistics](https://uis.unesco.org/en/glossary) define attendance as:\n",
    "\n",
    "> *School participation in household surveys and censuses is commonly measured by whether pupils or students attended a given grade or level of education at least one day during the academic reference year. Therefore, indicators of school participation derived from household survey data refer to attendance: e.g. “net attendance rate” or “total net attendance rate”. An out-of-school child is a child who did not attend formal primary or secondary school at any time during the reference academic year.*\n",
    "\n",
    "From that definition, derive two types of attendance: Gross attendance ratio and Total net attendance rate.\n",
    "\n",
    "Gross attendance ratio definition:\n",
    "\n",
    "> *Number of students attending a given level of education at any time during the reference academic year, regardless of age, expressed as a percentage of the official school-age population corresponding to the same level of education. For the tertiary level, the population used is the 5-year age group starting from the official secondary school graduation age.*\n",
    "\n",
    "Total net attendance rate:\n",
    "\n",
    "> *Total number of students of the official age group for a given level of education who are attending school at any level of education, expressed as a percentage of the corresponding population.*\n",
    "\n",
    "Since age data had not provided, the gross attendance ratio was estimated."
   ]
  },
  {
   "cell_type": "code",
   "execution_count": 39,
   "metadata": {},
   "outputs": [],
   "source": [
    "# Collapsing df_attendance to \"Student ID\" level\n",
    "df_attendance=df_attendance[['Student ID','Month','Gender','Institution','Education level','Attendance']]\n",
    "df_attendance_id = pd.DataFrame(df_attendance.groupby( [ 'Student ID','Month','Gender','Institution','Education level'] ).sum()).reset_index()\n",
    "df_attendance_id['student_reported']=1"
   ]
  },
  {
   "cell_type": "code",
   "execution_count": 40,
   "metadata": {},
   "outputs": [
    {
     "data": {
      "text/html": [
       "<div>\n",
       "<style scoped>\n",
       "    .dataframe tbody tr th:only-of-type {\n",
       "        vertical-align: middle;\n",
       "    }\n",
       "\n",
       "    .dataframe tbody tr th {\n",
       "        vertical-align: top;\n",
       "    }\n",
       "\n",
       "    .dataframe thead th {\n",
       "        text-align: right;\n",
       "    }\n",
       "</style>\n",
       "<table border=\"1\" class=\"dataframe\">\n",
       "  <thead>\n",
       "    <tr style=\"text-align: right;\">\n",
       "      <th></th>\n",
       "      <th>Student ID</th>\n",
       "      <th>Month</th>\n",
       "      <th>Gender</th>\n",
       "      <th>Institution</th>\n",
       "      <th>Education level</th>\n",
       "      <th>Attendance</th>\n",
       "      <th>student_reported</th>\n",
       "    </tr>\n",
       "  </thead>\n",
       "  <tbody>\n",
       "    <tr>\n",
       "      <th>0</th>\n",
       "      <td>83W1600375108T</td>\n",
       "      <td>9</td>\n",
       "      <td>Male</td>\n",
       "      <td>Mozambique</td>\n",
       "      <td>Primary</td>\n",
       "      <td>0</td>\n",
       "      <td>1</td>\n",
       "    </tr>\n",
       "    <tr>\n",
       "      <th>1</th>\n",
       "      <td>83W1600375108T</td>\n",
       "      <td>10</td>\n",
       "      <td>Male</td>\n",
       "      <td>Mozambique</td>\n",
       "      <td>Primary</td>\n",
       "      <td>0</td>\n",
       "      <td>1</td>\n",
       "    </tr>\n",
       "    <tr>\n",
       "      <th>2</th>\n",
       "      <td>83W1600375110T</td>\n",
       "      <td>9</td>\n",
       "      <td>Male</td>\n",
       "      <td>Mozambique</td>\n",
       "      <td>Primary</td>\n",
       "      <td>2</td>\n",
       "      <td>1</td>\n",
       "    </tr>\n",
       "    <tr>\n",
       "      <th>3</th>\n",
       "      <td>83W1600375111T</td>\n",
       "      <td>9</td>\n",
       "      <td>Male</td>\n",
       "      <td>Mozambique</td>\n",
       "      <td>Primary</td>\n",
       "      <td>0</td>\n",
       "      <td>1</td>\n",
       "    </tr>\n",
       "    <tr>\n",
       "      <th>4</th>\n",
       "      <td>83W1600375114T</td>\n",
       "      <td>9</td>\n",
       "      <td>Male</td>\n",
       "      <td>Mozambique</td>\n",
       "      <td>Primary</td>\n",
       "      <td>0</td>\n",
       "      <td>1</td>\n",
       "    </tr>\n",
       "    <tr>\n",
       "      <th>...</th>\n",
       "      <td>...</td>\n",
       "      <td>...</td>\n",
       "      <td>...</td>\n",
       "      <td>...</td>\n",
       "      <td>...</td>\n",
       "      <td>...</td>\n",
       "      <td>...</td>\n",
       "    </tr>\n",
       "    <tr>\n",
       "      <th>48698</th>\n",
       "      <td>83W3324012388T</td>\n",
       "      <td>10</td>\n",
       "      <td>Male</td>\n",
       "      <td>Níger</td>\n",
       "      <td>Secondary</td>\n",
       "      <td>1</td>\n",
       "      <td>1</td>\n",
       "    </tr>\n",
       "    <tr>\n",
       "      <th>48699</th>\n",
       "      <td>83W3324012388T</td>\n",
       "      <td>11</td>\n",
       "      <td>Male</td>\n",
       "      <td>Níger</td>\n",
       "      <td>Secondary</td>\n",
       "      <td>1</td>\n",
       "      <td>1</td>\n",
       "    </tr>\n",
       "    <tr>\n",
       "      <th>48700</th>\n",
       "      <td>83W3328485346T</td>\n",
       "      <td>9</td>\n",
       "      <td>Male</td>\n",
       "      <td>Jamaica</td>\n",
       "      <td>Secondary</td>\n",
       "      <td>0</td>\n",
       "      <td>1</td>\n",
       "    </tr>\n",
       "    <tr>\n",
       "      <th>48701</th>\n",
       "      <td>83W3328485346T</td>\n",
       "      <td>10</td>\n",
       "      <td>Male</td>\n",
       "      <td>Jamaica</td>\n",
       "      <td>Secondary</td>\n",
       "      <td>0</td>\n",
       "      <td>1</td>\n",
       "    </tr>\n",
       "    <tr>\n",
       "      <th>48702</th>\n",
       "      <td>83W3328485346T</td>\n",
       "      <td>11</td>\n",
       "      <td>Male</td>\n",
       "      <td>Jamaica</td>\n",
       "      <td>Secondary</td>\n",
       "      <td>1</td>\n",
       "      <td>1</td>\n",
       "    </tr>\n",
       "  </tbody>\n",
       "</table>\n",
       "<p>48703 rows × 7 columns</p>\n",
       "</div>"
      ],
      "text/plain": [
       "           Student ID  Month Gender Institution Education level  Attendance  \\\n",
       "0      83W1600375108T      9   Male  Mozambique         Primary           0   \n",
       "1      83W1600375108T     10   Male  Mozambique         Primary           0   \n",
       "2      83W1600375110T      9   Male  Mozambique         Primary           2   \n",
       "3      83W1600375111T      9   Male  Mozambique         Primary           0   \n",
       "4      83W1600375114T      9   Male  Mozambique         Primary           0   \n",
       "...               ...    ...    ...         ...             ...         ...   \n",
       "48698  83W3324012388T     10   Male       Níger       Secondary           1   \n",
       "48699  83W3324012388T     11   Male       Níger       Secondary           1   \n",
       "48700  83W3328485346T      9   Male     Jamaica       Secondary           0   \n",
       "48701  83W3328485346T     10   Male     Jamaica       Secondary           0   \n",
       "48702  83W3328485346T     11   Male     Jamaica       Secondary           1   \n",
       "\n",
       "       student_reported  \n",
       "0                     1  \n",
       "1                     1  \n",
       "2                     1  \n",
       "3                     1  \n",
       "4                     1  \n",
       "...                 ...  \n",
       "48698                 1  \n",
       "48699                 1  \n",
       "48700                 1  \n",
       "48701                 1  \n",
       "48702                 1  \n",
       "\n",
       "[48703 rows x 7 columns]"
      ]
     },
     "execution_count": 40,
     "metadata": {},
     "output_type": "execute_result"
    }
   ],
   "source": [
    "df_attendance_id"
   ]
  },
  {
   "cell_type": "code",
   "execution_count": 41,
   "metadata": {},
   "outputs": [],
   "source": [
    "# Replace attendance variable if more than one equal to one, meaning absence for that specified month\n",
    "df_attendance_id.loc[df_attendance_id['Attendance']>=1, 'Attendance'] = 1 # This means that when attendance is one, the child was at least once present in class."
   ]
  },
  {
   "cell_type": "code",
   "execution_count": 42,
   "metadata": {},
   "outputs": [],
   "source": [
    "# Collapsing df_attendance to \"Institution\" level\n",
    "df_attendance_institution_vars = pd.DataFrame(df_attendance_id.groupby( ['Month','Gender','Institution','Education level'] ).sum()).reset_index()\n",
    "df_attendance_institution = pd.DataFrame(df_attendance_id.groupby( ['Month','Institution'] ).sum()).reset_index()"
   ]
  },
  {
   "cell_type": "code",
   "execution_count": 43,
   "metadata": {},
   "outputs": [],
   "source": [
    "#cases not in data\n",
    "df_attendance_institution = df_attendance_institution.append(pd.Series([11, 'Tayikistán', 0, 0], index=['Month','Institution','Attendance','student_reported']), ignore_index=True)\n",
    "df_attendance_institution = df_attendance_institution.append(pd.Series([10, 'Timor Oriental', 0, 0], index=['Month','Institution','Attendance','student_reported']), ignore_index=True)\n",
    "df_attendance_institution = df_attendance_institution.append(pd.Series([11, 'Timor Oriental', 0, 0], index=['Month','Institution','Attendance','student_reported']), ignore_index=True)"
   ]
  },
  {
   "cell_type": "code",
   "execution_count": 44,
   "metadata": {},
   "outputs": [
    {
     "data": {
      "text/html": [
       "<div>\n",
       "<style scoped>\n",
       "    .dataframe tbody tr th:only-of-type {\n",
       "        vertical-align: middle;\n",
       "    }\n",
       "\n",
       "    .dataframe tbody tr th {\n",
       "        vertical-align: top;\n",
       "    }\n",
       "\n",
       "    .dataframe thead th {\n",
       "        text-align: right;\n",
       "    }\n",
       "</style>\n",
       "<table border=\"1\" class=\"dataframe\">\n",
       "  <thead>\n",
       "    <tr style=\"text-align: right;\">\n",
       "      <th></th>\n",
       "      <th>Month</th>\n",
       "      <th>Institution</th>\n",
       "      <th>Attendance</th>\n",
       "      <th>student_reported</th>\n",
       "    </tr>\n",
       "  </thead>\n",
       "  <tbody>\n",
       "    <tr>\n",
       "      <th>0</th>\n",
       "      <td>9</td>\n",
       "      <td>Afganistán</td>\n",
       "      <td>7</td>\n",
       "      <td>31</td>\n",
       "    </tr>\n",
       "    <tr>\n",
       "      <th>1</th>\n",
       "      <td>9</td>\n",
       "      <td>Albania</td>\n",
       "      <td>11</td>\n",
       "      <td>20</td>\n",
       "    </tr>\n",
       "    <tr>\n",
       "      <th>2</th>\n",
       "      <td>9</td>\n",
       "      <td>Alemania</td>\n",
       "      <td>0</td>\n",
       "      <td>31</td>\n",
       "    </tr>\n",
       "    <tr>\n",
       "      <th>3</th>\n",
       "      <td>9</td>\n",
       "      <td>Andorra</td>\n",
       "      <td>0</td>\n",
       "      <td>6</td>\n",
       "    </tr>\n",
       "    <tr>\n",
       "      <th>4</th>\n",
       "      <td>9</td>\n",
       "      <td>Angola</td>\n",
       "      <td>216</td>\n",
       "      <td>612</td>\n",
       "    </tr>\n",
       "    <tr>\n",
       "      <th>...</th>\n",
       "      <td>...</td>\n",
       "      <td>...</td>\n",
       "      <td>...</td>\n",
       "      <td>...</td>\n",
       "    </tr>\n",
       "    <tr>\n",
       "      <th>422</th>\n",
       "      <td>11</td>\n",
       "      <td>Zambia</td>\n",
       "      <td>1</td>\n",
       "      <td>20</td>\n",
       "    </tr>\n",
       "    <tr>\n",
       "      <th>423</th>\n",
       "      <td>11</td>\n",
       "      <td>Zimbabue</td>\n",
       "      <td>64</td>\n",
       "      <td>173</td>\n",
       "    </tr>\n",
       "    <tr>\n",
       "      <th>424</th>\n",
       "      <td>11</td>\n",
       "      <td>Tayikistán</td>\n",
       "      <td>0</td>\n",
       "      <td>0</td>\n",
       "    </tr>\n",
       "    <tr>\n",
       "      <th>425</th>\n",
       "      <td>10</td>\n",
       "      <td>Timor Oriental</td>\n",
       "      <td>0</td>\n",
       "      <td>0</td>\n",
       "    </tr>\n",
       "    <tr>\n",
       "      <th>426</th>\n",
       "      <td>11</td>\n",
       "      <td>Timor Oriental</td>\n",
       "      <td>0</td>\n",
       "      <td>0</td>\n",
       "    </tr>\n",
       "  </tbody>\n",
       "</table>\n",
       "<p>427 rows × 4 columns</p>\n",
       "</div>"
      ],
      "text/plain": [
       "     Month     Institution  Attendance  student_reported\n",
       "0        9      Afganistán           7                31\n",
       "1        9         Albania          11                20\n",
       "2        9        Alemania           0                31\n",
       "3        9         Andorra           0                 6\n",
       "4        9          Angola         216               612\n",
       "..     ...             ...         ...               ...\n",
       "422     11          Zambia           1                20\n",
       "423     11        Zimbabue          64               173\n",
       "424     11      Tayikistán           0                 0\n",
       "425     10  Timor Oriental           0                 0\n",
       "426     11  Timor Oriental           0                 0\n",
       "\n",
       "[427 rows x 4 columns]"
      ]
     },
     "execution_count": 44,
     "metadata": {},
     "output_type": "execute_result"
    }
   ],
   "source": [
    "df_attendance_institution"
   ]
  },
  {
   "cell_type": "code",
   "execution_count": 45,
   "metadata": {},
   "outputs": [],
   "source": [
    "df_joint = pd.merge(df_attendance_institution, df_enrollment, on='Institution')"
   ]
  },
  {
   "cell_type": "code",
   "execution_count": 46,
   "metadata": {},
   "outputs": [
    {
     "data": {
      "text/html": [
       "<div>\n",
       "<style scoped>\n",
       "    .dataframe tbody tr th:only-of-type {\n",
       "        vertical-align: middle;\n",
       "    }\n",
       "\n",
       "    .dataframe tbody tr th {\n",
       "        vertical-align: top;\n",
       "    }\n",
       "\n",
       "    .dataframe thead th {\n",
       "        text-align: right;\n",
       "    }\n",
       "</style>\n",
       "<table border=\"1\" class=\"dataframe\">\n",
       "  <thead>\n",
       "    <tr style=\"text-align: right;\">\n",
       "      <th></th>\n",
       "      <th>Month</th>\n",
       "      <th>Institution</th>\n",
       "      <th>Attendance</th>\n",
       "      <th>student_reported</th>\n",
       "      <th>Enrollment</th>\n",
       "      <th>School_size</th>\n",
       "    </tr>\n",
       "  </thead>\n",
       "  <tbody>\n",
       "    <tr>\n",
       "      <th>137</th>\n",
       "      <td>11</td>\n",
       "      <td>Tayikistán</td>\n",
       "      <td>0</td>\n",
       "      <td>0</td>\n",
       "      <td>22</td>\n",
       "      <td>small institution</td>\n",
       "    </tr>\n",
       "    <tr>\n",
       "      <th>138</th>\n",
       "      <td>9</td>\n",
       "      <td>Timor Oriental</td>\n",
       "      <td>1</td>\n",
       "      <td>4</td>\n",
       "      <td>7</td>\n",
       "      <td>small institution</td>\n",
       "    </tr>\n",
       "    <tr>\n",
       "      <th>139</th>\n",
       "      <td>10</td>\n",
       "      <td>Timor Oriental</td>\n",
       "      <td>0</td>\n",
       "      <td>0</td>\n",
       "      <td>7</td>\n",
       "      <td>small institution</td>\n",
       "    </tr>\n",
       "    <tr>\n",
       "      <th>140</th>\n",
       "      <td>11</td>\n",
       "      <td>Timor Oriental</td>\n",
       "      <td>0</td>\n",
       "      <td>0</td>\n",
       "      <td>7</td>\n",
       "      <td>small institution</td>\n",
       "    </tr>\n",
       "    <tr>\n",
       "      <th>141</th>\n",
       "      <td>9</td>\n",
       "      <td>Túnez</td>\n",
       "      <td>26</td>\n",
       "      <td>308</td>\n",
       "      <td>746</td>\n",
       "      <td>non-small institution</td>\n",
       "    </tr>\n",
       "    <tr>\n",
       "      <th>142</th>\n",
       "      <td>10</td>\n",
       "      <td>Túnez</td>\n",
       "      <td>22</td>\n",
       "      <td>138</td>\n",
       "      <td>746</td>\n",
       "      <td>non-small institution</td>\n",
       "    </tr>\n",
       "    <tr>\n",
       "      <th>143</th>\n",
       "      <td>11</td>\n",
       "      <td>Túnez</td>\n",
       "      <td>1</td>\n",
       "      <td>68</td>\n",
       "      <td>746</td>\n",
       "      <td>non-small institution</td>\n",
       "    </tr>\n",
       "    <tr>\n",
       "      <th>144</th>\n",
       "      <td>9</td>\n",
       "      <td>Yemen</td>\n",
       "      <td>0</td>\n",
       "      <td>13</td>\n",
       "      <td>53</td>\n",
       "      <td>small institution</td>\n",
       "    </tr>\n",
       "    <tr>\n",
       "      <th>145</th>\n",
       "      <td>10</td>\n",
       "      <td>Yemen</td>\n",
       "      <td>0</td>\n",
       "      <td>5</td>\n",
       "      <td>53</td>\n",
       "      <td>small institution</td>\n",
       "    </tr>\n",
       "    <tr>\n",
       "      <th>146</th>\n",
       "      <td>11</td>\n",
       "      <td>Yemen</td>\n",
       "      <td>0</td>\n",
       "      <td>1</td>\n",
       "      <td>53</td>\n",
       "      <td>small institution</td>\n",
       "    </tr>\n",
       "  </tbody>\n",
       "</table>\n",
       "</div>"
      ],
      "text/plain": [
       "     Month     Institution  Attendance  student_reported  Enrollment  \\\n",
       "137     11      Tayikistán           0                 0          22   \n",
       "138      9  Timor Oriental           1                 4           7   \n",
       "139     10  Timor Oriental           0                 0           7   \n",
       "140     11  Timor Oriental           0                 0           7   \n",
       "141      9           Túnez          26               308         746   \n",
       "142     10           Túnez          22               138         746   \n",
       "143     11           Túnez           1                68         746   \n",
       "144      9           Yemen           0                13          53   \n",
       "145     10           Yemen           0                 5          53   \n",
       "146     11           Yemen           0                 1          53   \n",
       "\n",
       "               School_size  \n",
       "137      small institution  \n",
       "138      small institution  \n",
       "139      small institution  \n",
       "140      small institution  \n",
       "141  non-small institution  \n",
       "142  non-small institution  \n",
       "143  non-small institution  \n",
       "144      small institution  \n",
       "145      small institution  \n",
       "146      small institution  "
      ]
     },
     "execution_count": 46,
     "metadata": {},
     "output_type": "execute_result"
    }
   ],
   "source": [
    "df_joint.tail(10)"
   ]
  },
  {
   "attachments": {},
   "cell_type": "markdown",
   "metadata": {},
   "source": [
    "**Assumption:** students not reported attended classes during the months of analysis. Since the number of students reported is always lower than the total number of students enrolled, and there are mainly cases of non-attendance in the base."
   ]
  },
  {
   "cell_type": "code",
   "execution_count": 47,
   "metadata": {},
   "outputs": [],
   "source": [
    "# New variable student_not_reported\n",
    "df_joint['student_not_reported']=df_joint['Enrollment']-df_joint['student_reported']\n",
    "\n",
    "# As assumed, those not reported attended were added to the attendance.\n",
    "df_joint['Attendance']+=df_joint['student_not_reported']\n",
    "\n",
    "df_country=pd.DataFrame(df_joint.groupby( ['Month'] ).sum()).reset_index()\n",
    "df_country_school_size=pd.DataFrame(df_joint.groupby( ['Month','School_size'] ).sum()).reset_index()\n",
    "# Attendance_rate\n",
    "df_joint['Attendance_rate']=df_joint['Attendance']/df_joint['Enrollment']*100\n",
    "df_country_school_size['Attendance_rate']=df_country_school_size['Attendance']/df_country_school_size['Enrollment']*100\n",
    "df_country['Attendance_rate']=df_country['Attendance']/df_country['Enrollment']*100"
   ]
  },
  {
   "cell_type": "code",
   "execution_count": 48,
   "metadata": {},
   "outputs": [],
   "source": [
    "df_joint=df_joint.pivot(index={'Institution','School_size','Enrollment'}, columns='Month', values='Attendance_rate').reset_index().rename_axis(None, axis=1).rename_axis('index', axis=0).reset_index()\n",
    "del df_joint['index']\n"
   ]
  },
  {
   "cell_type": "code",
   "execution_count": 49,
   "metadata": {},
   "outputs": [],
   "source": [
    "df_country_school_size=df_country_school_size.pivot(index={'School_size','Enrollment'}, columns='Month', values='Attendance_rate').reset_index().rename_axis(None, axis=1).rename_axis('index', axis=0).reset_index()\n",
    "del df_country_school_size['index']\n"
   ]
  },
  {
   "cell_type": "code",
   "execution_count": 50,
   "metadata": {},
   "outputs": [
    {
     "data": {
      "text/html": [
       "<div>\n",
       "<style scoped>\n",
       "    .dataframe tbody tr th:only-of-type {\n",
       "        vertical-align: middle;\n",
       "    }\n",
       "\n",
       "    .dataframe tbody tr th {\n",
       "        vertical-align: top;\n",
       "    }\n",
       "\n",
       "    .dataframe thead th {\n",
       "        text-align: right;\n",
       "    }\n",
       "</style>\n",
       "<table border=\"1\" class=\"dataframe\">\n",
       "  <thead>\n",
       "    <tr style=\"text-align: right;\">\n",
       "      <th></th>\n",
       "      <th>Enrollment</th>\n",
       "      <th>School_size</th>\n",
       "      <th>9</th>\n",
       "      <th>10</th>\n",
       "      <th>11</th>\n",
       "    </tr>\n",
       "  </thead>\n",
       "  <tbody>\n",
       "    <tr>\n",
       "      <th>0</th>\n",
       "      <td>3045</td>\n",
       "      <td>small institution</td>\n",
       "      <td>65.484401</td>\n",
       "      <td>86.568144</td>\n",
       "      <td>94.154351</td>\n",
       "    </tr>\n",
       "    <tr>\n",
       "      <th>1</th>\n",
       "      <td>22896</td>\n",
       "      <td>non-small institution</td>\n",
       "      <td>55.992313</td>\n",
       "      <td>72.624039</td>\n",
       "      <td>81.896401</td>\n",
       "    </tr>\n",
       "  </tbody>\n",
       "</table>\n",
       "</div>"
      ],
      "text/plain": [
       "   Enrollment            School_size          9         10         11\n",
       "0        3045      small institution  65.484401  86.568144  94.154351\n",
       "1       22896  non-small institution  55.992313  72.624039  81.896401"
      ]
     },
     "execution_count": 50,
     "metadata": {},
     "output_type": "execute_result"
    }
   ],
   "source": [
    "df_country_school_size"
   ]
  },
  {
   "cell_type": "code",
   "execution_count": 51,
   "metadata": {},
   "outputs": [],
   "source": [
    "df_country=df_country.pivot(index={'Enrollment'}, columns='Month', values='Attendance_rate').reset_index().rename_axis(None, axis=1).rename_axis('index', axis=0).reset_index()\n",
    "del df_country['index']"
   ]
  },
  {
   "cell_type": "code",
   "execution_count": 52,
   "metadata": {},
   "outputs": [
    {
     "data": {
      "text/html": [
       "<div>\n",
       "<style scoped>\n",
       "    .dataframe tbody tr th:only-of-type {\n",
       "        vertical-align: middle;\n",
       "    }\n",
       "\n",
       "    .dataframe tbody tr th {\n",
       "        vertical-align: top;\n",
       "    }\n",
       "\n",
       "    .dataframe thead th {\n",
       "        text-align: right;\n",
       "    }\n",
       "</style>\n",
       "<table border=\"1\" class=\"dataframe\">\n",
       "  <thead>\n",
       "    <tr style=\"text-align: right;\">\n",
       "      <th></th>\n",
       "      <th>Enrollment</th>\n",
       "      <th>9</th>\n",
       "      <th>10</th>\n",
       "      <th>11</th>\n",
       "    </tr>\n",
       "  </thead>\n",
       "  <tbody>\n",
       "    <tr>\n",
       "      <th>0</th>\n",
       "      <td>25941</td>\n",
       "      <td>57.106511</td>\n",
       "      <td>74.260823</td>\n",
       "      <td>83.335261</td>\n",
       "    </tr>\n",
       "  </tbody>\n",
       "</table>\n",
       "</div>"
      ],
      "text/plain": [
       "   Enrollment          9         10         11\n",
       "0       25941  57.106511  74.260823  83.335261"
      ]
     },
     "execution_count": 52,
     "metadata": {},
     "output_type": "execute_result"
    }
   ],
   "source": [
    "df_country"
   ]
  },
  {
   "attachments": {},
   "cell_type": "markdown",
   "metadata": {},
   "source": [
    "**Recommendation:** The Ministry of Education should provide an enrollment database with more granularity, such as gender and education level, for better data analysis."
   ]
  },
  {
   "attachments": {},
   "cell_type": "markdown",
   "metadata": {},
   "source": [
    "## 3. Assessment of the country’s current attendance and attendance rates evolution"
   ]
  },
  {
   "attachments": {},
   "cell_type": "markdown",
   "metadata": {},
   "source": [
    "Let's start with some data about attendance in the region.\n",
    "\n",
    "The [CIMA platform of Inter-American Development Bank](https://cima.iadb.org/en/node/29) presents 40 comparable education indicators across 26 countries and promotes evidence-based education policy-making in Latin America and the Caribbean. Net Attendance in LAC in 2018 was 94.5% for primary and 74.5% for secondary. At the same time, Gross Attendance took the value of 106.7% for primary and 94.3% for secondary."
   ]
  },
  {
   "cell_type": "code",
   "execution_count": 53,
   "metadata": {},
   "outputs": [
    {
     "data": {
      "text/html": [
       "<div>\n",
       "<style scoped>\n",
       "    .dataframe tbody tr th:only-of-type {\n",
       "        vertical-align: middle;\n",
       "    }\n",
       "\n",
       "    .dataframe tbody tr th {\n",
       "        vertical-align: top;\n",
       "    }\n",
       "\n",
       "    .dataframe thead th {\n",
       "        text-align: right;\n",
       "    }\n",
       "</style>\n",
       "<table border=\"1\" class=\"dataframe\">\n",
       "  <thead>\n",
       "    <tr style=\"text-align: right;\">\n",
       "      <th></th>\n",
       "      <th>Enrollment</th>\n",
       "      <th>9</th>\n",
       "      <th>10</th>\n",
       "      <th>11</th>\n",
       "    </tr>\n",
       "  </thead>\n",
       "  <tbody>\n",
       "    <tr>\n",
       "      <th>0</th>\n",
       "      <td>25941</td>\n",
       "      <td>57.106511</td>\n",
       "      <td>74.260823</td>\n",
       "      <td>83.335261</td>\n",
       "    </tr>\n",
       "  </tbody>\n",
       "</table>\n",
       "</div>"
      ],
      "text/plain": [
       "   Enrollment          9         10         11\n",
       "0       25941  57.106511  74.260823  83.335261"
      ]
     },
     "execution_count": 53,
     "metadata": {},
     "output_type": "execute_result"
    }
   ],
   "source": [
    "df_country"
   ]
  },
  {
   "attachments": {},
   "cell_type": "markdown",
   "metadata": {},
   "source": [
    "The results cannot be compared at the education level because of the need for more information on enrollment by education level. However, attendance has a positive evolution, rising from 57% in September 2022 to 83% in November 2022. These figures still need to catch up to the average for the LAC region. However, it is subject to update the estimation considering that some assumptions were made and will have to be validated with the Statistics Unit of the Ministry of Education."
   ]
  },
  {
   "cell_type": "code",
   "execution_count": 54,
   "metadata": {},
   "outputs": [
    {
     "data": {
      "text/html": [
       "<div>\n",
       "<style scoped>\n",
       "    .dataframe tbody tr th:only-of-type {\n",
       "        vertical-align: middle;\n",
       "    }\n",
       "\n",
       "    .dataframe tbody tr th {\n",
       "        vertical-align: top;\n",
       "    }\n",
       "\n",
       "    .dataframe thead th {\n",
       "        text-align: right;\n",
       "    }\n",
       "</style>\n",
       "<table border=\"1\" class=\"dataframe\">\n",
       "  <thead>\n",
       "    <tr style=\"text-align: right;\">\n",
       "      <th></th>\n",
       "      <th>Enrollment</th>\n",
       "      <th>School_size</th>\n",
       "      <th>9</th>\n",
       "      <th>10</th>\n",
       "      <th>11</th>\n",
       "    </tr>\n",
       "  </thead>\n",
       "  <tbody>\n",
       "    <tr>\n",
       "      <th>0</th>\n",
       "      <td>3045</td>\n",
       "      <td>small institution</td>\n",
       "      <td>65.484401</td>\n",
       "      <td>86.568144</td>\n",
       "      <td>94.154351</td>\n",
       "    </tr>\n",
       "    <tr>\n",
       "      <th>1</th>\n",
       "      <td>22896</td>\n",
       "      <td>non-small institution</td>\n",
       "      <td>55.992313</td>\n",
       "      <td>72.624039</td>\n",
       "      <td>81.896401</td>\n",
       "    </tr>\n",
       "  </tbody>\n",
       "</table>\n",
       "</div>"
      ],
      "text/plain": [
       "   Enrollment            School_size          9         10         11\n",
       "0        3045      small institution  65.484401  86.568144  94.154351\n",
       "1       22896  non-small institution  55.992313  72.624039  81.896401"
      ]
     },
     "execution_count": 54,
     "metadata": {},
     "output_type": "execute_result"
    }
   ],
   "source": [
    "df_country_school_size"
   ]
  },
  {
   "attachments": {},
   "cell_type": "markdown",
   "metadata": {},
   "source": [
    "With the information provided, attendance by the size of the institution was generated. The results show that there is a higher attendance in 12% on average for small institutions compared to institutions with a more significant number of students. For this comparison, a threshold of 500 students was taken, where if an institution has 500 students enrolled or less, it is considered a small institution. This would make sense because the complexity and monitoring of students by professors could be less and more straightforward in a small institution compared to a large institution."
   ]
  },
  {
   "attachments": {},
   "cell_type": "markdown",
   "metadata": {},
   "source": [
    "## 4. Estimated attendance and attendance trajectory"
   ]
  },
  {
   "attachments": {},
   "cell_type": "markdown",
   "metadata": {},
   "source": [
    "To propose an attendance estimate for the next month of analysis, December, it is first necessary to analyze the trend."
   ]
  },
  {
   "cell_type": "code",
   "execution_count": 55,
   "metadata": {},
   "outputs": [
    {
     "data": {
      "text/html": [
       "<div>\n",
       "<style scoped>\n",
       "    .dataframe tbody tr th:only-of-type {\n",
       "        vertical-align: middle;\n",
       "    }\n",
       "\n",
       "    .dataframe tbody tr th {\n",
       "        vertical-align: top;\n",
       "    }\n",
       "\n",
       "    .dataframe thead th {\n",
       "        text-align: right;\n",
       "    }\n",
       "</style>\n",
       "<table border=\"1\" class=\"dataframe\">\n",
       "  <thead>\n",
       "    <tr style=\"text-align: right;\">\n",
       "      <th></th>\n",
       "      <th>Enrollment</th>\n",
       "      <th>9</th>\n",
       "      <th>10</th>\n",
       "      <th>11</th>\n",
       "      <th>month_var_perc</th>\n",
       "    </tr>\n",
       "  </thead>\n",
       "  <tbody>\n",
       "    <tr>\n",
       "      <th>0</th>\n",
       "      <td>25941</td>\n",
       "      <td>57.106511</td>\n",
       "      <td>74.260823</td>\n",
       "      <td>83.335261</td>\n",
       "      <td>20.801294</td>\n",
       "    </tr>\n",
       "  </tbody>\n",
       "</table>\n",
       "</div>"
      ],
      "text/plain": [
       "   Enrollment          9         10         11  month_var_perc\n",
       "0       25941  57.106511  74.260823  83.335261       20.801294"
      ]
     },
     "execution_count": 55,
     "metadata": {},
     "output_type": "execute_result"
    }
   ],
   "source": [
    "df_country['month_var_perc']=((df_country[11]/df_country[9])**(0.5)-1)*100\n",
    "df_country"
   ]
  },
  {
   "cell_type": "code",
   "execution_count": 56,
   "metadata": {},
   "outputs": [
    {
     "data": {
      "text/html": [
       "<div>\n",
       "<style scoped>\n",
       "    .dataframe tbody tr th:only-of-type {\n",
       "        vertical-align: middle;\n",
       "    }\n",
       "\n",
       "    .dataframe tbody tr th {\n",
       "        vertical-align: top;\n",
       "    }\n",
       "\n",
       "    .dataframe thead th {\n",
       "        text-align: right;\n",
       "    }\n",
       "</style>\n",
       "<table border=\"1\" class=\"dataframe\">\n",
       "  <thead>\n",
       "    <tr style=\"text-align: right;\">\n",
       "      <th></th>\n",
       "      <th>Enrollment</th>\n",
       "      <th>School_size</th>\n",
       "      <th>9</th>\n",
       "      <th>10</th>\n",
       "      <th>11</th>\n",
       "      <th>month_var_perc</th>\n",
       "    </tr>\n",
       "  </thead>\n",
       "  <tbody>\n",
       "    <tr>\n",
       "      <th>0</th>\n",
       "      <td>3045</td>\n",
       "      <td>small institution</td>\n",
       "      <td>65.484401</td>\n",
       "      <td>86.568144</td>\n",
       "      <td>94.154351</td>\n",
       "      <td>19.908859</td>\n",
       "    </tr>\n",
       "    <tr>\n",
       "      <th>1</th>\n",
       "      <td>22896</td>\n",
       "      <td>non-small institution</td>\n",
       "      <td>55.992313</td>\n",
       "      <td>72.624039</td>\n",
       "      <td>81.896401</td>\n",
       "      <td>20.939510</td>\n",
       "    </tr>\n",
       "  </tbody>\n",
       "</table>\n",
       "</div>"
      ],
      "text/plain": [
       "   Enrollment            School_size          9         10         11  \\\n",
       "0        3045      small institution  65.484401  86.568144  94.154351   \n",
       "1       22896  non-small institution  55.992313  72.624039  81.896401   \n",
       "\n",
       "   month_var_perc  \n",
       "0       19.908859  \n",
       "1       20.939510  "
      ]
     },
     "execution_count": 56,
     "metadata": {},
     "output_type": "execute_result"
    }
   ],
   "source": [
    "df_country_school_size['month_var_perc']=((df_country_school_size[11]/df_country_school_size[9])**(0.5)-1)*100\n",
    "df_country_school_size"
   ]
  },
  {
   "attachments": {},
   "cell_type": "markdown",
   "metadata": {},
   "source": [
    "There is no significative difference in attendance trajectory among school size."
   ]
  },
  {
   "attachments": {},
   "cell_type": "markdown",
   "metadata": {},
   "source": [
    "The information provided shows a sustained increase of 20% in attendance. However, this growth should not be taken as future growth because it should be explained by missing information and information to be confirmed that was assumed to have an estimate of attendance indicator. It is essential to point out that if an estimate of the indicator is required, it would be best to indicate the last value achieved for the reasons mentioned above. \n",
    "\n",
    "Therefore, it should be prioritized to have **complete, high-quality, and opportunely information** that allows for a follow-up **evidence-based proposal** to achieve the objective initially set for 2025 of a 100% net attendance rate."
   ]
  }
 ],
 "metadata": {
  "kernelspec": {
   "display_name": "base",
   "language": "python",
   "name": "python3"
  },
  "language_info": {
   "codemirror_mode": {
    "name": "ipython",
    "version": 3
   },
   "file_extension": ".py",
   "mimetype": "text/x-python",
   "name": "python",
   "nbconvert_exporter": "python",
   "pygments_lexer": "ipython3",
   "version": "3.8.8 (default, Apr 13 2021, 15:08:03) [MSC v.1916 64 bit (AMD64)]"
  },
  "orig_nbformat": 4,
  "vscode": {
   "interpreter": {
    "hash": "c34669d3d4ef89f09b577b953bfb4c85c754308955a9a6362400c0ce80760a0d"
   }
  }
 },
 "nbformat": 4,
 "nbformat_minor": 2
}
