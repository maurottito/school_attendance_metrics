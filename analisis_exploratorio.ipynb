{
 "cells": [
  {
   "attachments": {},
   "cell_type": "markdown",
   "metadata": {},
   "source": [
    "# <center> Data Analytics Case: School Attendance metrics<center>"
   ]
  },
  {
   "attachments": {},
   "cell_type": "markdown",
   "metadata": {},
   "source": [
    "**Project:**\n",
    "Data Analytics Case Study\n",
    "\n",
    "**Author:**\n",
    "Heber Mauro Ttito Chara\n",
    "\n",
    "**Last modification:**\n",
    "2023.01.13\n",
    "\n",
    "\n",
    "<hr style=\"height:2px;border-width:0;color:black;background-color:black\">"
   ]
  },
  {
   "attachments": {},
   "cell_type": "markdown",
   "metadata": {},
   "source": [
    "## 0. Importing libraries"
   ]
  },
  {
   "cell_type": "code",
   "execution_count": 2,
   "metadata": {},
   "outputs": [],
   "source": [
    "import numpy as np\n",
    "import pandas as pd"
   ]
  },
  {
   "cell_type": "markdown",
   "metadata": {},
   "source": [
    "## 1. Data cleaning"
   ]
  },
  {
   "cell_type": "code",
   "execution_count": 5,
   "metadata": {},
   "outputs": [],
   "source": [
    "#Import data\n",
    "df_attendance=pd.read_excel('Case_Study_-_Student_Absence_-_2022-2023_-_Oct_-_Nov.xlsx', index_col=None)\n",
    "df_enrollment=pd.read_excel('Case_Study_-_Student_Enrollment.xlsx', index_col=None, usecols=\"B:C\")"
   ]
  },
  {
   "cell_type": "code",
   "execution_count": 10,
   "metadata": {},
   "outputs": [
    {
     "data": {
      "text/html": [
       "<div>\n",
       "<style scoped>\n",
       "    .dataframe tbody tr th:only-of-type {\n",
       "        vertical-align: middle;\n",
       "    }\n",
       "\n",
       "    .dataframe tbody tr th {\n",
       "        vertical-align: top;\n",
       "    }\n",
       "\n",
       "    .dataframe thead th {\n",
       "        text-align: right;\n",
       "    }\n",
       "</style>\n",
       "<table border=\"1\" class=\"dataframe\">\n",
       "  <thead>\n",
       "    <tr style=\"text-align: right;\">\n",
       "      <th></th>\n",
       "      <th>Student ID</th>\n",
       "      <th>Student</th>\n",
       "      <th>Institution</th>\n",
       "      <th>Date</th>\n",
       "      <th>Attendance Per Day</th>\n",
       "      <th>Subjects</th>\n",
       "      <th>Absence Type</th>\n",
       "      <th>Institution Class</th>\n",
       "      <th>Education Grade</th>\n",
       "      <th>Gender</th>\n",
       "    </tr>\n",
       "  </thead>\n",
       "  <tbody>\n",
       "    <tr>\n",
       "      <th>0</th>\n",
       "      <td>83W2407401136T</td>\n",
       "      <td>Reyon</td>\n",
       "      <td>Angola</td>\n",
       "      <td>14-09-2022</td>\n",
       "      <td>NaN</td>\n",
       "      <td>Civics - 11G</td>\n",
       "      <td>NaN</td>\n",
       "      <td>Grade 11-G - Thurston &amp; Wright</td>\n",
       "      <td>Grade 11</td>\n",
       "      <td>Male</td>\n",
       "    </tr>\n",
       "    <tr>\n",
       "      <th>1</th>\n",
       "      <td>83W2407401136T</td>\n",
       "      <td>Reyon</td>\n",
       "      <td>Angola</td>\n",
       "      <td>22-09-2022</td>\n",
       "      <td>NaN</td>\n",
       "      <td>English Language- Gibson/K. Cooper</td>\n",
       "      <td>Absence - Unexcused</td>\n",
       "      <td>Grade 11-G - Thurston &amp; Wright</td>\n",
       "      <td>Grade 11</td>\n",
       "      <td>Male</td>\n",
       "    </tr>\n",
       "    <tr>\n",
       "      <th>2</th>\n",
       "      <td>83W2407401136T</td>\n",
       "      <td>Reyon</td>\n",
       "      <td>Angola</td>\n",
       "      <td>04-10-2022</td>\n",
       "      <td>Period 1 (Morning)</td>\n",
       "      <td>NaN</td>\n",
       "      <td>Absence - Unexcused</td>\n",
       "      <td>Grade 11-G - Thurston &amp; Wright</td>\n",
       "      <td>Grade 11</td>\n",
       "      <td>Male</td>\n",
       "    </tr>\n",
       "    <tr>\n",
       "      <th>3</th>\n",
       "      <td>83W2407401136T</td>\n",
       "      <td>Reyon</td>\n",
       "      <td>Angola</td>\n",
       "      <td>04-10-2022</td>\n",
       "      <td>Period 2 (Afternoon)</td>\n",
       "      <td>NaN</td>\n",
       "      <td>Absence - Unexcused</td>\n",
       "      <td>Grade 11-G - Thurston &amp; Wright</td>\n",
       "      <td>Grade 11</td>\n",
       "      <td>Male</td>\n",
       "    </tr>\n",
       "    <tr>\n",
       "      <th>4</th>\n",
       "      <td>83W2407401136T</td>\n",
       "      <td>Reyon</td>\n",
       "      <td>Angola</td>\n",
       "      <td>04-10-2022</td>\n",
       "      <td>NaN</td>\n",
       "      <td>Mathematics- Daniels</td>\n",
       "      <td>Absence - Excused</td>\n",
       "      <td>Grade 11-G - Thurston &amp; Wright</td>\n",
       "      <td>Grade 11</td>\n",
       "      <td>Male</td>\n",
       "    </tr>\n",
       "  </tbody>\n",
       "</table>\n",
       "</div>"
      ],
      "text/plain": [
       "       Student ID Student Institution        Date    Attendance Per Day  \\\n",
       "0  83W2407401136T   Reyon      Angola  14-09-2022                   NaN   \n",
       "1  83W2407401136T   Reyon      Angola  22-09-2022                   NaN   \n",
       "2  83W2407401136T   Reyon      Angola  04-10-2022    Period 1 (Morning)   \n",
       "3  83W2407401136T   Reyon      Angola  04-10-2022  Period 2 (Afternoon)   \n",
       "4  83W2407401136T   Reyon      Angola  04-10-2022                   NaN   \n",
       "\n",
       "                             Subjects         Absence Type  \\\n",
       "0                        Civics - 11G                  NaN   \n",
       "1  English Language- Gibson/K. Cooper  Absence - Unexcused   \n",
       "2                                 NaN  Absence - Unexcused   \n",
       "3                                 NaN  Absence - Unexcused   \n",
       "4                Mathematics- Daniels    Absence - Excused   \n",
       "\n",
       "                Institution Class Education Grade Gender  \n",
       "0  Grade 11-G - Thurston & Wright        Grade 11   Male  \n",
       "1  Grade 11-G - Thurston & Wright        Grade 11   Male  \n",
       "2  Grade 11-G - Thurston & Wright        Grade 11   Male  \n",
       "3  Grade 11-G - Thurston & Wright        Grade 11   Male  \n",
       "4  Grade 11-G - Thurston & Wright        Grade 11   Male  "
      ]
     },
     "execution_count": 10,
     "metadata": {},
     "output_type": "execute_result"
    }
   ],
   "source": [
    "df_attendance.head()"
   ]
  },
  {
   "cell_type": "code",
   "execution_count": 11,
   "metadata": {},
   "outputs": [
    {
     "data": {
      "text/html": [
       "<div>\n",
       "<style scoped>\n",
       "    .dataframe tbody tr th:only-of-type {\n",
       "        vertical-align: middle;\n",
       "    }\n",
       "\n",
       "    .dataframe tbody tr th {\n",
       "        vertical-align: top;\n",
       "    }\n",
       "\n",
       "    .dataframe thead th {\n",
       "        text-align: right;\n",
       "    }\n",
       "</style>\n",
       "<table border=\"1\" class=\"dataframe\">\n",
       "  <thead>\n",
       "    <tr style=\"text-align: right;\">\n",
       "      <th></th>\n",
       "      <th>Institution</th>\n",
       "      <th>Enrollment</th>\n",
       "    </tr>\n",
       "  </thead>\n",
       "  <tbody>\n",
       "    <tr>\n",
       "      <th>0</th>\n",
       "      <td>Jamaica</td>\n",
       "      <td>887</td>\n",
       "    </tr>\n",
       "    <tr>\n",
       "      <th>1</th>\n",
       "      <td>Malaui</td>\n",
       "      <td>135</td>\n",
       "    </tr>\n",
       "    <tr>\n",
       "      <th>2</th>\n",
       "      <td>Mauricio</td>\n",
       "      <td>483</td>\n",
       "    </tr>\n",
       "    <tr>\n",
       "      <th>3</th>\n",
       "      <td>Guinea</td>\n",
       "      <td>1230</td>\n",
       "    </tr>\n",
       "    <tr>\n",
       "      <th>4</th>\n",
       "      <td>Yemen</td>\n",
       "      <td>53</td>\n",
       "    </tr>\n",
       "  </tbody>\n",
       "</table>\n",
       "</div>"
      ],
      "text/plain": [
       "  Institution  Enrollment\n",
       "0     Jamaica         887\n",
       "1      Malaui         135\n",
       "2    Mauricio         483\n",
       "3      Guinea        1230\n",
       "4       Yemen          53"
      ]
     },
     "execution_count": 11,
     "metadata": {},
     "output_type": "execute_result"
    }
   ],
   "source": [
    "df_enrollment.head()"
   ]
  },
  {
   "cell_type": "code",
   "execution_count": 6,
   "metadata": {},
   "outputs": [],
   "source": [
    "#Rename columns\n",
    "df_enrollment.rename(columns={'Enrollment': 'Institution', 'Unnamed: 2': 'Enrollment'}, inplace=True)"
   ]
  },
  {
   "cell_type": "code",
   "execution_count": 9,
   "metadata": {},
   "outputs": [
    {
     "name": "stdout",
     "output_type": "stream",
     "text": [
      "<class 'pandas.core.frame.DataFrame'>\n",
      "RangeIndex: 173106 entries, 0 to 173105\n",
      "Data columns (total 10 columns):\n",
      " #   Column              Non-Null Count   Dtype \n",
      "---  ------              --------------   ----- \n",
      " 0   Student ID          173106 non-null  object\n",
      " 1   Student             173106 non-null  object\n",
      " 2   Institution         173052 non-null  object\n",
      " 3   Date                173106 non-null  object\n",
      " 4   Attendance Per Day  65155 non-null   object\n",
      " 5   Subjects            97415 non-null   object\n",
      " 6   Absence Type        136352 non-null  object\n",
      " 7   Institution Class   173027 non-null  object\n",
      " 8   Education Grade     173106 non-null  object\n",
      " 9   Gender              173106 non-null  object\n",
      "dtypes: object(10)\n",
      "memory usage: 13.2+ MB\n",
      "<class 'pandas.core.frame.DataFrame'>\n",
      "RangeIndex: 54 entries, 0 to 53\n",
      "Data columns (total 2 columns):\n",
      " #   Column       Non-Null Count  Dtype \n",
      "---  ------       --------------  ----- \n",
      " 0   Institution  54 non-null     object\n",
      " 1   Enrollment   54 non-null     int64 \n",
      "dtypes: int64(1), object(1)\n",
      "memory usage: 992.0+ bytes\n"
     ]
    }
   ],
   "source": [
    "#Checking variables and null values\n",
    "df_attendance.info()\n",
    "df_enrollment.info()"
   ]
  },
  {
   "attachments": {},
   "cell_type": "markdown",
   "metadata": {},
   "source": [
    "The variables Institution, Data, Attendance Per Day, Subjects, Absence Type, and Institution Class have nulls values"
   ]
  },
  {
   "cell_type": "markdown",
   "metadata": {},
   "source": [
    "### Variables analysis"
   ]
  },
  {
   "cell_type": "code",
   "execution_count": 18,
   "metadata": {},
   "outputs": [
    {
     "data": {
      "text/html": [
       "<div>\n",
       "<style scoped>\n",
       "    .dataframe tbody tr th:only-of-type {\n",
       "        vertical-align: middle;\n",
       "    }\n",
       "\n",
       "    .dataframe tbody tr th {\n",
       "        vertical-align: top;\n",
       "    }\n",
       "\n",
       "    .dataframe thead th {\n",
       "        text-align: right;\n",
       "    }\n",
       "</style>\n",
       "<table border=\"1\" class=\"dataframe\">\n",
       "  <thead>\n",
       "    <tr style=\"text-align: right;\">\n",
       "      <th></th>\n",
       "      <th>Student ID</th>\n",
       "      <th>Student</th>\n",
       "      <th>Institution</th>\n",
       "      <th>Date</th>\n",
       "      <th>Attendance Per Day</th>\n",
       "      <th>Subjects</th>\n",
       "      <th>Absence Type</th>\n",
       "      <th>Institution Class</th>\n",
       "      <th>Education Grade</th>\n",
       "      <th>Gender</th>\n",
       "    </tr>\n",
       "  </thead>\n",
       "  <tbody>\n",
       "    <tr>\n",
       "      <th>count</th>\n",
       "      <td>173106</td>\n",
       "      <td>173106</td>\n",
       "      <td>173052</td>\n",
       "      <td>173106</td>\n",
       "      <td>65155</td>\n",
       "      <td>97415</td>\n",
       "      <td>136352</td>\n",
       "      <td>173027</td>\n",
       "      <td>173106</td>\n",
       "      <td>173106</td>\n",
       "    </tr>\n",
       "    <tr>\n",
       "      <th>unique</th>\n",
       "      <td>38665</td>\n",
       "      <td>21359</td>\n",
       "      <td>146</td>\n",
       "      <td>85</td>\n",
       "      <td>2</td>\n",
       "      <td>3949</td>\n",
       "      <td>3</td>\n",
       "      <td>1134</td>\n",
       "      <td>28</td>\n",
       "      <td>2</td>\n",
       "    </tr>\n",
       "    <tr>\n",
       "      <th>top</th>\n",
       "      <td>83W1601496548T</td>\n",
       "      <td>Shaon</td>\n",
       "      <td>Senegal</td>\n",
       "      <td>29-08-2022</td>\n",
       "      <td>Period 1 (Morning)</td>\n",
       "      <td>Grammar and Usage</td>\n",
       "      <td>Absence - Unexcused</td>\n",
       "      <td>Grade 7-A</td>\n",
       "      <td>Grade 8</td>\n",
       "      <td>Male</td>\n",
       "    </tr>\n",
       "    <tr>\n",
       "      <th>freq</th>\n",
       "      <td>16</td>\n",
       "      <td>411</td>\n",
       "      <td>8112</td>\n",
       "      <td>11639</td>\n",
       "      <td>33092</td>\n",
       "      <td>3177</td>\n",
       "      <td>102647</td>\n",
       "      <td>2193</td>\n",
       "      <td>22355</td>\n",
       "      <td>87188</td>\n",
       "    </tr>\n",
       "  </tbody>\n",
       "</table>\n",
       "</div>"
      ],
      "text/plain": [
       "            Student ID Student Institution        Date  Attendance Per Day  \\\n",
       "count           173106  173106      173052      173106               65155   \n",
       "unique           38665   21359         146          85                   2   \n",
       "top     83W1601496548T   Shaon     Senegal  29-08-2022  Period 1 (Morning)   \n",
       "freq                16     411        8112       11639               33092   \n",
       "\n",
       "                 Subjects         Absence Type Institution Class  \\\n",
       "count               97415               136352            173027   \n",
       "unique               3949                    3              1134   \n",
       "top     Grammar and Usage  Absence - Unexcused         Grade 7-A   \n",
       "freq                 3177               102647              2193   \n",
       "\n",
       "       Education Grade  Gender  \n",
       "count           173106  173106  \n",
       "unique              28       2  \n",
       "top            Grade 8    Male  \n",
       "freq             22355   87188  "
      ]
     },
     "execution_count": 18,
     "metadata": {},
     "output_type": "execute_result"
    }
   ],
   "source": [
    "#Summary of attendance variables\n",
    "df_attendance.describe()"
   ]
  },
  {
   "attachments": {},
   "cell_type": "markdown",
   "metadata": {},
   "source": [
    "The spreadsheets did not came with a dictionary. Attendance dictionary created from observation:\n",
    "\n",
    "Student ID: ID code that identifies a student.\n",
    "\n",
    "Student: First name of the student.\n",
    "\n",
    "etc completar"
   ]
  },
  {
   "cell_type": "code",
   "execution_count": 17,
   "metadata": {},
   "outputs": [
    {
     "data": {
      "text/plain": [
       "Senegal           8112\n",
       "Guinea            6884\n",
       "Jamaica           6710\n",
       "Níger             6422\n",
       "Argelia           6280\n",
       "                  ... \n",
       "Vietnam             16\n",
       "Uzbekistán          14\n",
       "Timor Oriental      10\n",
       "Azerbaiyán          10\n",
       "Bulgaria             8\n",
       "Name: Institution, Length: 146, dtype: int64"
      ]
     },
     "execution_count": 17,
     "metadata": {},
     "output_type": "execute_result"
    }
   ],
   "source": [
    "df_attendance['Institution'].value_counts()"
   ]
  },
  {
   "cell_type": "code",
   "execution_count": null,
   "metadata": {},
   "outputs": [],
   "source": []
  },
  {
   "cell_type": "code",
   "execution_count": null,
   "metadata": {},
   "outputs": [],
   "source": []
  },
  {
   "attachments": {},
   "cell_type": "markdown",
   "metadata": {},
   "source": [
    "## 2. Diagnosis of the country’s current attendance and attendance rates"
   ]
  },
  {
   "attachments": {},
   "cell_type": "markdown",
   "metadata": {},
   "source": [
    "You must explain your calculation methods."
   ]
  },
  {
   "cell_type": "code",
   "execution_count": null,
   "metadata": {},
   "outputs": [],
   "source": []
  },
  {
   "cell_type": "code",
   "execution_count": null,
   "metadata": {},
   "outputs": [],
   "source": []
  },
  {
   "cell_type": "code",
   "execution_count": null,
   "metadata": {},
   "outputs": [],
   "source": []
  },
  {
   "cell_type": "code",
   "execution_count": null,
   "metadata": {},
   "outputs": [],
   "source": []
  },
  {
   "cell_type": "code",
   "execution_count": null,
   "metadata": {},
   "outputs": [],
   "source": []
  },
  {
   "attachments": {},
   "cell_type": "markdown",
   "metadata": {},
   "source": [
    "## 3. Assessment of the country’s current attendance and attendance rates evolution"
   ]
  },
  {
   "attachments": {},
   "cell_type": "markdown",
   "metadata": {},
   "source": [
    "Include some hypotheses to explain the country’s attendance and attendance trends and justify them using descriptive methods."
   ]
  },
  {
   "cell_type": "code",
   "execution_count": null,
   "metadata": {},
   "outputs": [],
   "source": []
  },
  {
   "cell_type": "code",
   "execution_count": null,
   "metadata": {},
   "outputs": [],
   "source": []
  },
  {
   "cell_type": "code",
   "execution_count": null,
   "metadata": {},
   "outputs": [],
   "source": []
  },
  {
   "cell_type": "code",
   "execution_count": null,
   "metadata": {},
   "outputs": [],
   "source": []
  },
  {
   "cell_type": "code",
   "execution_count": null,
   "metadata": {},
   "outputs": [],
   "source": []
  },
  {
   "attachments": {},
   "cell_type": "markdown",
   "metadata": {},
   "source": [
    "## 4. Estimated attendance and attendance trajectory"
   ]
  },
  {
   "attachments": {},
   "cell_type": "markdown",
   "metadata": {},
   "source": [
    "Justify the methodology used in the estimation and specify the bias assumed with the methodology chosen and justify the choice.\n"
   ]
  },
  {
   "cell_type": "markdown",
   "metadata": {},
   "source": []
  }
 ],
 "metadata": {
  "kernelspec": {
   "display_name": "base",
   "language": "python",
   "name": "python3"
  },
  "language_info": {
   "codemirror_mode": {
    "name": "ipython",
    "version": 3
   },
   "file_extension": ".py",
   "mimetype": "text/x-python",
   "name": "python",
   "nbconvert_exporter": "python",
   "pygments_lexer": "ipython3",
   "version": "3.8.8"
  },
  "orig_nbformat": 4,
  "vscode": {
   "interpreter": {
    "hash": "c34669d3d4ef89f09b577b953bfb4c85c754308955a9a6362400c0ce80760a0d"
   }
  }
 },
 "nbformat": 4,
 "nbformat_minor": 2
}
