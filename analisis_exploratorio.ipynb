{
 "cells": [
  {
   "attachments": {},
   "cell_type": "markdown",
   "metadata": {},
   "source": [
    "# <center> Data Analytics Case: School Attendance metrics<center>"
   ]
  },
  {
   "attachments": {},
   "cell_type": "markdown",
   "metadata": {},
   "source": [
    "**Project:**\n",
    "Data Analytics Case Study\n",
    "\n",
    "**Author:**\n",
    "Heber Mauro Ttito Chara\n",
    "\n",
    "**Last modification:**\n",
    "2023.01.13\n",
    "\n",
    "\n",
    "<hr style=\"height:2px;border-width:0;color:black;background-color:black\">"
   ]
  },
  {
   "attachments": {},
   "cell_type": "markdown",
   "metadata": {},
   "source": [
    "## 0. Importing libraries"
   ]
  },
  {
   "cell_type": "code",
   "execution_count": 1,
   "metadata": {},
   "outputs": [],
   "source": [
    "import numpy as np\n",
    "import pandas as pd\n",
    "import matplotlib.pyplot as plt\n",
    "%matplotlib inline"
   ]
  },
  {
   "cell_type": "markdown",
   "metadata": {},
   "source": [
    "## 1. Data cleaning"
   ]
  },
  {
   "cell_type": "code",
   "execution_count": 2,
   "metadata": {},
   "outputs": [],
   "source": [
    "#Import data\n",
    "df_attendance=pd.read_excel('Case_Study_-_Student_Absence_-_2022-2023_-_Oct_-_Nov.xlsx', index_col=None)\n",
    "df_enrollment=pd.read_excel('Case_Study_-_Student_Enrollment.xlsx', index_col=None, usecols=\"B:C\")"
   ]
  },
  {
   "cell_type": "code",
   "execution_count": 3,
   "metadata": {},
   "outputs": [
    {
     "data": {
      "text/html": [
       "<div>\n",
       "<style scoped>\n",
       "    .dataframe tbody tr th:only-of-type {\n",
       "        vertical-align: middle;\n",
       "    }\n",
       "\n",
       "    .dataframe tbody tr th {\n",
       "        vertical-align: top;\n",
       "    }\n",
       "\n",
       "    .dataframe thead th {\n",
       "        text-align: right;\n",
       "    }\n",
       "</style>\n",
       "<table border=\"1\" class=\"dataframe\">\n",
       "  <thead>\n",
       "    <tr style=\"text-align: right;\">\n",
       "      <th></th>\n",
       "      <th>Student ID</th>\n",
       "      <th>Student</th>\n",
       "      <th>Institution</th>\n",
       "      <th>Date</th>\n",
       "      <th>Attendance Per Day</th>\n",
       "      <th>Subjects</th>\n",
       "      <th>Absence Type</th>\n",
       "      <th>Institution Class</th>\n",
       "      <th>Education Grade</th>\n",
       "      <th>Gender</th>\n",
       "    </tr>\n",
       "  </thead>\n",
       "  <tbody>\n",
       "    <tr>\n",
       "      <th>0</th>\n",
       "      <td>83W2407401136T</td>\n",
       "      <td>Reyon</td>\n",
       "      <td>Angola</td>\n",
       "      <td>14-09-2022</td>\n",
       "      <td>NaN</td>\n",
       "      <td>Civics - 11G</td>\n",
       "      <td>NaN</td>\n",
       "      <td>Grade 11-G - Thurston &amp; Wright</td>\n",
       "      <td>Grade 11</td>\n",
       "      <td>Male</td>\n",
       "    </tr>\n",
       "    <tr>\n",
       "      <th>1</th>\n",
       "      <td>83W2407401136T</td>\n",
       "      <td>Reyon</td>\n",
       "      <td>Angola</td>\n",
       "      <td>22-09-2022</td>\n",
       "      <td>NaN</td>\n",
       "      <td>English Language- Gibson/K. Cooper</td>\n",
       "      <td>Absence - Unexcused</td>\n",
       "      <td>Grade 11-G - Thurston &amp; Wright</td>\n",
       "      <td>Grade 11</td>\n",
       "      <td>Male</td>\n",
       "    </tr>\n",
       "    <tr>\n",
       "      <th>2</th>\n",
       "      <td>83W2407401136T</td>\n",
       "      <td>Reyon</td>\n",
       "      <td>Angola</td>\n",
       "      <td>04-10-2022</td>\n",
       "      <td>Period 1 (Morning)</td>\n",
       "      <td>NaN</td>\n",
       "      <td>Absence - Unexcused</td>\n",
       "      <td>Grade 11-G - Thurston &amp; Wright</td>\n",
       "      <td>Grade 11</td>\n",
       "      <td>Male</td>\n",
       "    </tr>\n",
       "    <tr>\n",
       "      <th>3</th>\n",
       "      <td>83W2407401136T</td>\n",
       "      <td>Reyon</td>\n",
       "      <td>Angola</td>\n",
       "      <td>04-10-2022</td>\n",
       "      <td>Period 2 (Afternoon)</td>\n",
       "      <td>NaN</td>\n",
       "      <td>Absence - Unexcused</td>\n",
       "      <td>Grade 11-G - Thurston &amp; Wright</td>\n",
       "      <td>Grade 11</td>\n",
       "      <td>Male</td>\n",
       "    </tr>\n",
       "    <tr>\n",
       "      <th>4</th>\n",
       "      <td>83W2407401136T</td>\n",
       "      <td>Reyon</td>\n",
       "      <td>Angola</td>\n",
       "      <td>04-10-2022</td>\n",
       "      <td>NaN</td>\n",
       "      <td>Mathematics- Daniels</td>\n",
       "      <td>Absence - Excused</td>\n",
       "      <td>Grade 11-G - Thurston &amp; Wright</td>\n",
       "      <td>Grade 11</td>\n",
       "      <td>Male</td>\n",
       "    </tr>\n",
       "  </tbody>\n",
       "</table>\n",
       "</div>"
      ],
      "text/plain": [
       "       Student ID Student Institution        Date    Attendance Per Day  \\\n",
       "0  83W2407401136T   Reyon      Angola  14-09-2022                   NaN   \n",
       "1  83W2407401136T   Reyon      Angola  22-09-2022                   NaN   \n",
       "2  83W2407401136T   Reyon      Angola  04-10-2022    Period 1 (Morning)   \n",
       "3  83W2407401136T   Reyon      Angola  04-10-2022  Period 2 (Afternoon)   \n",
       "4  83W2407401136T   Reyon      Angola  04-10-2022                   NaN   \n",
       "\n",
       "                             Subjects         Absence Type  \\\n",
       "0                        Civics - 11G                  NaN   \n",
       "1  English Language- Gibson/K. Cooper  Absence - Unexcused   \n",
       "2                                 NaN  Absence - Unexcused   \n",
       "3                                 NaN  Absence - Unexcused   \n",
       "4                Mathematics- Daniels    Absence - Excused   \n",
       "\n",
       "                Institution Class Education Grade Gender  \n",
       "0  Grade 11-G - Thurston & Wright        Grade 11   Male  \n",
       "1  Grade 11-G - Thurston & Wright        Grade 11   Male  \n",
       "2  Grade 11-G - Thurston & Wright        Grade 11   Male  \n",
       "3  Grade 11-G - Thurston & Wright        Grade 11   Male  \n",
       "4  Grade 11-G - Thurston & Wright        Grade 11   Male  "
      ]
     },
     "execution_count": 3,
     "metadata": {},
     "output_type": "execute_result"
    }
   ],
   "source": [
    "df_attendance.head()"
   ]
  },
  {
   "cell_type": "code",
   "execution_count": 4,
   "metadata": {},
   "outputs": [
    {
     "data": {
      "text/html": [
       "<div>\n",
       "<style scoped>\n",
       "    .dataframe tbody tr th:only-of-type {\n",
       "        vertical-align: middle;\n",
       "    }\n",
       "\n",
       "    .dataframe tbody tr th {\n",
       "        vertical-align: top;\n",
       "    }\n",
       "\n",
       "    .dataframe thead th {\n",
       "        text-align: right;\n",
       "    }\n",
       "</style>\n",
       "<table border=\"1\" class=\"dataframe\">\n",
       "  <thead>\n",
       "    <tr style=\"text-align: right;\">\n",
       "      <th></th>\n",
       "      <th>Enrollment</th>\n",
       "      <th>Unnamed: 2</th>\n",
       "    </tr>\n",
       "  </thead>\n",
       "  <tbody>\n",
       "    <tr>\n",
       "      <th>0</th>\n",
       "      <td>Jamaica</td>\n",
       "      <td>887</td>\n",
       "    </tr>\n",
       "    <tr>\n",
       "      <th>1</th>\n",
       "      <td>Malaui</td>\n",
       "      <td>135</td>\n",
       "    </tr>\n",
       "    <tr>\n",
       "      <th>2</th>\n",
       "      <td>Mauricio</td>\n",
       "      <td>483</td>\n",
       "    </tr>\n",
       "    <tr>\n",
       "      <th>3</th>\n",
       "      <td>Guinea</td>\n",
       "      <td>1230</td>\n",
       "    </tr>\n",
       "    <tr>\n",
       "      <th>4</th>\n",
       "      <td>Yemen</td>\n",
       "      <td>53</td>\n",
       "    </tr>\n",
       "  </tbody>\n",
       "</table>\n",
       "</div>"
      ],
      "text/plain": [
       "  Enrollment  Unnamed: 2\n",
       "0    Jamaica         887\n",
       "1     Malaui         135\n",
       "2   Mauricio         483\n",
       "3     Guinea        1230\n",
       "4      Yemen          53"
      ]
     },
     "execution_count": 4,
     "metadata": {},
     "output_type": "execute_result"
    }
   ],
   "source": [
    "df_enrollment.head()"
   ]
  },
  {
   "cell_type": "code",
   "execution_count": 5,
   "metadata": {},
   "outputs": [],
   "source": [
    "#Rename columns\n",
    "df_enrollment.rename(columns={'Enrollment': 'Institution', 'Unnamed: 2': 'Enrollment'}, inplace=True)"
   ]
  },
  {
   "cell_type": "code",
   "execution_count": 6,
   "metadata": {},
   "outputs": [
    {
     "name": "stdout",
     "output_type": "stream",
     "text": [
      "<class 'pandas.core.frame.DataFrame'>\n",
      "RangeIndex: 173106 entries, 0 to 173105\n",
      "Data columns (total 10 columns):\n",
      " #   Column              Non-Null Count   Dtype \n",
      "---  ------              --------------   ----- \n",
      " 0   Student ID          173106 non-null  object\n",
      " 1   Student             173106 non-null  object\n",
      " 2   Institution         173052 non-null  object\n",
      " 3   Date                173106 non-null  object\n",
      " 4   Attendance Per Day  65155 non-null   object\n",
      " 5   Subjects            97415 non-null   object\n",
      " 6   Absence Type        136352 non-null  object\n",
      " 7   Institution Class   173027 non-null  object\n",
      " 8   Education Grade     173106 non-null  object\n",
      " 9   Gender              173106 non-null  object\n",
      "dtypes: object(10)\n",
      "memory usage: 13.2+ MB\n",
      "<class 'pandas.core.frame.DataFrame'>\n",
      "RangeIndex: 54 entries, 0 to 53\n",
      "Data columns (total 2 columns):\n",
      " #   Column       Non-Null Count  Dtype \n",
      "---  ------       --------------  ----- \n",
      " 0   Institution  54 non-null     object\n",
      " 1   Enrollment   54 non-null     int64 \n",
      "dtypes: int64(1), object(1)\n",
      "memory usage: 992.0+ bytes\n"
     ]
    }
   ],
   "source": [
    "#Checking variables and null values\n",
    "df_attendance.info()\n",
    "df_enrollment.info()"
   ]
  },
  {
   "attachments": {},
   "cell_type": "markdown",
   "metadata": {},
   "source": [
    "The variables Institution, Data, Attendance Per Day, Subjects, Absence Type, and Institution Class have nulls values"
   ]
  },
  {
   "attachments": {},
   "cell_type": "markdown",
   "metadata": {},
   "source": [
    "It is noted that the date variable must be in date format and not in object format."
   ]
  },
  {
   "cell_type": "code",
   "execution_count": 7,
   "metadata": {},
   "outputs": [
    {
     "name": "stdout",
     "output_type": "stream",
     "text": [
      "datetime64[ns]\n"
     ]
    }
   ],
   "source": [
    "# Change the format of 'Date' column\n",
    "df_attendance['Date']= pd.to_datetime(df_attendance['Date'])\n",
    "print(df_attendance['Date'].dtypes)\n"
   ]
  },
  {
   "cell_type": "markdown",
   "metadata": {},
   "source": [
    "### Variables analysis"
   ]
  },
  {
   "attachments": {},
   "cell_type": "markdown",
   "metadata": {},
   "source": [
    "**The spreadsheets did not came with a dictionary.** \n",
    "\n",
    "The variables will be analyzed in order to understand each one and their relationship with each other."
   ]
  },
  {
   "attachments": {},
   "cell_type": "markdown",
   "metadata": {},
   "source": [
    "**Recommendation**: The Ministry of Education should provide dictionaries of the databases because our interpretation could be inaccurate.  "
   ]
  },
  {
   "attachments": {},
   "cell_type": "markdown",
   "metadata": {},
   "source": [
    "#### Analyzing the enrollment"
   ]
  },
  {
   "cell_type": "code",
   "execution_count": 13,
   "metadata": {},
   "outputs": [
    {
     "data": {
      "image/png": "[encoded data removed]",
      "text/plain": [
       "<Figure size 432x288 with 1 Axes>"
      ]
     },
     "metadata": {
      "needs_background": "light"
     },
     "output_type": "display_data"
    }
   ],
   "source": [
    "# Analyzing the enrollment\n",
    "df_enrollment['Enrollment'].hist(bins=10) \n",
    "plt.xlabel(\"Enrollment\")\n",
    "plt.ylabel(\"Institution\")\n",
    "plt.rcParams['figure.figsize'] = [5,5] \n",
    "plt.show()"
   ]
  },
  {
   "cell_type": "code",
   "execution_count": 14,
   "metadata": {},
   "outputs": [
    {
     "data": {
      "text/html": [
       "<div>\n",
       "<style scoped>\n",
       "    .dataframe tbody tr th:only-of-type {\n",
       "        vertical-align: middle;\n",
       "    }\n",
       "\n",
       "    .dataframe tbody tr th {\n",
       "        vertical-align: top;\n",
       "    }\n",
       "\n",
       "    .dataframe thead th {\n",
       "        text-align: right;\n",
       "    }\n",
       "</style>\n",
       "<table border=\"1\" class=\"dataframe\">\n",
       "  <thead>\n",
       "    <tr style=\"text-align: right;\">\n",
       "      <th></th>\n",
       "      <th>count</th>\n",
       "      <th>mean</th>\n",
       "      <th>std</th>\n",
       "      <th>min</th>\n",
       "      <th>25%</th>\n",
       "      <th>50%</th>\n",
       "      <th>75%</th>\n",
       "      <th>max</th>\n",
       "    </tr>\n",
       "  </thead>\n",
       "  <tbody>\n",
       "    <tr>\n",
       "      <th>Enrollment</th>\n",
       "      <td>54.00</td>\n",
       "      <td>481.61</td>\n",
       "      <td>346.94</td>\n",
       "      <td>1.00</td>\n",
       "      <td>70.75</td>\n",
       "      <td>539.00</td>\n",
       "      <td>722.75</td>\n",
       "      <td>1230.00</td>\n",
       "    </tr>\n",
       "  </tbody>\n",
       "</table>\n",
       "</div>"
      ],
      "text/plain": [
       "            count    mean     std   min    25%     50%     75%      max\n",
       "Enrollment  54.00  481.61  346.94  1.00  70.75  539.00  722.75  1230.00"
      ]
     },
     "execution_count": 14,
     "metadata": {},
     "output_type": "execute_result"
    }
   ],
   "source": [
    "# Analyzing some statistics of enrollment\n",
    "df_enrollment.describe().T.apply(lambda s: s.apply('{0:.2f}'.format))"
   ]
  },
  {
   "cell_type": "code",
   "execution_count": 15,
   "metadata": {},
   "outputs": [],
   "source": [
    "# A categorical variable is created to deepen the analysis of attendance.\n",
    "df_enrollment['School_size'] = pd.cut(x=df_enrollment['Enrollment'], bins=[0, 500, 1230], \n",
    "                                labels=['small institution','non-small institution'])"
   ]
  },
  {
   "cell_type": "code",
   "execution_count": 17,
   "metadata": {},
   "outputs": [
    {
     "data": {
      "text/html": [
       "<div>\n",
       "<style scoped>\n",
       "    .dataframe tbody tr th:only-of-type {\n",
       "        vertical-align: middle;\n",
       "    }\n",
       "\n",
       "    .dataframe tbody tr th {\n",
       "        vertical-align: top;\n",
       "    }\n",
       "\n",
       "    .dataframe thead th {\n",
       "        text-align: right;\n",
       "    }\n",
       "</style>\n",
       "<table border=\"1\" class=\"dataframe\">\n",
       "  <thead>\n",
       "    <tr style=\"text-align: right;\">\n",
       "      <th></th>\n",
       "      <th>Institution</th>\n",
       "      <th>Enrollment</th>\n",
       "      <th>School_size</th>\n",
       "    </tr>\n",
       "  </thead>\n",
       "  <tbody>\n",
       "    <tr>\n",
       "      <th>0</th>\n",
       "      <td>Jamaica</td>\n",
       "      <td>887</td>\n",
       "      <td>non-small institution</td>\n",
       "    </tr>\n",
       "    <tr>\n",
       "      <th>1</th>\n",
       "      <td>Malaui</td>\n",
       "      <td>135</td>\n",
       "      <td>small institution</td>\n",
       "    </tr>\n",
       "    <tr>\n",
       "      <th>2</th>\n",
       "      <td>Mauricio</td>\n",
       "      <td>483</td>\n",
       "      <td>small institution</td>\n",
       "    </tr>\n",
       "    <tr>\n",
       "      <th>3</th>\n",
       "      <td>Guinea</td>\n",
       "      <td>1230</td>\n",
       "      <td>non-small institution</td>\n",
       "    </tr>\n",
       "    <tr>\n",
       "      <th>4</th>\n",
       "      <td>Yemen</td>\n",
       "      <td>53</td>\n",
       "      <td>small institution</td>\n",
       "    </tr>\n",
       "  </tbody>\n",
       "</table>\n",
       "</div>"
      ],
      "text/plain": [
       "  Institution  Enrollment            School_size\n",
       "0     Jamaica         887  non-small institution\n",
       "1      Malaui         135      small institution\n",
       "2    Mauricio         483      small institution\n",
       "3      Guinea        1230  non-small institution\n",
       "4       Yemen          53      small institution"
      ]
     },
     "execution_count": 17,
     "metadata": {},
     "output_type": "execute_result"
    }
   ],
   "source": [
    "df_enrollment.head()"
   ]
  },
  {
   "attachments": {},
   "cell_type": "markdown",
   "metadata": {},
   "source": [
    "The enrollment database needs to have cut-off date information. If the data needs to be updated, more or fewer students could be enrolled since enrollment is not constant. Outdated information could affect the estimation of attendance ratios.\n",
    "\n",
    "**Recommendation**: Include the information's cut-off date, which should be close to the attendance information."
   ]
  },
  {
   "attachments": {},
   "cell_type": "markdown",
   "metadata": {},
   "source": [
    "#### Analyzing the attendance"
   ]
  },
  {
   "cell_type": "code",
   "execution_count": 8,
   "metadata": {},
   "outputs": [
    {
     "name": "stderr",
     "output_type": "stream",
     "text": [
      "C:\\Users\\COORDI~1\\AppData\\Local\\Temp/ipykernel_15476/1503815828.py:2: FutureWarning: Treating datetime data as categorical rather than numeric in `.describe` is deprecated and will be removed in a future version of pandas. Specify `datetime_is_numeric=True` to silence this warning and adopt the future behavior now.\n",
      "  df_attendance.describe()\n"
     ]
    },
    {
     "data": {
      "text/html": [
       "<div>\n",
       "<style scoped>\n",
       "    .dataframe tbody tr th:only-of-type {\n",
       "        vertical-align: middle;\n",
       "    }\n",
       "\n",
       "    .dataframe tbody tr th {\n",
       "        vertical-align: top;\n",
       "    }\n",
       "\n",
       "    .dataframe thead th {\n",
       "        text-align: right;\n",
       "    }\n",
       "</style>\n",
       "<table border=\"1\" class=\"dataframe\">\n",
       "  <thead>\n",
       "    <tr style=\"text-align: right;\">\n",
       "      <th></th>\n",
       "      <th>Student ID</th>\n",
       "      <th>Student</th>\n",
       "      <th>Institution</th>\n",
       "      <th>Date</th>\n",
       "      <th>Attendance Per Day</th>\n",
       "      <th>Subjects</th>\n",
       "      <th>Absence Type</th>\n",
       "      <th>Institution Class</th>\n",
       "      <th>Education Grade</th>\n",
       "      <th>Gender</th>\n",
       "    </tr>\n",
       "  </thead>\n",
       "  <tbody>\n",
       "    <tr>\n",
       "      <th>count</th>\n",
       "      <td>173106</td>\n",
       "      <td>173106</td>\n",
       "      <td>173052</td>\n",
       "      <td>173106</td>\n",
       "      <td>65155</td>\n",
       "      <td>97415</td>\n",
       "      <td>136352</td>\n",
       "      <td>173027</td>\n",
       "      <td>173106</td>\n",
       "      <td>173106</td>\n",
       "    </tr>\n",
       "    <tr>\n",
       "      <th>unique</th>\n",
       "      <td>38665</td>\n",
       "      <td>21359</td>\n",
       "      <td>146</td>\n",
       "      <td>85</td>\n",
       "      <td>2</td>\n",
       "      <td>3949</td>\n",
       "      <td>3</td>\n",
       "      <td>1134</td>\n",
       "      <td>28</td>\n",
       "      <td>2</td>\n",
       "    </tr>\n",
       "    <tr>\n",
       "      <th>top</th>\n",
       "      <td>83W1601496548T</td>\n",
       "      <td>Shaon</td>\n",
       "      <td>Senegal</td>\n",
       "      <td>2022-08-29 00:00:00</td>\n",
       "      <td>Period 1 (Morning)</td>\n",
       "      <td>Grammar and Usage</td>\n",
       "      <td>Absence - Unexcused</td>\n",
       "      <td>Grade 7-A</td>\n",
       "      <td>Grade 8</td>\n",
       "      <td>Male</td>\n",
       "    </tr>\n",
       "    <tr>\n",
       "      <th>freq</th>\n",
       "      <td>16</td>\n",
       "      <td>411</td>\n",
       "      <td>8112</td>\n",
       "      <td>11639</td>\n",
       "      <td>33092</td>\n",
       "      <td>3177</td>\n",
       "      <td>102647</td>\n",
       "      <td>2193</td>\n",
       "      <td>22355</td>\n",
       "      <td>87188</td>\n",
       "    </tr>\n",
       "    <tr>\n",
       "      <th>first</th>\n",
       "      <td>NaN</td>\n",
       "      <td>NaN</td>\n",
       "      <td>NaN</td>\n",
       "      <td>2022-01-09 00:00:00</td>\n",
       "      <td>NaN</td>\n",
       "      <td>NaN</td>\n",
       "      <td>NaN</td>\n",
       "      <td>NaN</td>\n",
       "      <td>NaN</td>\n",
       "      <td>NaN</td>\n",
       "    </tr>\n",
       "    <tr>\n",
       "      <th>last</th>\n",
       "      <td>NaN</td>\n",
       "      <td>NaN</td>\n",
       "      <td>NaN</td>\n",
       "      <td>2023-02-01 00:00:00</td>\n",
       "      <td>NaN</td>\n",
       "      <td>NaN</td>\n",
       "      <td>NaN</td>\n",
       "      <td>NaN</td>\n",
       "      <td>NaN</td>\n",
       "      <td>NaN</td>\n",
       "    </tr>\n",
       "  </tbody>\n",
       "</table>\n",
       "</div>"
      ],
      "text/plain": [
       "            Student ID Student Institution                 Date  \\\n",
       "count           173106  173106      173052               173106   \n",
       "unique           38665   21359         146                   85   \n",
       "top     83W1601496548T   Shaon     Senegal  2022-08-29 00:00:00   \n",
       "freq                16     411        8112                11639   \n",
       "first              NaN     NaN         NaN  2022-01-09 00:00:00   \n",
       "last               NaN     NaN         NaN  2023-02-01 00:00:00   \n",
       "\n",
       "        Attendance Per Day           Subjects         Absence Type  \\\n",
       "count                65155              97415               136352   \n",
       "unique                   2               3949                    3   \n",
       "top     Period 1 (Morning)  Grammar and Usage  Absence - Unexcused   \n",
       "freq                 33092               3177               102647   \n",
       "first                  NaN                NaN                  NaN   \n",
       "last                   NaN                NaN                  NaN   \n",
       "\n",
       "       Institution Class Education Grade  Gender  \n",
       "count             173027          173106  173106  \n",
       "unique              1134              28       2  \n",
       "top            Grade 7-A         Grade 8    Male  \n",
       "freq                2193           22355   87188  \n",
       "first                NaN             NaN     NaN  \n",
       "last                 NaN             NaN     NaN  "
      ]
     },
     "execution_count": 8,
     "metadata": {},
     "output_type": "execute_result"
    }
   ],
   "source": [
    "#Summary of attendance variables\n",
    "df_attendance.describe()"
   ]
  },
  {
   "cell_type": "code",
   "execution_count": null,
   "metadata": {},
   "outputs": [],
   "source": [
    "df_attendance['Institution'].value_counts()"
   ]
  },
  {
   "cell_type": "code",
   "execution_count": null,
   "metadata": {},
   "outputs": [],
   "source": [
    "#Values of Attendance per day\n",
    "df_attendance['Attendance Per Day'].value_counts()"
   ]
  },
  {
   "cell_type": "code",
   "execution_count": null,
   "metadata": {},
   "outputs": [],
   "source": [
    "#Values of Absence Type\n",
    "df_attendance['Absence Type'].value_counts()"
   ]
  },
  {
   "cell_type": "code",
   "execution_count": null,
   "metadata": {},
   "outputs": [],
   "source": [
    "#Values of Gender\n",
    "df_attendance['Gender'].value_counts()"
   ]
  },
  {
   "cell_type": "code",
   "execution_count": null,
   "metadata": {},
   "outputs": [],
   "source": []
  },
  {
   "attachments": {},
   "cell_type": "markdown",
   "metadata": {},
   "source": [
    "**Attendance dictionary created from observation:**\n",
    "\n",
    "Student ID: ID code that identifies a student.\n",
    "\n",
    "Student: First name of the student.\n",
    "\n",
    "Institution: The institution's name, in this case, is based on the name of the countries.\n",
    "\n",
    "Date: Date of attendance record.\n",
    "\n",
    "Attendance Per Day: Attendance period in morning (period 1) or afternoon (period 2).\n",
    "\n",
    "Subjects: The subject matter of the attendance record.\n",
    "\n",
    "Absence Type: Type of absence excused or unexcused.\n",
    "\n",
    "Institution Class: name of student's class or section including grade level\n",
    "\n",
    "Education Grade: Student's educational level.\n",
    "\n",
    "Gender: Gender of the student (Male or Female).\n",
    "\n",
    "**Enrollment dictionary created from observation:**\n",
    "\n",
    "Institution: The institution's name, in this case, is based on the name of the countries. (Will be use to merge dataframes)\n",
    "\n",
    "Enrollment: The number of students enrolled."
   ]
  },
  {
   "attachments": {},
   "cell_type": "markdown",
   "metadata": {},
   "source": [
    "## 2. Diagnosis of the country’s current attendance and attendance rates"
   ]
  },
  {
   "attachments": {},
   "cell_type": "markdown",
   "metadata": {},
   "source": [
    "You must explain your calculation methods."
   ]
  },
  {
   "cell_type": "code",
   "execution_count": null,
   "metadata": {},
   "outputs": [],
   "source": []
  },
  {
   "cell_type": "code",
   "execution_count": null,
   "metadata": {},
   "outputs": [],
   "source": []
  },
  {
   "cell_type": "code",
   "execution_count": null,
   "metadata": {},
   "outputs": [],
   "source": []
  },
  {
   "cell_type": "code",
   "execution_count": null,
   "metadata": {},
   "outputs": [],
   "source": []
  },
  {
   "cell_type": "code",
   "execution_count": null,
   "metadata": {},
   "outputs": [],
   "source": []
  },
  {
   "attachments": {},
   "cell_type": "markdown",
   "metadata": {},
   "source": [
    "## 3. Assessment of the country’s current attendance and attendance rates evolution"
   ]
  },
  {
   "attachments": {},
   "cell_type": "markdown",
   "metadata": {},
   "source": [
    "Include some hypotheses to explain the country’s attendance and attendance trends and justify them using descriptive methods."
   ]
  },
  {
   "cell_type": "code",
   "execution_count": null,
   "metadata": {},
   "outputs": [],
   "source": []
  },
  {
   "cell_type": "code",
   "execution_count": null,
   "metadata": {},
   "outputs": [],
   "source": []
  },
  {
   "cell_type": "code",
   "execution_count": null,
   "metadata": {},
   "outputs": [],
   "source": []
  },
  {
   "cell_type": "code",
   "execution_count": null,
   "metadata": {},
   "outputs": [],
   "source": []
  },
  {
   "cell_type": "code",
   "execution_count": null,
   "metadata": {},
   "outputs": [],
   "source": []
  },
  {
   "attachments": {},
   "cell_type": "markdown",
   "metadata": {},
   "source": [
    "## 4. Estimated attendance and attendance trajectory"
   ]
  },
  {
   "attachments": {},
   "cell_type": "markdown",
   "metadata": {},
   "source": [
    "Justify the methodology used in the estimation and specify the bias assumed with the methodology chosen and justify the choice.\n"
   ]
  },
  {
   "cell_type": "markdown",
   "metadata": {},
   "source": []
  }
 ],
 "metadata": {
  "kernelspec": {
   "display_name": "base",
   "language": "python",
   "name": "python3"
  },
  "language_info": {
   "codemirror_mode": {
    "name": "ipython",
    "version": 3
   },
   "file_extension": ".py",
   "mimetype": "text/x-python",
   "name": "python",
   "nbconvert_exporter": "python",
   "pygments_lexer": "ipython3",
   "version": "3.9.7"
  },
  "orig_nbformat": 4,
  "vscode": {
   "interpreter": {
    "hash": "3e5f92fc0f7c5faadae7e5189891a4b2cb4a3d30123d8e217b328b9b83fc2902"
   }
  }
 },
 "nbformat": 4,
 "nbformat_minor": 2
}
