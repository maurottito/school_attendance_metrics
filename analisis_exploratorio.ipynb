{
 "cells": [
  {
   "attachments": {},
   "cell_type": "markdown",
   "metadata": {},
   "source": [
    "# <center> Data Analytics Case: School Attendance metrics<center>"
   ]
  },
  {
   "attachments": {},
   "cell_type": "markdown",
   "metadata": {},
   "source": [
    "**Project:**\n",
    "Data Analytics Case Study\n",
    "\n",
    "**Author:**\n",
    "Heber Mauro Ttito Chara\n",
    "\n",
    "**Last modification:**\n",
    "2023.01.13\n",
    "\n",
    "\n",
    "<hr style=\"height:2px;border-width:0;color:black;background-color:black\">"
   ]
  },
  {
   "attachments": {},
   "cell_type": "markdown",
   "metadata": {},
   "source": [
    "## 0. Importing libraries"
   ]
  },
  {
   "cell_type": "code",
   "execution_count": 1,
   "metadata": {},
   "outputs": [],
   "source": [
    "import numpy as np\n",
    "import pandas as pd\n",
    "import seaborn as sns\n",
    "import matplotlib.pyplot as plt\n",
    "%matplotlib inline"
   ]
  },
  {
   "cell_type": "markdown",
   "metadata": {},
   "source": [
    "## 1. Data cleaning"
   ]
  },
  {
   "cell_type": "code",
   "execution_count": 2,
   "metadata": {},
   "outputs": [],
   "source": [
    "#Import data\n",
    "df_attendance=pd.read_excel('Case_Study_-_Student_Absence_-_2022-2023_-_Oct_-_Nov.xlsx', index_col=None)\n",
    "df_enrollment=pd.read_excel('Case_Study_-_Student_Enrollment.xlsx', index_col=None, usecols=\"B:C\")"
   ]
  },
  {
   "cell_type": "code",
   "execution_count": 3,
   "metadata": {},
   "outputs": [
    {
     "data": {
      "text/html": [
       "<div>\n",
       "<style scoped>\n",
       "    .dataframe tbody tr th:only-of-type {\n",
       "        vertical-align: middle;\n",
       "    }\n",
       "\n",
       "    .dataframe tbody tr th {\n",
       "        vertical-align: top;\n",
       "    }\n",
       "\n",
       "    .dataframe thead th {\n",
       "        text-align: right;\n",
       "    }\n",
       "</style>\n",
       "<table border=\"1\" class=\"dataframe\">\n",
       "  <thead>\n",
       "    <tr style=\"text-align: right;\">\n",
       "      <th></th>\n",
       "      <th>Student ID</th>\n",
       "      <th>Student</th>\n",
       "      <th>Institution</th>\n",
       "      <th>Date</th>\n",
       "      <th>Attendance Per Day</th>\n",
       "      <th>Subjects</th>\n",
       "      <th>Absence Type</th>\n",
       "      <th>Institution Class</th>\n",
       "      <th>Education Grade</th>\n",
       "      <th>Gender</th>\n",
       "    </tr>\n",
       "  </thead>\n",
       "  <tbody>\n",
       "    <tr>\n",
       "      <th>0</th>\n",
       "      <td>83W2407401136T</td>\n",
       "      <td>Reyon</td>\n",
       "      <td>Angola</td>\n",
       "      <td>14-09-2022</td>\n",
       "      <td>NaN</td>\n",
       "      <td>Civics - 11G</td>\n",
       "      <td>NaN</td>\n",
       "      <td>Grade 11-G - Thurston &amp; Wright</td>\n",
       "      <td>Grade 11</td>\n",
       "      <td>Male</td>\n",
       "    </tr>\n",
       "    <tr>\n",
       "      <th>1</th>\n",
       "      <td>83W2407401136T</td>\n",
       "      <td>Reyon</td>\n",
       "      <td>Angola</td>\n",
       "      <td>22-09-2022</td>\n",
       "      <td>NaN</td>\n",
       "      <td>English Language- Gibson/K. Cooper</td>\n",
       "      <td>Absence - Unexcused</td>\n",
       "      <td>Grade 11-G - Thurston &amp; Wright</td>\n",
       "      <td>Grade 11</td>\n",
       "      <td>Male</td>\n",
       "    </tr>\n",
       "    <tr>\n",
       "      <th>2</th>\n",
       "      <td>83W2407401136T</td>\n",
       "      <td>Reyon</td>\n",
       "      <td>Angola</td>\n",
       "      <td>04-10-2022</td>\n",
       "      <td>Period 1 (Morning)</td>\n",
       "      <td>NaN</td>\n",
       "      <td>Absence - Unexcused</td>\n",
       "      <td>Grade 11-G - Thurston &amp; Wright</td>\n",
       "      <td>Grade 11</td>\n",
       "      <td>Male</td>\n",
       "    </tr>\n",
       "    <tr>\n",
       "      <th>3</th>\n",
       "      <td>83W2407401136T</td>\n",
       "      <td>Reyon</td>\n",
       "      <td>Angola</td>\n",
       "      <td>04-10-2022</td>\n",
       "      <td>Period 2 (Afternoon)</td>\n",
       "      <td>NaN</td>\n",
       "      <td>Absence - Unexcused</td>\n",
       "      <td>Grade 11-G - Thurston &amp; Wright</td>\n",
       "      <td>Grade 11</td>\n",
       "      <td>Male</td>\n",
       "    </tr>\n",
       "    <tr>\n",
       "      <th>4</th>\n",
       "      <td>83W2407401136T</td>\n",
       "      <td>Reyon</td>\n",
       "      <td>Angola</td>\n",
       "      <td>04-10-2022</td>\n",
       "      <td>NaN</td>\n",
       "      <td>Mathematics- Daniels</td>\n",
       "      <td>Absence - Excused</td>\n",
       "      <td>Grade 11-G - Thurston &amp; Wright</td>\n",
       "      <td>Grade 11</td>\n",
       "      <td>Male</td>\n",
       "    </tr>\n",
       "  </tbody>\n",
       "</table>\n",
       "</div>"
      ],
      "text/plain": [
       "       Student ID Student Institution        Date    Attendance Per Day  \\\n",
       "0  83W2407401136T   Reyon      Angola  14-09-2022                   NaN   \n",
       "1  83W2407401136T   Reyon      Angola  22-09-2022                   NaN   \n",
       "2  83W2407401136T   Reyon      Angola  04-10-2022    Period 1 (Morning)   \n",
       "3  83W2407401136T   Reyon      Angola  04-10-2022  Period 2 (Afternoon)   \n",
       "4  83W2407401136T   Reyon      Angola  04-10-2022                   NaN   \n",
       "\n",
       "                             Subjects         Absence Type  \\\n",
       "0                        Civics - 11G                  NaN   \n",
       "1  English Language- Gibson/K. Cooper  Absence - Unexcused   \n",
       "2                                 NaN  Absence - Unexcused   \n",
       "3                                 NaN  Absence - Unexcused   \n",
       "4                Mathematics- Daniels    Absence - Excused   \n",
       "\n",
       "                Institution Class Education Grade Gender  \n",
       "0  Grade 11-G - Thurston & Wright        Grade 11   Male  \n",
       "1  Grade 11-G - Thurston & Wright        Grade 11   Male  \n",
       "2  Grade 11-G - Thurston & Wright        Grade 11   Male  \n",
       "3  Grade 11-G - Thurston & Wright        Grade 11   Male  \n",
       "4  Grade 11-G - Thurston & Wright        Grade 11   Male  "
      ]
     },
     "execution_count": 3,
     "metadata": {},
     "output_type": "execute_result"
    }
   ],
   "source": [
    "df_attendance.head()"
   ]
  },
  {
   "cell_type": "code",
   "execution_count": 4,
   "metadata": {},
   "outputs": [
    {
     "data": {
      "text/html": [
       "<div>\n",
       "<style scoped>\n",
       "    .dataframe tbody tr th:only-of-type {\n",
       "        vertical-align: middle;\n",
       "    }\n",
       "\n",
       "    .dataframe tbody tr th {\n",
       "        vertical-align: top;\n",
       "    }\n",
       "\n",
       "    .dataframe thead th {\n",
       "        text-align: right;\n",
       "    }\n",
       "</style>\n",
       "<table border=\"1\" class=\"dataframe\">\n",
       "  <thead>\n",
       "    <tr style=\"text-align: right;\">\n",
       "      <th></th>\n",
       "      <th>Enrollment</th>\n",
       "      <th>Unnamed: 2</th>\n",
       "    </tr>\n",
       "  </thead>\n",
       "  <tbody>\n",
       "    <tr>\n",
       "      <th>0</th>\n",
       "      <td>Jamaica</td>\n",
       "      <td>887</td>\n",
       "    </tr>\n",
       "    <tr>\n",
       "      <th>1</th>\n",
       "      <td>Malaui</td>\n",
       "      <td>135</td>\n",
       "    </tr>\n",
       "    <tr>\n",
       "      <th>2</th>\n",
       "      <td>Mauricio</td>\n",
       "      <td>483</td>\n",
       "    </tr>\n",
       "    <tr>\n",
       "      <th>3</th>\n",
       "      <td>Guinea</td>\n",
       "      <td>1230</td>\n",
       "    </tr>\n",
       "    <tr>\n",
       "      <th>4</th>\n",
       "      <td>Yemen</td>\n",
       "      <td>53</td>\n",
       "    </tr>\n",
       "  </tbody>\n",
       "</table>\n",
       "</div>"
      ],
      "text/plain": [
       "  Enrollment  Unnamed: 2\n",
       "0    Jamaica         887\n",
       "1     Malaui         135\n",
       "2   Mauricio         483\n",
       "3     Guinea        1230\n",
       "4      Yemen          53"
      ]
     },
     "execution_count": 4,
     "metadata": {},
     "output_type": "execute_result"
    }
   ],
   "source": [
    "df_enrollment.head()"
   ]
  },
  {
   "cell_type": "code",
   "execution_count": 5,
   "metadata": {},
   "outputs": [],
   "source": [
    "#Rename columns\n",
    "df_enrollment.rename(columns={'Enrollment': 'Institution', 'Unnamed: 2': 'Enrollment'}, inplace=True)"
   ]
  },
  {
   "cell_type": "code",
   "execution_count": 6,
   "metadata": {},
   "outputs": [
    {
     "name": "stdout",
     "output_type": "stream",
     "text": [
      "<class 'pandas.core.frame.DataFrame'>\n",
      "RangeIndex: 173106 entries, 0 to 173105\n",
      "Data columns (total 10 columns):\n",
      " #   Column              Non-Null Count   Dtype \n",
      "---  ------              --------------   ----- \n",
      " 0   Student ID          173106 non-null  object\n",
      " 1   Student             173106 non-null  object\n",
      " 2   Institution         173052 non-null  object\n",
      " 3   Date                173106 non-null  object\n",
      " 4   Attendance Per Day  65155 non-null   object\n",
      " 5   Subjects            97415 non-null   object\n",
      " 6   Absence Type        136352 non-null  object\n",
      " 7   Institution Class   173027 non-null  object\n",
      " 8   Education Grade     173106 non-null  object\n",
      " 9   Gender              173106 non-null  object\n",
      "dtypes: object(10)\n",
      "memory usage: 13.2+ MB\n",
      "<class 'pandas.core.frame.DataFrame'>\n",
      "RangeIndex: 54 entries, 0 to 53\n",
      "Data columns (total 2 columns):\n",
      " #   Column       Non-Null Count  Dtype \n",
      "---  ------       --------------  ----- \n",
      " 0   Institution  54 non-null     object\n",
      " 1   Enrollment   54 non-null     int64 \n",
      "dtypes: int64(1), object(1)\n",
      "memory usage: 992.0+ bytes\n"
     ]
    }
   ],
   "source": [
    "#Checking variables and null values\n",
    "df_attendance.info()\n",
    "df_enrollment.info()"
   ]
  },
  {
   "attachments": {},
   "cell_type": "markdown",
   "metadata": {},
   "source": [
    "The variables Institution, Data, Attendance Per Day, Subjects, Absence Type, and Institution Class have nulls values"
   ]
  },
  {
   "attachments": {},
   "cell_type": "markdown",
   "metadata": {},
   "source": [
    "It is noted that the date variable must be in date format and not in object format."
   ]
  },
  {
   "cell_type": "code",
   "execution_count": 7,
   "metadata": {},
   "outputs": [
    {
     "name": "stdout",
     "output_type": "stream",
     "text": [
      "datetime64[ns]\n"
     ]
    }
   ],
   "source": [
    "# Change the format of 'Date' column\n",
    "df_attendance['Date']= pd.to_datetime(df_attendance['Date'])\n",
    "print(df_attendance['Date'].dtypes)\n"
   ]
  },
  {
   "cell_type": "markdown",
   "metadata": {},
   "source": [
    "### Variables analysis"
   ]
  },
  {
   "attachments": {},
   "cell_type": "markdown",
   "metadata": {},
   "source": [
    "**The spreadsheets did not came with a dictionary.** \n",
    "\n",
    "The variables will be analyzed in order to understand each one and their relationship with each other."
   ]
  },
  {
   "attachments": {},
   "cell_type": "markdown",
   "metadata": {},
   "source": [
    "**Recommendation**: The Ministry of Education should provide dictionaries of the databases because our interpretation could be inaccurate.  "
   ]
  },
  {
   "attachments": {},
   "cell_type": "markdown",
   "metadata": {},
   "source": [
    "#### Analyzing the enrollment"
   ]
  },
  {
   "cell_type": "code",
   "execution_count": 8,
   "metadata": {},
   "outputs": [
    {
     "data": {
      "image/png": "[encoded data removed]",
      "text/plain": [
       "<Figure size 432x288 with 1 Axes>"
      ]
     },
     "metadata": {
      "needs_background": "light"
     },
     "output_type": "display_data"
    }
   ],
   "source": [
    "# Analyzing the enrollment\n",
    "df_enrollment['Enrollment'].hist(bins=10) \n",
    "plt.xlabel(\"Enrollment\")\n",
    "plt.ylabel(\"Institution\")\n",
    "plt.rcParams['figure.figsize'] = [5,5] \n",
    "plt.show()"
   ]
  },
  {
   "cell_type": "code",
   "execution_count": 9,
   "metadata": {},
   "outputs": [
    {
     "data": {
      "text/html": [
       "<div>\n",
       "<style scoped>\n",
       "    .dataframe tbody tr th:only-of-type {\n",
       "        vertical-align: middle;\n",
       "    }\n",
       "\n",
       "    .dataframe tbody tr th {\n",
       "        vertical-align: top;\n",
       "    }\n",
       "\n",
       "    .dataframe thead th {\n",
       "        text-align: right;\n",
       "    }\n",
       "</style>\n",
       "<table border=\"1\" class=\"dataframe\">\n",
       "  <thead>\n",
       "    <tr style=\"text-align: right;\">\n",
       "      <th></th>\n",
       "      <th>count</th>\n",
       "      <th>mean</th>\n",
       "      <th>std</th>\n",
       "      <th>min</th>\n",
       "      <th>25%</th>\n",
       "      <th>50%</th>\n",
       "      <th>75%</th>\n",
       "      <th>max</th>\n",
       "    </tr>\n",
       "  </thead>\n",
       "  <tbody>\n",
       "    <tr>\n",
       "      <th>Enrollment</th>\n",
       "      <td>54.00</td>\n",
       "      <td>481.61</td>\n",
       "      <td>346.94</td>\n",
       "      <td>1.00</td>\n",
       "      <td>70.75</td>\n",
       "      <td>539.00</td>\n",
       "      <td>722.75</td>\n",
       "      <td>1230.00</td>\n",
       "    </tr>\n",
       "  </tbody>\n",
       "</table>\n",
       "</div>"
      ],
      "text/plain": [
       "            count    mean     std   min    25%     50%     75%      max\n",
       "Enrollment  54.00  481.61  346.94  1.00  70.75  539.00  722.75  1230.00"
      ]
     },
     "execution_count": 9,
     "metadata": {},
     "output_type": "execute_result"
    }
   ],
   "source": [
    "# Analyzing some statistics of enrollment\n",
    "df_enrollment.describe().T.apply(lambda s: s.apply('{0:.2f}'.format))"
   ]
  },
  {
   "cell_type": "code",
   "execution_count": 10,
   "metadata": {},
   "outputs": [],
   "source": [
    "# A categorical variable is created to deepen the analysis of attendance.\n",
    "df_enrollment['School_size'] = pd.cut(x=df_enrollment['Enrollment'], bins=[0, 500, 1230], \n",
    "                                labels=['small institution','non-small institution'])"
   ]
  },
  {
   "cell_type": "code",
   "execution_count": 11,
   "metadata": {},
   "outputs": [
    {
     "data": {
      "text/html": [
       "<div>\n",
       "<style scoped>\n",
       "    .dataframe tbody tr th:only-of-type {\n",
       "        vertical-align: middle;\n",
       "    }\n",
       "\n",
       "    .dataframe tbody tr th {\n",
       "        vertical-align: top;\n",
       "    }\n",
       "\n",
       "    .dataframe thead th {\n",
       "        text-align: right;\n",
       "    }\n",
       "</style>\n",
       "<table border=\"1\" class=\"dataframe\">\n",
       "  <thead>\n",
       "    <tr style=\"text-align: right;\">\n",
       "      <th></th>\n",
       "      <th>Institution</th>\n",
       "      <th>Enrollment</th>\n",
       "      <th>School_size</th>\n",
       "    </tr>\n",
       "  </thead>\n",
       "  <tbody>\n",
       "    <tr>\n",
       "      <th>0</th>\n",
       "      <td>Jamaica</td>\n",
       "      <td>887</td>\n",
       "      <td>non-small institution</td>\n",
       "    </tr>\n",
       "    <tr>\n",
       "      <th>1</th>\n",
       "      <td>Malaui</td>\n",
       "      <td>135</td>\n",
       "      <td>small institution</td>\n",
       "    </tr>\n",
       "    <tr>\n",
       "      <th>2</th>\n",
       "      <td>Mauricio</td>\n",
       "      <td>483</td>\n",
       "      <td>small institution</td>\n",
       "    </tr>\n",
       "    <tr>\n",
       "      <th>3</th>\n",
       "      <td>Guinea</td>\n",
       "      <td>1230</td>\n",
       "      <td>non-small institution</td>\n",
       "    </tr>\n",
       "    <tr>\n",
       "      <th>4</th>\n",
       "      <td>Yemen</td>\n",
       "      <td>53</td>\n",
       "      <td>small institution</td>\n",
       "    </tr>\n",
       "  </tbody>\n",
       "</table>\n",
       "</div>"
      ],
      "text/plain": [
       "  Institution  Enrollment            School_size\n",
       "0     Jamaica         887  non-small institution\n",
       "1      Malaui         135      small institution\n",
       "2    Mauricio         483      small institution\n",
       "3      Guinea        1230  non-small institution\n",
       "4       Yemen          53      small institution"
      ]
     },
     "execution_count": 11,
     "metadata": {},
     "output_type": "execute_result"
    }
   ],
   "source": [
    "df_enrollment.head()"
   ]
  },
  {
   "attachments": {},
   "cell_type": "markdown",
   "metadata": {},
   "source": [
    "The enrollment database needs to have cut-off date information. If the data needs to be updated, more or fewer students could be enrolled since enrollment is not constant. Outdated information could affect the estimation of attendance ratios.\n",
    "\n",
    "**Recommendation**: Include the information's cut-off date, which should be close to the attendance information."
   ]
  },
  {
   "attachments": {},
   "cell_type": "markdown",
   "metadata": {},
   "source": [
    "#### Analyzing the attendance"
   ]
  },
  {
   "cell_type": "code",
   "execution_count": 12,
   "metadata": {},
   "outputs": [
    {
     "name": "stderr",
     "output_type": "stream",
     "text": [
      "C:\\Users\\COORDI~1\\AppData\\Local\\Temp/ipykernel_16692/1503815828.py:2: FutureWarning: Treating datetime data as categorical rather than numeric in `.describe` is deprecated and will be removed in a future version of pandas. Specify `datetime_is_numeric=True` to silence this warning and adopt the future behavior now.\n",
      "  df_attendance.describe()\n"
     ]
    },
    {
     "data": {
      "text/html": [
       "<div>\n",
       "<style scoped>\n",
       "    .dataframe tbody tr th:only-of-type {\n",
       "        vertical-align: middle;\n",
       "    }\n",
       "\n",
       "    .dataframe tbody tr th {\n",
       "        vertical-align: top;\n",
       "    }\n",
       "\n",
       "    .dataframe thead th {\n",
       "        text-align: right;\n",
       "    }\n",
       "</style>\n",
       "<table border=\"1\" class=\"dataframe\">\n",
       "  <thead>\n",
       "    <tr style=\"text-align: right;\">\n",
       "      <th></th>\n",
       "      <th>Student ID</th>\n",
       "      <th>Student</th>\n",
       "      <th>Institution</th>\n",
       "      <th>Date</th>\n",
       "      <th>Attendance Per Day</th>\n",
       "      <th>Subjects</th>\n",
       "      <th>Absence Type</th>\n",
       "      <th>Institution Class</th>\n",
       "      <th>Education Grade</th>\n",
       "      <th>Gender</th>\n",
       "    </tr>\n",
       "  </thead>\n",
       "  <tbody>\n",
       "    <tr>\n",
       "      <th>count</th>\n",
       "      <td>173106</td>\n",
       "      <td>173106</td>\n",
       "      <td>173052</td>\n",
       "      <td>173106</td>\n",
       "      <td>65155</td>\n",
       "      <td>97415</td>\n",
       "      <td>136352</td>\n",
       "      <td>173027</td>\n",
       "      <td>173106</td>\n",
       "      <td>173106</td>\n",
       "    </tr>\n",
       "    <tr>\n",
       "      <th>unique</th>\n",
       "      <td>38665</td>\n",
       "      <td>21359</td>\n",
       "      <td>146</td>\n",
       "      <td>85</td>\n",
       "      <td>2</td>\n",
       "      <td>3949</td>\n",
       "      <td>3</td>\n",
       "      <td>1134</td>\n",
       "      <td>28</td>\n",
       "      <td>2</td>\n",
       "    </tr>\n",
       "    <tr>\n",
       "      <th>top</th>\n",
       "      <td>83W1601496548T</td>\n",
       "      <td>Shaon</td>\n",
       "      <td>Senegal</td>\n",
       "      <td>2022-08-29 00:00:00</td>\n",
       "      <td>Period 1 (Morning)</td>\n",
       "      <td>Grammar and Usage</td>\n",
       "      <td>Absence - Unexcused</td>\n",
       "      <td>Grade 7-A</td>\n",
       "      <td>Grade 8</td>\n",
       "      <td>Male</td>\n",
       "    </tr>\n",
       "    <tr>\n",
       "      <th>freq</th>\n",
       "      <td>16</td>\n",
       "      <td>411</td>\n",
       "      <td>8112</td>\n",
       "      <td>11639</td>\n",
       "      <td>33092</td>\n",
       "      <td>3177</td>\n",
       "      <td>102647</td>\n",
       "      <td>2193</td>\n",
       "      <td>22355</td>\n",
       "      <td>87188</td>\n",
       "    </tr>\n",
       "    <tr>\n",
       "      <th>first</th>\n",
       "      <td>NaN</td>\n",
       "      <td>NaN</td>\n",
       "      <td>NaN</td>\n",
       "      <td>2022-01-09 00:00:00</td>\n",
       "      <td>NaN</td>\n",
       "      <td>NaN</td>\n",
       "      <td>NaN</td>\n",
       "      <td>NaN</td>\n",
       "      <td>NaN</td>\n",
       "      <td>NaN</td>\n",
       "    </tr>\n",
       "    <tr>\n",
       "      <th>last</th>\n",
       "      <td>NaN</td>\n",
       "      <td>NaN</td>\n",
       "      <td>NaN</td>\n",
       "      <td>2023-02-01 00:00:00</td>\n",
       "      <td>NaN</td>\n",
       "      <td>NaN</td>\n",
       "      <td>NaN</td>\n",
       "      <td>NaN</td>\n",
       "      <td>NaN</td>\n",
       "      <td>NaN</td>\n",
       "    </tr>\n",
       "  </tbody>\n",
       "</table>\n",
       "</div>"
      ],
      "text/plain": [
       "            Student ID Student Institution                 Date  \\\n",
       "count           173106  173106      173052               173106   \n",
       "unique           38665   21359         146                   85   \n",
       "top     83W1601496548T   Shaon     Senegal  2022-08-29 00:00:00   \n",
       "freq                16     411        8112                11639   \n",
       "first              NaN     NaN         NaN  2022-01-09 00:00:00   \n",
       "last               NaN     NaN         NaN  2023-02-01 00:00:00   \n",
       "\n",
       "        Attendance Per Day           Subjects         Absence Type  \\\n",
       "count                65155              97415               136352   \n",
       "unique                   2               3949                    3   \n",
       "top     Period 1 (Morning)  Grammar and Usage  Absence - Unexcused   \n",
       "freq                 33092               3177               102647   \n",
       "first                  NaN                NaN                  NaN   \n",
       "last                   NaN                NaN                  NaN   \n",
       "\n",
       "       Institution Class Education Grade  Gender  \n",
       "count             173027          173106  173106  \n",
       "unique              1134              28       2  \n",
       "top            Grade 7-A         Grade 8    Male  \n",
       "freq                2193           22355   87188  \n",
       "first                NaN             NaN     NaN  \n",
       "last                 NaN             NaN     NaN  "
      ]
     },
     "execution_count": 12,
     "metadata": {},
     "output_type": "execute_result"
    }
   ],
   "source": [
    "#Summary of attendance variables\n",
    "df_attendance.describe()"
   ]
  },
  {
   "cell_type": "code",
   "execution_count": 13,
   "metadata": {},
   "outputs": [
    {
     "data": {
      "text/plain": [
       "Senegal           8112\n",
       "Guinea            6884\n",
       "Jamaica           6710\n",
       "Níger             6422\n",
       "Argelia           6280\n",
       "                  ... \n",
       "Vietnam             16\n",
       "Uzbekistán          14\n",
       "Timor Oriental      10\n",
       "Azerbaiyán          10\n",
       "Bulgaria             8\n",
       "Name: Institution, Length: 146, dtype: int64"
      ]
     },
     "execution_count": 13,
     "metadata": {},
     "output_type": "execute_result"
    }
   ],
   "source": [
    "df_attendance['Institution'].value_counts()"
   ]
  },
  {
   "attachments": {},
   "cell_type": "markdown",
   "metadata": {},
   "source": [
    "\"Institution\" appears in both bases. It identifies a unique institution and will be used as a key variable for the join."
   ]
  },
  {
   "cell_type": "code",
   "execution_count": 14,
   "metadata": {},
   "outputs": [
    {
     "data": {
      "text/plain": [
       "Period 1 (Morning)      33092\n",
       "Period 2 (Afternoon)    32063\n",
       "Name: Attendance Per Day, dtype: int64"
      ]
     },
     "execution_count": 14,
     "metadata": {},
     "output_type": "execute_result"
    }
   ],
   "source": [
    "#Values of Attendance per day\n",
    "df_attendance['Attendance Per Day'].value_counts()"
   ]
  },
  {
   "cell_type": "code",
   "execution_count": 15,
   "metadata": {},
   "outputs": [
    {
     "data": {
      "text/plain": [
       "Absence - Unexcused    102647\n",
       "Absence - Excused       31255\n",
       "Late                     2450\n",
       "Name: Absence Type, dtype: int64"
      ]
     },
     "execution_count": 15,
     "metadata": {},
     "output_type": "execute_result"
    }
   ],
   "source": [
    "#Values of Absence Type\n",
    "df_attendance['Absence Type'].value_counts()"
   ]
  },
  {
   "cell_type": "code",
   "execution_count": 16,
   "metadata": {},
   "outputs": [
    {
     "data": {
      "text/plain": [
       "Male      87188\n",
       "Female    85918\n",
       "Name: Gender, dtype: int64"
      ]
     },
     "execution_count": 16,
     "metadata": {},
     "output_type": "execute_result"
    }
   ],
   "source": [
    "#Values of Gender\n",
    "df_attendance['Gender'].value_counts()"
   ]
  },
  {
   "cell_type": "code",
   "execution_count": 17,
   "metadata": {},
   "outputs": [
    {
     "data": {
      "text/plain": [
       "(array([0, 1, 2]),\n",
       " [Text(0, 0, 'Absence - Unexcused'),\n",
       "  Text(1, 0, 'Absence - Excused'),\n",
       "  Text(2, 0, 'Late')])"
      ]
     },
     "execution_count": 17,
     "metadata": {},
     "output_type": "execute_result"
    },
    {
     "data": {
      "image/png": "[encoded data removed]",
      "text/plain": [
       "<Figure size 360x360 with 1 Axes>"
      ]
     },
     "metadata": {},
     "output_type": "display_data"
    }
   ],
   "source": [
    "# Analizando la variable que representa el Tarjet del negocio (FlagAdj)\n",
    "\n",
    "\n",
    "sns.set_style('whitegrid')\n",
    "ax=sns.countplot(x='Absence Type',data=df_attendance,palette='RdBu_r')\n",
    "\n",
    "plt.xticks(size=12)\n",
    "\n",
    "#without_hue(ax,data.Absence Type)"
   ]
  },
  {
   "cell_type": "code",
   "execution_count": 18,
   "metadata": {},
   "outputs": [
    {
     "data": {
      "text/plain": [
       "<AxesSubplot:xlabel='count', ylabel='Education Grade'>"
      ]
     },
     "execution_count": 18,
     "metadata": {},
     "output_type": "execute_result"
    },
    {
     "data": {
      "image/png": "[encoded data removed]",
      "text/plain": [
       "<Figure size 360x360 with 1 Axes>"
      ]
     },
     "metadata": {},
     "output_type": "display_data"
    }
   ],
   "source": [
    "# Education Grade\n",
    "sns.set_style('whitegrid')\n",
    "sns.countplot(y='Education Grade',data=df_attendance,palette='RdBu_r')"
   ]
  },
  {
   "cell_type": "code",
   "execution_count": 19,
   "metadata": {},
   "outputs": [
    {
     "data": {
      "text/plain": [
       "Grade 8                       22355\n",
       "Grade 7                       22076\n",
       "Grade 9                       20848\n",
       "Grade 11                      19791\n",
       "Grade 10                      18941\n",
       "Grade 12                      17919\n",
       "Grade 6                        8754\n",
       "Grade 5                        8578\n",
       "Grade 4                        8203\n",
       "Grade 1                        7828\n",
       "Grade 3                        7377\n",
       "Grade 2                        7123\n",
       "Preschool L2                   1717\n",
       "Preschool L1                    792\n",
       "Primary Special Teachable       354\n",
       "Senior Special Teachable        110\n",
       "Primary Special Trainable       110\n",
       "Senior Special Trainable         98\n",
       "Senior Prevocational 11          36\n",
       "Preschool L1 SP                  25\n",
       "Senior Prevocational 10          22\n",
       "Senior Prevocational 12          16\n",
       "Junior Prevocational 7           11\n",
       "Preschool L2 SP                   9\n",
       "Junior Special Level I            6\n",
       "Junior Prevocational 9            4\n",
       "Junior Special Trainable          2\n",
       "Junior Special Trainable 2        1\n",
       "Name: Education Grade, dtype: int64"
      ]
     },
     "execution_count": 19,
     "metadata": {},
     "output_type": "execute_result"
    }
   ],
   "source": [
    "#Values of Gender\n",
    "df_attendance['Education Grade'].value_counts()"
   ]
  },
  {
   "attachments": {},
   "cell_type": "markdown",
   "metadata": {},
   "source": [
    "Reviewing information from (1) the [Bahamas government website](https://www.bahamas.gov.bs/wps/portal/public/gov/government/contacts/agencies/government%20departments/department%20of%20education/!ut/p/b1/vZTJbqNAEIafZR7AodnhyNosBmxo1osFxgtgDAo7Tz925hKNlMxoNEnXqaW_6qv_PxSWYBGW3NOxuKR90dzT2_OfMAcSQEsQKM6CNGCA7u-2wo7VCE6lsRCL3BjMcmNNshKOVePPUo2b8QnMsQIdNhf9SkEXfpxwppcNliT5LTsaKCluS-_YKBsCB-6M6Van9nDPrWUUh7ZZxdaVsxO0iiQMuV6DbY3LEYSRskaHYrm71ha4hhF1vHoO7DN0by1_1cvTIh-oTQ73471s2YIlyItGgNmeRcmRxjiSM05rOSEPCkuffjzMxQ9z4IMngD95_9X_gcCh_rL_3_khlnwmedvgTfAZ4tMJJoHFDwH7ToACAHQcCK6H7wHn0hjCIkAdvHJp9bVa3RJMOCp1oltFGyAfoFILbL9abT6xkZzsAMANhAIbKa1py4nZ9fIuD1xfFKSh9CXld6BDIP4BlHDG9GngQeKrgZB2uEcELNoJNAGA9O1A_KuA0LH20jNSJD4jJTVNYLYkB6jvBjL_HWhgSZHVL9OxfgEvBA9oDudIhmABR9BYUMbULHf624UChV_mYUzkF2o_FAKZ573uucvt2m37owt10dvXO5LnzwifjkarLj0dx3yOZ75zDruDQaiDeUKQCETG0gJxzzahxSeL2lUyeTUGwVqz-aSxt_mS8nZieXN_7azo1dWTqdkA0VTwDV5lKJdVb1qaND3TDJypFBbgaNwd5TAnEdMeZx_P1EmN50dewIqq47zNheCmVRHXlReyYC_j6yBsNr73yp1lgSJRBB4Xzdaa-oS19WiaW8bV1uhdnYSfJq7tDA!!/dl4/d5/L2dBISEvZ0FBIS9nQSEh/#:~:text=Education%20and%20Technical%20and%20Vocational%20Training%2C%20Ministry%20of&text=The%20primary%20level%20covers%20grades,(grades%2010%20-%2012)) and (2) a [UNESCO report on education in the Bahamas](http://www.ibe.unesco.org/fileadmin/user_upload/Inclusive_Education/Reports/kingston_07/bahamas_inclusion_07.pdf), a grade grouping variable can be created by levels. \n",
    "\n",
    "**From (1) Department of Education:**\n",
    "\n",
    "> *Schools are categorized as follows:* \n",
    "\n",
    "> *Pre-School 4 to 5 years*\n",
    "\n",
    "> *Primary 5 to 11+ years*\n",
    "\n",
    "> *Junior High 11+ to 14+ years*\n",
    "\n",
    "> *Senior High 14+ to 16+ years*\n",
    "\n",
    "> *All - Age 5+ to 16+ years*\n",
    "\n",
    "> *Special Schools All ages, catering to students having severe learning disabilities*\n",
    "\n",
    "**From (2) UNESCO report:**\n",
    "\n",
    "![Imagen](educ_system.png)\n",
    "\n"
   ]
  },
  {
   "cell_type": "code",
   "execution_count": 20,
   "metadata": {},
   "outputs": [],
   "source": [
    "df_attendance['Grade level']=df_attendance['Education Grade']"
   ]
  },
  {
   "cell_type": "code",
   "execution_count": 21,
   "metadata": {},
   "outputs": [],
   "source": [
    "df_attendance.loc[df_attendance['Education Grade']=='Grade 11', 'Grade level'] = \"Secondary\""
   ]
  },
  {
   "cell_type": "code",
   "execution_count": 24,
   "metadata": {},
   "outputs": [],
   "source": [
    "df_attendance.loc[df_attendance['Education Grade']=='Preschool L1', 'Grade level'] = \"Pre-school\"\n",
    "df_attendance.loc[df_attendance['Education Grade']=='Preschool L1 SP', 'Grade level'] = \"Pre-school\"\n",
    "df_attendance.loc[df_attendance['Education Grade']=='Preschool L2', 'Grade level'] = \"Pre-school\"\n",
    "df_attendance.loc[df_attendance['Education Grade']=='Preschool L2 SP', 'Grade level'] = \"Pre-school\"\n",
    "\n",
    "df_attendance.loc[df_attendance['Education Grade']=='Grade 1', 'Grade level'] = \"Primary\"\n",
    "df_attendance.loc[df_attendance['Education Grade']=='Grade 2', 'Grade level'] = \"Primary\"\n",
    "df_attendance.loc[df_attendance['Education Grade']=='Grade 3', 'Grade level'] = \"Primary\"\n",
    "df_attendance.loc[df_attendance['Education Grade']=='Grade 4', 'Grade level'] = \"Primary\"\n",
    "df_attendance.loc[df_attendance['Education Grade']=='Grade 5', 'Grade level'] = \"Primary\"\n",
    "df_attendance.loc[df_attendance['Education Grade']=='Grade 6', 'Grade level'] = \"Primary\"\n",
    "\n",
    "df_attendance.loc[df_attendance['Education Grade']=='Grade 7', 'Grade level'] = \"Secondary\"\n",
    "df_attendance.loc[df_attendance['Education Grade']=='Grade 8', 'Grade level'] = \"Secondary\"\n",
    "df_attendance.loc[df_attendance['Education Grade']=='Grade 9', 'Grade level'] = \"Secondary\"\n",
    "df_attendance.loc[df_attendance['Education Grade']=='Grade 10', 'Grade level'] = \"Secondary\"\n",
    "df_attendance.loc[df_attendance['Education Grade']=='Grade 11', 'Grade level'] = \"Secondary\"\n",
    "df_attendance.loc[df_attendance['Education Grade']=='Grade 12', 'Grade level'] = \"Secondary\"\n",
    "\n",
    "df_attendance.loc[df_attendance['Education Grade']=='Primary Special Teachable', 'Grade level'] = \"Special\"\n",
    "df_attendance.loc[df_attendance['Education Grade']=='Primary Special Trainable', 'Grade level'] = \"Special\"\n",
    "df_attendance.loc[df_attendance['Education Grade']=='Senior Special Teachable', 'Grade level'] = \"Special\"\n",
    "df_attendance.loc[df_attendance['Education Grade']=='Senior Special Trainable', 'Grade level'] = \"Special\"\n",
    "df_attendance.loc[df_attendance['Education Grade']=='Junior Special Level I', 'Grade level'] = \"Special\"\n",
    "df_attendance.loc[df_attendance['Education Grade']=='Junior Special Trainable', 'Grade level'] = \"Special\"\n",
    "df_attendance.loc[df_attendance['Education Grade']=='Junior Special Trainable 2', 'Grade level'] = \"Special\"\n",
    "\n",
    "df_attendance.loc[df_attendance['Education Grade']=='Junior Prevocational 7', 'Grade level'] = \"Secondary\"\n",
    "df_attendance.loc[df_attendance['Education Grade']=='Junior Prevocational 9', 'Grade level'] = \"Secondary\"\n",
    "df_attendance.loc[df_attendance['Education Grade']=='Senior Prevocational 10', 'Grade level'] = \"Secondary\"\n",
    "df_attendance.loc[df_attendance['Education Grade']=='Senior Prevocational 11', 'Grade level'] = \"Secondary\"\n",
    "df_attendance.loc[df_attendance['Education Grade']=='Senior Prevocational 12', 'Grade level'] = \"Secondary\"\n",
    "\n",
    "df_attendance.loc[df_attendance['Education Grade'].isnull(), 'Grade level'] = \"NaN\"\n"
   ]
  },
  {
   "cell_type": "code",
   "execution_count": null,
   "metadata": {},
   "outputs": [],
   "source": [
    "df_attendance.loc[df_attendance['Education Grade']==pd.isnull, 'Grade level'] = \"NaN\""
   ]
  },
  {
   "cell_type": "code",
   "execution_count": 25,
   "metadata": {},
   "outputs": [
    {
     "data": {
      "text/html": [
       "<div>\n",
       "<style scoped>\n",
       "    .dataframe tbody tr th:only-of-type {\n",
       "        vertical-align: middle;\n",
       "    }\n",
       "\n",
       "    .dataframe tbody tr th {\n",
       "        vertical-align: top;\n",
       "    }\n",
       "\n",
       "    .dataframe thead th {\n",
       "        text-align: right;\n",
       "    }\n",
       "</style>\n",
       "<table border=\"1\" class=\"dataframe\">\n",
       "  <thead>\n",
       "    <tr style=\"text-align: right;\">\n",
       "      <th></th>\n",
       "      <th>Student ID</th>\n",
       "      <th>Student</th>\n",
       "      <th>Institution</th>\n",
       "      <th>Date</th>\n",
       "      <th>Attendance Per Day</th>\n",
       "      <th>Subjects</th>\n",
       "      <th>Absence Type</th>\n",
       "      <th>Institution Class</th>\n",
       "      <th>Education Grade</th>\n",
       "      <th>Gender</th>\n",
       "      <th>Grade level</th>\n",
       "    </tr>\n",
       "  </thead>\n",
       "  <tbody>\n",
       "    <tr>\n",
       "      <th>0</th>\n",
       "      <td>83W2407401136T</td>\n",
       "      <td>Reyon</td>\n",
       "      <td>Angola</td>\n",
       "      <td>2022-09-14</td>\n",
       "      <td>NaN</td>\n",
       "      <td>Civics - 11G</td>\n",
       "      <td>NaN</td>\n",
       "      <td>Grade 11-G - Thurston &amp; Wright</td>\n",
       "      <td>Grade 11</td>\n",
       "      <td>Male</td>\n",
       "      <td>Secondary</td>\n",
       "    </tr>\n",
       "    <tr>\n",
       "      <th>1</th>\n",
       "      <td>83W2407401136T</td>\n",
       "      <td>Reyon</td>\n",
       "      <td>Angola</td>\n",
       "      <td>2022-09-22</td>\n",
       "      <td>NaN</td>\n",
       "      <td>English Language- Gibson/K. Cooper</td>\n",
       "      <td>Absence - Unexcused</td>\n",
       "      <td>Grade 11-G - Thurston &amp; Wright</td>\n",
       "      <td>Grade 11</td>\n",
       "      <td>Male</td>\n",
       "      <td>Secondary</td>\n",
       "    </tr>\n",
       "    <tr>\n",
       "      <th>2</th>\n",
       "      <td>83W2407401136T</td>\n",
       "      <td>Reyon</td>\n",
       "      <td>Angola</td>\n",
       "      <td>2022-04-10</td>\n",
       "      <td>Period 1 (Morning)</td>\n",
       "      <td>NaN</td>\n",
       "      <td>Absence - Unexcused</td>\n",
       "      <td>Grade 11-G - Thurston &amp; Wright</td>\n",
       "      <td>Grade 11</td>\n",
       "      <td>Male</td>\n",
       "      <td>Secondary</td>\n",
       "    </tr>\n",
       "    <tr>\n",
       "      <th>3</th>\n",
       "      <td>83W2407401136T</td>\n",
       "      <td>Reyon</td>\n",
       "      <td>Angola</td>\n",
       "      <td>2022-04-10</td>\n",
       "      <td>Period 2 (Afternoon)</td>\n",
       "      <td>NaN</td>\n",
       "      <td>Absence - Unexcused</td>\n",
       "      <td>Grade 11-G - Thurston &amp; Wright</td>\n",
       "      <td>Grade 11</td>\n",
       "      <td>Male</td>\n",
       "      <td>Secondary</td>\n",
       "    </tr>\n",
       "    <tr>\n",
       "      <th>4</th>\n",
       "      <td>83W2407401136T</td>\n",
       "      <td>Reyon</td>\n",
       "      <td>Angola</td>\n",
       "      <td>2022-04-10</td>\n",
       "      <td>NaN</td>\n",
       "      <td>Mathematics- Daniels</td>\n",
       "      <td>Absence - Excused</td>\n",
       "      <td>Grade 11-G - Thurston &amp; Wright</td>\n",
       "      <td>Grade 11</td>\n",
       "      <td>Male</td>\n",
       "      <td>Secondary</td>\n",
       "    </tr>\n",
       "    <tr>\n",
       "      <th>...</th>\n",
       "      <td>...</td>\n",
       "      <td>...</td>\n",
       "      <td>...</td>\n",
       "      <td>...</td>\n",
       "      <td>...</td>\n",
       "      <td>...</td>\n",
       "      <td>...</td>\n",
       "      <td>...</td>\n",
       "      <td>...</td>\n",
       "      <td>...</td>\n",
       "      <td>...</td>\n",
       "    </tr>\n",
       "    <tr>\n",
       "      <th>173101</th>\n",
       "      <td>83W2741860321T</td>\n",
       "      <td>Wiler</td>\n",
       "      <td>Canadá</td>\n",
       "      <td>2022-12-10</td>\n",
       "      <td>NaN</td>\n",
       "      <td>Creative Arts</td>\n",
       "      <td>NaN</td>\n",
       "      <td>Preschool L2-Gilbert</td>\n",
       "      <td>Preschool L2</td>\n",
       "      <td>Male</td>\n",
       "      <td>Pre-school</td>\n",
       "    </tr>\n",
       "    <tr>\n",
       "      <th>173102</th>\n",
       "      <td>83W2741860322T</td>\n",
       "      <td>StuST</td>\n",
       "      <td>Tayikistán</td>\n",
       "      <td>2022-09-27</td>\n",
       "      <td>Period 1 (Morning)</td>\n",
       "      <td>NaN</td>\n",
       "      <td>Late</td>\n",
       "      <td>Grade 4 Wells</td>\n",
       "      <td>Grade 4</td>\n",
       "      <td>Male</td>\n",
       "      <td>Primary</td>\n",
       "    </tr>\n",
       "    <tr>\n",
       "      <th>173103</th>\n",
       "      <td>83W2741860325T</td>\n",
       "      <td>Samce</td>\n",
       "      <td>Panamá</td>\n",
       "      <td>2022-12-10</td>\n",
       "      <td>NaN</td>\n",
       "      <td>Grammar and Usage</td>\n",
       "      <td>NaN</td>\n",
       "      <td>Grade 3-Ra</td>\n",
       "      <td>Grade 3</td>\n",
       "      <td>Female</td>\n",
       "      <td>Primary</td>\n",
       "    </tr>\n",
       "    <tr>\n",
       "      <th>173104</th>\n",
       "      <td>83W2741860326T</td>\n",
       "      <td>Prion</td>\n",
       "      <td>Chile</td>\n",
       "      <td>2022-08-29</td>\n",
       "      <td>Period 2 (Afternoon)</td>\n",
       "      <td>NaN</td>\n",
       "      <td>NaN</td>\n",
       "      <td>Preschool Unit Three</td>\n",
       "      <td>Preschool L2</td>\n",
       "      <td>Female</td>\n",
       "      <td>Pre-school</td>\n",
       "    </tr>\n",
       "    <tr>\n",
       "      <th>173105</th>\n",
       "      <td>83W2741860328T</td>\n",
       "      <td>Lialy</td>\n",
       "      <td>Corea Del Norte</td>\n",
       "      <td>2022-11-21</td>\n",
       "      <td>NaN</td>\n",
       "      <td>Physical Education</td>\n",
       "      <td>Absence - Unexcused</td>\n",
       "      <td>Preschool L2-A</td>\n",
       "      <td>Preschool L2</td>\n",
       "      <td>Male</td>\n",
       "      <td>Pre-school</td>\n",
       "    </tr>\n",
       "  </tbody>\n",
       "</table>\n",
       "<p>173106 rows × 11 columns</p>\n",
       "</div>"
      ],
      "text/plain": [
       "            Student ID Student      Institution       Date  \\\n",
       "0       83W2407401136T   Reyon           Angola 2022-09-14   \n",
       "1       83W2407401136T   Reyon           Angola 2022-09-22   \n",
       "2       83W2407401136T   Reyon           Angola 2022-04-10   \n",
       "3       83W2407401136T   Reyon           Angola 2022-04-10   \n",
       "4       83W2407401136T   Reyon           Angola 2022-04-10   \n",
       "...                ...     ...              ...        ...   \n",
       "173101  83W2741860321T   Wiler           Canadá 2022-12-10   \n",
       "173102  83W2741860322T   StuST       Tayikistán 2022-09-27   \n",
       "173103  83W2741860325T   Samce           Panamá 2022-12-10   \n",
       "173104  83W2741860326T   Prion            Chile 2022-08-29   \n",
       "173105  83W2741860328T   Lialy  Corea Del Norte 2022-11-21   \n",
       "\n",
       "          Attendance Per Day                            Subjects  \\\n",
       "0                        NaN                        Civics - 11G   \n",
       "1                        NaN  English Language- Gibson/K. Cooper   \n",
       "2         Period 1 (Morning)                                 NaN   \n",
       "3       Period 2 (Afternoon)                                 NaN   \n",
       "4                        NaN                Mathematics- Daniels   \n",
       "...                      ...                                 ...   \n",
       "173101                   NaN                       Creative Arts   \n",
       "173102    Period 1 (Morning)                                 NaN   \n",
       "173103                   NaN                   Grammar and Usage   \n",
       "173104  Period 2 (Afternoon)                                 NaN   \n",
       "173105                   NaN                  Physical Education   \n",
       "\n",
       "               Absence Type               Institution Class Education Grade  \\\n",
       "0                       NaN  Grade 11-G - Thurston & Wright        Grade 11   \n",
       "1       Absence - Unexcused  Grade 11-G - Thurston & Wright        Grade 11   \n",
       "2       Absence - Unexcused  Grade 11-G - Thurston & Wright        Grade 11   \n",
       "3       Absence - Unexcused  Grade 11-G - Thurston & Wright        Grade 11   \n",
       "4         Absence - Excused  Grade 11-G - Thurston & Wright        Grade 11   \n",
       "...                     ...                             ...             ...   \n",
       "173101                  NaN            Preschool L2-Gilbert    Preschool L2   \n",
       "173102                 Late                   Grade 4 Wells         Grade 4   \n",
       "173103                  NaN                      Grade 3-Ra         Grade 3   \n",
       "173104                  NaN            Preschool Unit Three    Preschool L2   \n",
       "173105  Absence - Unexcused                  Preschool L2-A    Preschool L2   \n",
       "\n",
       "        Gender Grade level  \n",
       "0         Male   Secondary  \n",
       "1         Male   Secondary  \n",
       "2         Male   Secondary  \n",
       "3         Male   Secondary  \n",
       "4         Male   Secondary  \n",
       "...        ...         ...  \n",
       "173101    Male  Pre-school  \n",
       "173102    Male     Primary  \n",
       "173103  Female     Primary  \n",
       "173104  Female  Pre-school  \n",
       "173105    Male  Pre-school  \n",
       "\n",
       "[173106 rows x 11 columns]"
      ]
     },
     "execution_count": 25,
     "metadata": {},
     "output_type": "execute_result"
    }
   ],
   "source": [
    "df_attendance"
   ]
  },
  {
   "cell_type": "code",
   "execution_count": 26,
   "metadata": {},
   "outputs": [
    {
     "data": {
      "text/plain": [
       "<AxesSubplot:xlabel='count', ylabel='Grade level'>"
      ]
     },
     "execution_count": 26,
     "metadata": {},
     "output_type": "execute_result"
    },
    {
     "data": {
      "image/png": "[encoded data removed]",
      "text/plain": [
       "<Figure size 360x360 with 1 Axes>"
      ]
     },
     "metadata": {},
     "output_type": "display_data"
    }
   ],
   "source": [
    "# Grade level\n",
    "sns.set_style('whitegrid')\n",
    "sns.countplot(y='Grade level',data=df_attendance,palette='RdBu_r')"
   ]
  },
  {
   "attachments": {},
   "cell_type": "markdown",
   "metadata": {},
   "source": [
    "**Attendance dictionary created from observation:**\n",
    "\n",
    "Student ID: ID code that identifies a student.\n",
    "\n",
    "Student: First name of the student.\n",
    "\n",
    "Institution: The institution's name, in this case, is based on the name of the countries.\n",
    "\n",
    "Date: Date of attendance record.\n",
    "\n",
    "Attendance Per Day: Attendance period in morning (period 1) or afternoon (period 2).\n",
    "\n",
    "Subjects: The subject matter of the attendance record.\n",
    "\n",
    "Absence Type: Type of absence excused or unexcused.\n",
    "\n",
    "Institution Class: name of student's class or section including grade level\n",
    "\n",
    "Education Grade: Student's educational level.\n",
    "\n",
    "Gender: Gender of the student (Male or Female).\n",
    "\n",
    "**Enrollment dictionary created from observation:**\n",
    "\n",
    "Institution: The institution's name, in this case, is based on the name of the countries. (Will be use to merge dataframes)\n",
    "\n",
    "Enrollment: The number of students enrolled."
   ]
  },
  {
   "attachments": {},
   "cell_type": "markdown",
   "metadata": {},
   "source": [
    "## 2. Diagnosis of the country’s current attendance and attendance rates"
   ]
  },
  {
   "attachments": {},
   "cell_type": "markdown",
   "metadata": {},
   "source": [
    "You must explain your calculation methods."
   ]
  },
  {
   "cell_type": "code",
   "execution_count": null,
   "metadata": {},
   "outputs": [],
   "source": []
  },
  {
   "cell_type": "code",
   "execution_count": null,
   "metadata": {},
   "outputs": [],
   "source": []
  },
  {
   "cell_type": "code",
   "execution_count": null,
   "metadata": {},
   "outputs": [],
   "source": []
  },
  {
   "cell_type": "code",
   "execution_count": null,
   "metadata": {},
   "outputs": [],
   "source": []
  },
  {
   "cell_type": "code",
   "execution_count": null,
   "metadata": {},
   "outputs": [],
   "source": []
  },
  {
   "attachments": {},
   "cell_type": "markdown",
   "metadata": {},
   "source": [
    "## 3. Assessment of the country’s current attendance and attendance rates evolution"
   ]
  },
  {
   "attachments": {},
   "cell_type": "markdown",
   "metadata": {},
   "source": [
    "Include some hypotheses to explain the country’s attendance and attendance trends and justify them using descriptive methods."
   ]
  },
  {
   "cell_type": "code",
   "execution_count": null,
   "metadata": {},
   "outputs": [],
   "source": []
  },
  {
   "cell_type": "code",
   "execution_count": null,
   "metadata": {},
   "outputs": [],
   "source": []
  },
  {
   "cell_type": "code",
   "execution_count": null,
   "metadata": {},
   "outputs": [],
   "source": []
  },
  {
   "cell_type": "code",
   "execution_count": null,
   "metadata": {},
   "outputs": [],
   "source": []
  },
  {
   "cell_type": "code",
   "execution_count": null,
   "metadata": {},
   "outputs": [],
   "source": []
  },
  {
   "attachments": {},
   "cell_type": "markdown",
   "metadata": {},
   "source": [
    "## 4. Estimated attendance and attendance trajectory"
   ]
  },
  {
   "attachments": {},
   "cell_type": "markdown",
   "metadata": {},
   "source": [
    "Justify the methodology used in the estimation and specify the bias assumed with the methodology chosen and justify the choice.\n"
   ]
  },
  {
   "cell_type": "markdown",
   "metadata": {},
   "source": []
  }
 ],
 "metadata": {
  "kernelspec": {
   "display_name": "base",
   "language": "python",
   "name": "python3"
  },
  "language_info": {
   "codemirror_mode": {
    "name": "ipython",
    "version": 3
   },
   "file_extension": ".py",
   "mimetype": "text/x-python",
   "name": "python",
   "nbconvert_exporter": "python",
   "pygments_lexer": "ipython3",
   "version": "3.9.7"
  },
  "orig_nbformat": 4,
  "vscode": {
   "interpreter": {
    "hash": "3e5f92fc0f7c5faadae7e5189891a4b2cb4a3d30123d8e217b328b9b83fc2902"
   }
  }
 },
 "nbformat": 4,
 "nbformat_minor": 2
}
