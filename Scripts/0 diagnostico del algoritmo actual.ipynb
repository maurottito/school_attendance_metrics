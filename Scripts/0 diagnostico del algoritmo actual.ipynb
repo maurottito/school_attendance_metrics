{
 "cells": [
  {
   "cell_type": "markdown",
   "id": "ffdee3c3",
   "metadata": {},
   "source": [
    "# Diagnostico de los resultados del algortimo"
   ]
  },
  {
   "cell_type": "code",
   "execution_count": 1,
   "id": "28987de9",
   "metadata": {},
   "outputs": [],
   "source": [
    "#importamos librerias\n",
    "import pandas as pd\n",
    "from pathlib import Path"
   ]
  },
  {
   "cell_type": "code",
   "execution_count": 2,
   "id": "ac944500",
   "metadata": {},
   "outputs": [],
   "source": [
    "work =  Path(r'D:\\Trabajo\\AITeacherAllocation')"
   ]
  },
  {
   "cell_type": "code",
   "execution_count": 3,
   "id": "ab0d873a",
   "metadata": {},
   "outputs": [
    {
     "name": "stderr",
     "output_type": "stream",
     "text": [
      "C:\\Users\\USUARIO\\AppData\\Local\\Packages\\PythonSoftwareFoundation.Python.3.10_qbz5n2kfra8p0\\LocalCache\\local-packages\\Python310\\site-packages\\pandas\\io\\stata.py:1514: UnicodeWarning: \n",
      "One or more strings in the dta file could not be decoded using utf-8, and\n",
      "so the fallback encoding of latin-1 is being used.  This can happen when a file\n",
      "has been incorrectly encoded by Stata or some other software. You should verify\n",
      "the string values returned are correct.\n",
      "  warnings.warn(msg, UnicodeWarning)\n"
     ]
    }
   ],
   "source": [
    "racio_2021 = pd.read_stata(work/r'Raw Data\\\\Racio 2021.dta')\n",
    "#padron_gg1 = pd.read_stata(work/r'Raw Data\\\\Padron GG1.dta')"
   ]
  },
  {
   "cell_type": "code",
   "execution_count": 5,
   "id": "c662a9d1",
   "metadata": {},
   "outputs": [
    {
     "data": {
      "text/html": [
       "<div>\n",
       "<style scoped>\n",
       "    .dataframe tbody tr th:only-of-type {\n",
       "        vertical-align: middle;\n",
       "    }\n",
       "\n",
       "    .dataframe tbody tr th {\n",
       "        vertical-align: top;\n",
       "    }\n",
       "\n",
       "    .dataframe thead th {\n",
       "        text-align: right;\n",
       "    }\n",
       "</style>\n",
       "<table border=\"1\" class=\"dataframe\">\n",
       "  <thead>\n",
       "    <tr style=\"text-align: right;\">\n",
       "      <th>es_pre_evaluado</th>\n",
       "      <th>0</th>\n",
       "      <th>1</th>\n",
       "    </tr>\n",
       "    <tr>\n",
       "      <th>aprobado</th>\n",
       "      <th></th>\n",
       "      <th></th>\n",
       "    </tr>\n",
       "  </thead>\n",
       "  <tbody>\n",
       "    <tr>\n",
       "      <th>MINEDU</th>\n",
       "      <td>20952</td>\n",
       "      <td>9349</td>\n",
       "    </tr>\n",
       "    <tr>\n",
       "      <th>UGEL</th>\n",
       "      <td>24</td>\n",
       "      <td>33862</td>\n",
       "    </tr>\n",
       "  </tbody>\n",
       "</table>\n",
       "</div>"
      ],
      "text/plain": [
       "es_pre_evaluado      0      1\n",
       "aprobado                     \n",
       "MINEDU           20952   9349\n",
       "UGEL                24  33862"
      ]
     },
     "execution_count": 5,
     "metadata": {},
     "output_type": "execute_result"
    }
   ],
   "source": [
    "pd.crosstab(racio_2021['aprobado'],racio_2021['es_pre_evaluado'])"
   ]
  },
  {
   "cell_type": "code",
   "execution_count": 22,
   "id": "7719d328",
   "metadata": {},
   "outputs": [
    {
     "name": "stdout",
     "output_type": "stream",
     "text": [
      "La aceptaacion del algoritmo fue: 0.7836430538520284\n"
     ]
    }
   ],
   "source": [
    "print('La aceptaacion del algoritmo fue:', (33862)/(33862+9349)) "
   ]
  },
  {
   "cell_type": "code",
   "execution_count": 20,
   "id": "efd0640a",
   "metadata": {},
   "outputs": [
    {
     "name": "stdout",
     "output_type": "stream",
     "text": [
      "Lo que evaluaron los racionalizadores fue el: 0.472447691900229\n"
     ]
    }
   ],
   "source": [
    "print('Lo que evaluaron los racionalizadores fue el:', (20976+9349)/racio_2021.shape[0]) "
   ]
  },
  {
   "cell_type": "code",
   "execution_count": 21,
   "id": "e827e907",
   "metadata": {},
   "outputs": [
    {
     "name": "stdout",
     "output_type": "stream",
     "text": [
      "Lo que se envio a pre evaluacion fue el: 0.6732048545655662\n"
     ]
    }
   ],
   "source": [
    "print('Lo que se envio a pre evaluacion fue el:', (33862+9349)/racio_2021.shape[0])"
   ]
  },
  {
   "cell_type": "code",
   "execution_count": 23,
   "id": "d15f6c45",
   "metadata": {},
   "outputs": [
    {
     "name": "stdout",
     "output_type": "stream",
     "text": [
      "los racio en el 2021 evaluaron:  30325\n"
     ]
    }
   ],
   "source": [
    "print('los racio en el 2021 evaluaron: ', 20952+24+9349)"
   ]
  }
 ],
 "metadata": {
  "kernelspec": {
   "display_name": "Python 3.10.5 64-bit (windows store)",
   "language": "python",
   "name": "python3"
  },
  "language_info": {
   "codemirror_mode": {
    "name": "ipython",
    "version": 3
   },
   "file_extension": ".py",
   "mimetype": "text/x-python",
   "name": "python",
   "nbconvert_exporter": "python",
   "pygments_lexer": "ipython3",
   "version": "3.10.6"
  },
  "vscode": {
   "interpreter": {
    "hash": "3282607f385ea6f15702157e2a823b97e47a25ad58852c02230532c044fb265d"
   }
  }
 },
 "nbformat": 4,
 "nbformat_minor": 5
}
