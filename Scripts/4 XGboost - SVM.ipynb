{
 "cells": [
  {
   "cell_type": "markdown",
   "id": "9d105b04",
   "metadata": {},
   "source": [
    "# <center> Modelos supervisados XGBoost y SVM<center>"
   ]
  },
  {
   "cell_type": "markdown",
   "id": "29450628",
   "metadata": {},
   "source": [
    "**Proyecto:**\n",
    "Modelos supervisados\n",
    "\n",
    "**Autor:**\n",
    "Carlos Ramírez - Coordinación de plazas y remuneraciones - Racionalización\n",
    "\n",
    "**Revisión y modificaciones:**\n",
    "Nombre - Coordinación de analítica de datos\n",
    "\n",
    "**Fecha de última modificación:**\n",
    "10.08.2022\n",
    "\n",
    "\n",
    "<hr style=\"height:2px;border-width:0;color:black;background-color:black\">"
   ]
  },
  {
   "cell_type": "markdown",
   "id": "c2be2839",
   "metadata": {},
   "source": [
    "## 0. Importación librerías y definición de funciones"
   ]
  },
  {
   "cell_type": "markdown",
   "id": "b1f710e7",
   "metadata": {},
   "source": [
    "Instalar previamente la librería de xgboost, mayor información revisar el siguiente [link](https://xgboost.readthedocs.io/en/stable/install.html)\n",
    "\n",
    "Blog de interés XGBoost\n",
    "- [Hiperparámetros](https://towardsdatascience.com/a-guide-to-xgboost-hyperparameters-87980c7f44a9)\n",
    "\n",
    "Blog de interés SVM\n",
    "- [SVM](https://towardsdatascience.com/support-vector-machine-python-example-d67d9b63f1c8#:~:text=Support%20Vector%20Machine%20(SVM)%20is,straight%20line%20between%20two%20classes.)"
   ]
  },
  {
   "cell_type": "code",
   "execution_count": 1,
   "id": "7395e59b",
   "metadata": {},
   "outputs": [],
   "source": [
    "# Instalar XGBoost si no se encuentra disponible\n",
    "#pip install xgboost"
   ]
  },
  {
   "cell_type": "code",
   "execution_count": 2,
   "id": "55b557c2",
   "metadata": {},
   "outputs": [],
   "source": [
    "import pandas as pd\n",
    "import numpy as np\n",
    "import math\n",
    "import seaborn as sns\n",
    "import matplotlib.pyplot as plt\n",
    "import matplotlib.ticker as ticker\n",
    "import base64\n",
    "import gc\n",
    "import xgboost as xgb\n",
    "from sklearn.svm import SVC\n",
    "from sklearn.metrics import accuracy_score\n",
    "from sklearn.preprocessing import StandardScaler"
   ]
  },
  {
   "cell_type": "code",
   "execution_count": 3,
   "id": "1c1fd852",
   "metadata": {},
   "outputs": [],
   "source": [
    "# Onedrive url para descargar archivos\n",
    "\n",
    "def create_onedrive_directdownload (onedrive_link):\n",
    "    data_bytes64 = base64.b64encode(bytes(onedrive_link, 'utf-8'))\n",
    "    data_bytes64_String = data_bytes64.decode('utf-8').replace('/','_').replace('+','-').rstrip(\"=\")\n",
    "    resultUrl = f\"https://api.onedrive.com/v1.0/shares/u!{data_bytes64_String}/root/content\"\n",
    "    return resultUrl"
   ]
  },
  {
   "cell_type": "markdown",
   "id": "6f39ea4b",
   "metadata": {},
   "source": [
    "## 1. Preparación base de datos"
   ]
  },
  {
   "cell_type": "code",
   "execution_count": 4,
   "id": "7a3108a6",
   "metadata": {},
   "outputs": [],
   "source": [
    "# Importamos base csv - train\n",
    "onedrive_link_train = \"https://1drv.ms/u/s!AodhAFTTDqU02wuv2mkPBKGILXcR?e=CcroYu\"\n",
    "onedrive_directdownload_train = create_onedrive_directdownload(onedrive_link_train)\n",
    "\n",
    "df_train=pd.read_csv(onedrive_directdownload_train)\n",
    "df_train=df_train.loc[:, ~df_train.columns.str.contains('^Unnamed')]\n",
    "\n",
    "# Importamos base csv - test\n",
    "onedrive_link_test = \"https://1drv.ms/u/s!AodhAFTTDqU02mV2CVCE3C20RUrs?e=Aynct8\"\n",
    "onedrive_directdownload_test = create_onedrive_directdownload(onedrive_link_test)\n",
    "\n",
    "df_test=pd.read_csv(onedrive_directdownload_test)\n",
    "df_test = df_test.loc[:, ~df_test.columns.str.contains('^Unnamed')]"
   ]
  },
  {
   "cell_type": "code",
   "execution_count": 5,
   "id": "edeb3e45",
   "metadata": {},
   "outputs": [],
   "source": [
    "# Codificamos variables categóricas a numéricas en train y test\n",
    "my_dataframes = {'df_train': df_train, 'df_test': df_test}\n",
    "\n",
    "for df_name, df in my_dataframes.items():\n",
    "    # ruralidad\n",
    "    df['cod_ruralidad'] = 0\n",
    "    df.loc[df['ruralidad']=='Rural 1', 'cod_ruralidad'] = 1\n",
    "    df.loc[df['ruralidad']=='Rural 2', 'cod_ruralidad'] = 2\n",
    "    df.loc[df['ruralidad']=='Rural 3', 'cod_ruralidad'] = 3\n",
    "    \n",
    "    # VRAEM\n",
    "    df['cod_vraem'] = 0\n",
    "    df.loc[df['vraem']=='Vraem', 'cod_vraem'] = 1    \n",
    "    \n",
    "    # Frontera\n",
    "    df['cod_frontera'] = 0\n",
    "    df.loc[df['frontera']=='Frontera', 'cod_frontera'] = 1\n",
    "\n",
    "    # Bilingüe\n",
    "    df['cod_bilingue'] = 0\n",
    "    df.loc[df['bilingue']=='Bilingue', 'cod_bilingue'] = 1  \n",
    "    \n",
    "    # Característica\n",
    "    df['cod_caracteristica'] = 0\n",
    "    df.loc[df['caracteristica']=='Unidocente', 'cod_caracteristica'] = 1\n",
    "    df.loc[df['caracteristica']=='Multigrado', 'cod_caracteristica'] = 2\n",
    "    \n",
    "    # Nivel\n",
    "    df['cod_nivel'] = 0\n",
    "    df.loc[df['d_niv_mod']=='Inicial - Jardin', 'cod_nivel'] = 1\n",
    "    df.loc[df['d_niv_mod']=='Primaria', 'cod_nivel'] = 2\n",
    "       "
   ]
  },
  {
   "cell_type": "code",
   "execution_count": 6,
   "id": "84d7f7fa",
   "metadata": {},
   "outputs": [],
   "source": [
    "#Eliminamos variables no numéricas\n",
    "df_train = df_train.drop(['nlat_ie', 'nlong_ie', 'ubigeo', 'codooii', 'd_niv_mod', 'ruralidad', 'vraem',\n",
    "                          'frontera', 'bilingue', 'caracteristica', 'd_prov', 'd_dreugel', 'kfold'], axis=1)\n",
    "\n",
    "df_test = df_test.drop(['nlat_ie', 'nlong_ie', 'ubigeo', 'codooii', 'd_niv_mod', 'ruralidad', 'vraem',\n",
    "                          'frontera', 'bilingue', 'caracteristica', 'd_prov', 'd_dreugel'], axis=1) "
   ]
  },
  {
   "cell_type": "markdown",
   "id": "2571fd6a",
   "metadata": {},
   "source": [
    "## 2. Especificación train y test - XGBoost"
   ]
  },
  {
   "cell_type": "code",
   "execution_count": 7,
   "id": "c5e0a6d8",
   "metadata": {},
   "outputs": [],
   "source": [
    "# Se especifica variables explicativas, target para el train y test\n",
    "# En este caso nosotros estamos calculando \n",
    "X_train = df_train.drop(['secciones_necesarias'], axis=1)\n",
    "Y_train = df_train['secciones_necesarias']\n",
    "x_test = df_test.drop(['secciones_necesarias'], axis=1) \n",
    "y_test = df_test['secciones_necesarias']\n",
    "\n",
    "# Guardamos las bases \n",
    "dtrain = xgb.DMatrix(X_train, label = Y_train)\n",
    "dtest = xgb.DMatrix(x_test, label = y_test)"
   ]
  },
  {
   "cell_type": "code",
   "execution_count": 8,
   "id": "26cb7b17",
   "metadata": {},
   "outputs": [],
   "source": [
    "params = {\n",
    "    'max_depth': 3,\n",
    "    'eta': 0.3\n",
    "}\n",
    "epochs = 10\n",
    "\n",
    "# train model\n",
    "model = xgb.train(params, dtrain, epochs)\n",
    "# prediction\n",
    "y_pred = model.predict(dtest)\n",
    "y_pred = np.round(model.predict(dtest))"
   ]
  },
  {
   "cell_type": "code",
   "execution_count": 9,
   "id": "b50eb208",
   "metadata": {},
   "outputs": [],
   "source": [
    "comparativo = pd.DataFrame(y_pred, y_test)"
   ]
  },
  {
   "cell_type": "code",
   "execution_count": 10,
   "id": "01e17c7f",
   "metadata": {},
   "outputs": [
    {
     "data": {
      "text/plain": [
       "0.6746205259541508"
      ]
     },
     "execution_count": 10,
     "metadata": {},
     "output_type": "execute_result"
    }
   ],
   "source": [
    "accuracy_score(y_test, y_pred)"
   ]
  },
  {
   "cell_type": "markdown",
   "id": "08ba802c",
   "metadata": {},
   "source": [
    "## 3. Especificación train y test - SVM"
   ]
  },
  {
   "cell_type": "code",
   "execution_count": 11,
   "id": "53535aa3",
   "metadata": {},
   "outputs": [],
   "source": [
    "df_train = df_train.dropna(how='any')\n",
    "df_test = df_test.dropna(how='any')\n",
    "\n",
    "X_train_SVM = df_train.drop(['secciones_necesarias'], axis=1)\n",
    "Y_train_SVM = df_train['secciones_necesarias']\n",
    "X_test_SVM = df_test.drop(['secciones_necesarias'], axis=1) \n",
    "y_test_SVM = df_test['secciones_necesarias']\n",
    "\n"
   ]
  },
  {
   "cell_type": "code",
   "execution_count": null,
   "id": "4fa8feec",
   "metadata": {},
   "outputs": [],
   "source": [
    "svclassifier = SVC(kernel='poly', degree=8)\n",
    "svclassifier.fit(X_train_SVM, Y_train_SVM)"
   ]
  },
  {
   "cell_type": "code",
   "execution_count": null,
   "id": "a2688f4c",
   "metadata": {},
   "outputs": [],
   "source": [
    "y_pred = svclassifier.predict(X_test_SVM)\n",
    "print(confusion_matrix(X_test_SVM, y_pred))\n",
    "print(classification_report(X_test_SVM, y_pred))"
   ]
  },
  {
   "cell_type": "code",
   "execution_count": null,
   "id": "1a5a4a38",
   "metadata": {},
   "outputs": [],
   "source": [
    "accuracy_score(y_test_SVM, y_pred)"
   ]
  }
 ],
 "metadata": {
  "kernelspec": {
   "display_name": "Python 3 (ipykernel)",
   "language": "python",
   "name": "python3"
  },
  "language_info": {
   "codemirror_mode": {
    "name": "ipython",
    "version": 3
   },
   "file_extension": ".py",
   "mimetype": "text/x-python",
   "name": "python",
   "nbconvert_exporter": "python",
   "pygments_lexer": "ipython3",
   "version": "3.9.7"
  }
 },
 "nbformat": 4,
 "nbformat_minor": 5
}
