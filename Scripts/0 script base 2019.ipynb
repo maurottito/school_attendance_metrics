{
  "nbformat": 4,
  "nbformat_minor": 0,
  "metadata": {
    "colab": {
      "name": "Base 2019.ipynb",
      "provenance": [],
      "collapsed_sections": []
    },
    "kernelspec": {
      "name": "python3",
      "display_name": "Python 3"
    },
    "language_info": {
      "name": "python"
    }
  },
  "cells": [
    {
      "cell_type": "code",
      "source": [
        "from google.colab import drive\n",
        "drive.mount('/content/drive/', force_remount=True)"
      ],
      "metadata": {
        "colab": {
          "base_uri": "https://localhost:8080/"
        },
        "id": "4kemC7vBSp-S",
        "outputId": "308f5490-3f9e-46e1-c339-d47398b97a44"
      },
      "execution_count": 1,
      "outputs": [
        {
          "output_type": "stream",
          "name": "stdout",
          "text": [
            "Mounted at /content/drive/\n"
          ]
        }
      ]
    },
    {
      "cell_type": "code",
      "source": [
        "#Import libraries\n",
        "import pandas as pd\n",
        "from pathlib import Path\n",
        "pd.options.mode.chained_assignment = None"
      ],
      "metadata": {
        "id": "PqHW4z-sTcDy"
      },
      "execution_count": 2,
      "outputs": []
    },
    {
      "cell_type": "code",
      "source": [
        "#Set files path\n",
        "work =  Path(r'/content/drive/MyDrive/Minedu/AI teacher allocation')"
      ],
      "metadata": {
        "id": "oLV5msVHUBgh"
      },
      "execution_count": 3,
      "outputs": []
    },
    {
      "cell_type": "code",
      "source": [
        "racio_2019 = pd.read_stata(work/r'Raw Data/Racio 2019.dta')\n",
        "df_padron = pd.read_stata(r'/content/drive/MyDrive/Minedu/Oficio equipo racio/Insumos/Padron GG1.dta')"
      ],
      "metadata": {
        "colab": {
          "base_uri": "https://localhost:8080/"
        },
        "id": "TSa2in1DWaQH",
        "outputId": "68b068d8-be30-45a9-e98b-cbc227995ff8"
      },
      "execution_count": 5,
      "outputs": [
        {
          "output_type": "stream",
          "name": "stderr",
          "text": [
            "/usr/local/lib/python3.7/dist-packages/pandas/io/stata.py:1457: UnicodeWarning: \n",
            "One or more strings in the dta file could not be decoded using utf-8, and\n",
            "so the fallback encoding of latin-1 is being used.  This can happen when a file\n",
            "has been incorrectly encoded by Stata or some other software. You should verify\n",
            "the string values returned are correct.\n",
            "  warnings.warn(msg, UnicodeWarning)\n"
          ]
        }
      ]
    },
    {
      "cell_type": "code",
      "source": [
        "#Mantenemos las variables de interés del Padrón GG1\n",
        "\n",
        "racio_2019 = racio_2019.drop(columns=['niv_mod', 'd_niv_mod', 'gestion', 'd_gestion', 'ges_dep','d_dreugel', \n",
        "                                      'd_ges_dep', 'ubigeo', 'estado', 'd_estado', 'region', 'jec'])\n",
        "\n",
        "df_padron = df_padron[['cod_mod', 'anexo', 'niv_mod', 'd_niv_mod','gestion',\n",
        "             'd_gestion','ges_dep','d_ges_dep','ubigeo','d_dpto','d_prov',\n",
        "             'd_dist','d_region','codooii','d_dreugel','nlat_ie','nlong_ie',\n",
        "             'estado','d_estado','region','tipo_entidad','jec_2019', \n",
        "             'rural_upp_2019', 'vraem_upp_2019', 'fron_upp_2019', 'bilin_upp_2019', 'tipie_upp_2019',\n",
        "             'cant0_alum_2015', 'cant1_alum_2015', 'cant2_alum_2015', 'cant3_alum_2015', 'cant4_alum_2015', 'cant5_alum_2015', 'cant6_alum_2015',\n",
        "             'cant0_inclusivo_2015', 'cant1_inclusivo_2015','cant2_inclusivo_2015', 'cant3_inclusivo_2015','cant4_inclusivo_2015', 'cant5_inclusivo_2015', 'cant6_inclusivo_2015',\n",
        "             'cant0_alum_2016', 'cant1_alum_2016', 'cant2_alum_2016', 'cant3_alum_2016', 'cant4_alum_2016', 'cant5_alum_2016', 'cant6_alum_2016',\n",
        "             'cant0_inclusivo_2016', 'cant1_inclusivo_2016','cant2_inclusivo_2016', 'cant3_inclusivo_2016','cant4_inclusivo_2016', 'cant5_inclusivo_2016', 'cant6_inclusivo_2016',\n",
        "             'cant0_alum_2017', 'cant1_alum_2017', 'cant2_alum_2017', 'cant3_alum_2017', 'cant4_alum_2017', 'cant5_alum_2017', 'cant6_alum_2017',\n",
        "             'cant0_inclusivo_2017', 'cant1_inclusivo_2017','cant2_inclusivo_2017', 'cant3_inclusivo_2017','cant4_inclusivo_2017', 'cant5_inclusivo_2017', 'cant6_inclusivo_2017',\n",
        "             'cant0_alum_2018', 'cant1_alum_2018', 'cant2_alum_2018', 'cant3_alum_2018', 'cant4_alum_2018', 'cant5_alum_2018', 'cant6_alum_2018',\n",
        "             'cant0_inclusivo_2018', 'cant1_inclusivo_2018','cant2_inclusivo_2018', 'cant3_inclusivo_2018','cant4_inclusivo_2018', 'cant5_inclusivo_2018', 'cant6_inclusivo_2018']]\n",
        "\n",
        "df_padron.rename(columns={'rural_upp_2019':'ruralidad',\n",
        "                          'vraem_upp_2019':'vraem',\n",
        "                          'fron_upp_2019':'frontera',\n",
        "                          'bilin_upp_2019':'bilingue',\n",
        "                          'tipie_upp_2019':'caracteristica',\n",
        "                          'jec_2019':'jec'},inplace=True)\n",
        "\n",
        "racio_2019['anexo'] = \"0\"\n",
        "racio_2019 = racio_2019.merge(df_padron, on=['cod_mod', 'anexo'], how='left')\n",
        "\n",
        "racio_2019.rename(columns={'dir_req': 'req_dir',\n",
        "                          'sdir_req': 'req_sub',\n",
        "                          'jer_req': 'req_jer',\n",
        "                          'doc_req': 'req_prof',\n",
        "                          'aux_req': 'req_aux',\n",
        "                          'nsecc_mod2': 'secciones_necesarias'},inplace=True)"
      ],
      "metadata": {
        "id": "jfaPZeftTTCQ"
      },
      "execution_count": 6,
      "outputs": []
    },
    {
      "cell_type": "code",
      "source": [
        "#Renombramos las variables de interés\n",
        "\n",
        "racio_2019 = racio_2019.rename(columns={'gdir_no': 'dir_des_org', \n",
        "                                        'gdir_co': 'dir_con_org', \n",
        "                                        'gsdir_no': 'sub_dir_des_org', \n",
        "                                        'gsdir_co': 'sub_dir_con_org', \n",
        "                                        'jer_no': 'jer_nom_org',\n",
        "                                        'jer_co': 'jer_con_org',\n",
        "                                        'doc_no': 'doc_nom_org', \n",
        "                                        'doc_co': 'doc_con_org', \n",
        "                                        'aux_no': 'aux_nom_org',\n",
        "                                        'aux_co': 'aux_con_org',\n",
        "                                        'gdir_nv': 'dir_des_ev',\n",
        "                                        'gdir_cv': 'dir_con_ev',\n",
        "                                        'gsdir_nv': 'sub_dir_des_ev', \n",
        "                                        'gsdir_cv': 'sub_dir_con_ev', \n",
        "                                        'jer_nv': 'jer_nom_ev',\n",
        "                                        'jer_cv': 'jer_con_ev',\n",
        "                                        'doc_nv': 'doc_nom_ev', \n",
        "                                        'doc_cv': 'doc_con_ev',\n",
        "                                        'aux_nv': 'aux_nom_ev',\n",
        "                                        'aux_cv': 'aux_con_ev'})\n",
        "\n",
        "racio_2019 = racio_2019.rename(columns={'gdirneo': 'dir_des_exc_org', \n",
        "                                        'gdirceo': 'dir_con_exc_org', \n",
        "                                        'gsdirneo': 'sub_dir_des_exc_org', \n",
        "                                        'gsdirceo': 'sub_dir_con_exc_org', \n",
        "                                        'jer_n_eo': 'jer_nom_exc_org',\n",
        "                                        'jer_c_eo': 'jer_con_exc_org',\n",
        "                                        'doc_n_eo': 'doc_nom_exc_org', \n",
        "                                        'doc_c_eo': 'doc_con_exc_org', \n",
        "                                        'aux_n_eo': 'aux_nom_exc_org',\n",
        "                                        'aux_c_eo': 'aux_con_exc_org',\n",
        "                                        'gdirnev': 'dir_des_exc_ev',\n",
        "                                        'gdircev': 'dir_con_exc_ev',\n",
        "                                        'gsdirnev': 'sub_dir_des_exc_ev', \n",
        "                                        'gsdircev': 'sub_dir_con_exc_ev', \n",
        "                                        'jer_n_ev': 'jer_nom_exc_ev',\n",
        "                                        'jer_c_ev': 'jer_con_exc_ev',\n",
        "                                        'doc_n_ev': 'doc_nom_exc_ev', \n",
        "                                        'doc_c_ev': 'doc_con_exc_ev',\n",
        "                                        'aux_n_ev': 'aux_nom_exc_ev',\n",
        "                                        'aux_c_ev': 'aux_con_exc_ev'})\n",
        "\n",
        "racio_2019 = racio_2019.rename(columns={'bolsa_s': 'bolsa_sira',\n",
        "                                        'bolsa_n': 'bolsa_nexus',\n",
        "                                        'codlocal': 'cod_local'})"
      ],
      "metadata": {
        "id": "7zDORxEI8Q4X"
      },
      "execution_count": 7,
      "outputs": []
    },
    {
      "cell_type": "code",
      "source": [
        "#Generamos formato de rezagos 4 años\n",
        "\n",
        "for grado in ['0', '1', '2', '3', '4', '5', '6']:\n",
        "  racio_2019 = racio_2019.rename(columns={f'cant{grado}_alum': f'cant{grado} (t)'})\n",
        "\n",
        "# Generar \n",
        "lag = 0\n",
        "for anio in ['2018','2017','2016','2015']:\n",
        "  lag = lag + 1\n",
        "  for grado in ['0', '1', '2', '3', '4', '5', '6']:\n",
        "    racio_2019 = racio_2019.rename(columns={f'cant{grado}_alum_{anio}': f'cant{grado} (t-{lag})',\n",
        "                                            f'cant{grado}_inclusivo_{anio}': f'inclu{grado} (t-{lag})'})\n",
        "    "
      ],
      "metadata": {
        "id": "wxCzHRs77y1I"
      },
      "execution_count": 8,
      "outputs": []
    },
    {
      "cell_type": "code",
      "source": [
        "#Agrupamos las variables de interés\n",
        "\n",
        "## 2019\n",
        "for cargo in ['dir','sub_dir']:\n",
        "  racio_2019[f'{cargo}_nom'] = racio_2019[f'{cargo}_des_org'] + racio_2019[f'{cargo}_des_ev']\n",
        "  racio_2019[f'{cargo}_nom_exc'] = racio_2019[f'{cargo}_des_exc_org'] + racio_2019[f'{cargo}_des_exc_ev']\n",
        "  racio_2019[f'{cargo}_vac'] = racio_2019[f'{cargo}_con_org']  + racio_2019[f'{cargo}_con_ev']\n",
        "  racio_2019[f'{cargo}_vac_exc'] = racio_2019[f'{cargo}_con_exc_org']  + racio_2019[f'{cargo}_con_exc_ev']\n",
        "\n",
        "for cargo in ['jer','doc','aux']:\n",
        "  racio_2019[f'{cargo}_nom']=racio_2019[f'{cargo}_nom_org']+racio_2019[f'{cargo}_nom_ev']\n",
        "  racio_2019[f'{cargo}_nom_exc'] = racio_2019[f'{cargo}_nom_exc_org'] + racio_2019[f'{cargo}_nom_exc_ev']\n",
        "  racio_2019[f'{cargo}_vac']=racio_2019[f'{cargo}_con_org']+racio_2019[f'{cargo}_con_ev']\n",
        "  racio_2019[f'{cargo}_vac_exc'] = racio_2019[f'{cargo}_con_exc_org'] + racio_2019[f'{cargo}_con_exc_ev']"
      ],
      "metadata": {
        "id": "o6LuWXfbZPY9"
      },
      "execution_count": 9,
      "outputs": []
    },
    {
      "cell_type": "code",
      "source": [
        "for variable in ['doc_no_aula_n', 'doc_no_aula_c', 'cant0 (t)', 'inclu0 (t)', 'inclu1 (t)', 'inclu2 (t)', 'inclu3 (t)', 'inclu4 (t)', 'inclu5 (t)', 'inclu6 (t)', \n",
        "                 'usuario_minedu', 'req_fisica', 'req_aip']:\n",
        "  racio_2019[f'{variable}'] = 0\n",
        "\n",
        "racio_2019['year'] = 2019\n"
      ],
      "metadata": {
        "id": "EjfqYmUuw3fy"
      },
      "execution_count": 10,
      "outputs": []
    },
    {
      "cell_type": "code",
      "source": [
        "racio_2019 = racio_2019.rename(columns={'doc_nom_exc': 'doc_aula_exd_n',\n",
        "                                        'doc_vac_exc': 'doc_aula_exd_c', \n",
        "                                        'doc_nom':'doc_aula_n',\n",
        "                                        'doc_vac':'doc_aula_c',\n",
        "                                        'otro_doc_n':'doc_no_aula_n',\n",
        "                                        'otro_doc_c':'doc_no_aula_c',\n",
        "                                        'director_exd':'dir_exd',\n",
        "                                        'subdirector_exd':'sub_dir_exd',\n",
        "                                        'jerarquico_exd':'jer_exd',\n",
        "                                        'auxiliar_exd':'aux_exd'})\n",
        "\n",
        "\n",
        "racio_2019['otro_doc_exd'] = 0\n",
        "racio_2019['dir_exd'] = racio_2019['dir_nom_exc'] + racio_2019['dir_vac_exc']\n",
        "racio_2019['sub_dir_exd'] = racio_2019['sub_dir_nom_exc'] + racio_2019['sub_dir_vac_exc']\n",
        "racio_2019['jer_exd'] = racio_2019['jer_nom_exc'] + racio_2019['jer_vac_exc']\n",
        "racio_2019['aux_exd'] = racio_2019['aux_nom_exc'] + racio_2019['aux_vac_exc']\n",
        "\n",
        "\n",
        "\n"
      ],
      "metadata": {
        "id": "c0ekGMWDavoF"
      },
      "execution_count": 11,
      "outputs": []
    },
    {
      "cell_type": "code",
      "source": [
        "#Mantenemos las variables de interés para cada uno de los años\n",
        "\n",
        "lista_variables = ['cod_mod', 'cod_local', 'dir_nom', 'dir_vac', 'sub_dir_nom', 'sub_dir_vac', 'jer_nom', 'jer_vac', 'doc_aula_n', 'doc_aula_c',\n",
        "                   'doc_no_aula_n', 'doc_no_aula_c', 'aux_nom', 'aux_vac', 'cant0 (t)', 'cant1 (t)', 'cant2 (t)', 'cant3 (t)', 'cant4 (t)', 'cant5 (t)', 'cant6 (t)',\n",
        "                   'inclu0 (t)', 'inclu1 (t)', 'inclu2 (t)', 'inclu3 (t)', 'inclu4 (t)', 'inclu5 (t)', 'inclu6 (t)',\n",
        "                   'cant0 (t-1)', 'cant1 (t-1)', 'cant2 (t-1)', 'cant3 (t-1)', 'cant4 (t-1)', 'cant5 (t-1)', 'cant6 (t-1)',\n",
        "                   'inclu0 (t-1)', 'inclu1 (t-1)', 'inclu2 (t-1)', 'inclu3 (t-1)', 'inclu4 (t-1)', 'inclu5 (t-1)', 'inclu6 (t-1)',\n",
        "                   'cant0 (t-2)', 'cant1 (t-2)', 'cant2 (t-2)', 'cant3 (t-2)', 'cant4 (t-2)', 'cant5 (t-2)', 'cant6 (t-2)',\n",
        "                   'inclu0 (t-2)', 'inclu1 (t-2)', 'inclu2 (t-2)', 'inclu3 (t-2)', 'inclu4 (t-2)', 'inclu5 (t-2)', 'inclu6 (t-2)',\n",
        "                   'cant0 (t-3)', 'cant1 (t-3)', 'cant2 (t-3)', 'cant3 (t-3)', 'cant4 (t-3)', 'cant5 (t-3)', 'cant6 (t-3)',\n",
        "                   'inclu0 (t-3)', 'inclu1 (t-3)', 'inclu2 (t-3)', 'inclu3 (t-3)', 'inclu4 (t-3)', 'inclu5 (t-3)', 'inclu6 (t-3)',\n",
        "                   'cant0 (t-4)', 'cant1 (t-4)', 'cant2 (t-4)', 'cant3 (t-4)', 'cant4 (t-4)', 'cant5 (t-4)', 'cant6 (t-4)',    \n",
        "                   'inclu0 (t-4)', 'inclu1 (t-4)', 'inclu2 (t-4)', 'inclu3 (t-4)', 'inclu4 (t-4)', 'inclu5 (t-4)', 'inclu6 (t-4)',\n",
        "                   'usuario_minedu', 'bolsa_nexus', 'bolsa_sira', 'secciones_necesarias', 'req_dir', 'req_sub', 'req_jer', 'req_prof', 'req_aux', 'req_fisica', 'req_aip',\n",
        "                   'doc_aula_exd_n','doc_aula_exd_c','otro_doc_exd','dir_exd','sub_dir_exd','jer_exd','aux_exd',\n",
        "                   'niv_mod', 'd_niv_mod', 'gestion', 'd_gestion', 'ges_dep', 'd_ges_dep', 'ubigeo', 'd_dpto','d_prov','d_dist','d_region', 'codooii', 'd_dreugel', 'nlat_ie','nlong_ie','estado',\n",
        "                   'd_estado', 'region','tipo_entidad', 'jec', 'ruralidad', 'vraem', 'frontera','bilingue', 'caracteristica','year']\n",
        "\n",
        "racio_2019 = racio_2019[lista_variables]\n",
        "\n",
        "\n",
        "racio_2019.to_csv(r'/content/drive/MyDrive/Minedu/AI teacher allocation/Base 2019 act.csv')\n"
      ],
      "metadata": {
        "id": "JpTI0cFfBmOS"
      },
      "execution_count": 12,
      "outputs": []
    }
  ]
}